{
  "nbformat": 4,
  "nbformat_minor": 0,
  "metadata": {
    "colab": {
      "provenance": []
    },
    "kernelspec": {
      "name": "python3",
      "display_name": "Python 3"
    },
    "language_info": {
      "name": "python"
    }
  },
  "cells": [
    {
      "cell_type": "code",
      "source": [
        "from google.colab import drive\n",
        "drive.mount('/content/drive')"
      ],
      "metadata": {
        "colab": {
          "base_uri": "https://localhost:8080/"
        },
        "id": "CeOEwgwWwhz7",
        "outputId": "4a5bac50-d421-47ab-b55a-81c05cf73198"
      },
      "execution_count": null,
      "outputs": [
        {
          "output_type": "stream",
          "name": "stdout",
          "text": [
            "Mounted at /content/drive\n"
          ]
        }
      ]
    },
    {
      "cell_type": "code",
      "execution_count": null,
      "metadata": {
        "colab": {
          "base_uri": "https://localhost:8080/"
        },
        "id": "SgXO7pfry6l9",
        "outputId": "50b65450-bf9c-49ac-fc13-6c1ce4416260"
      },
      "outputs": [
        {
          "output_type": "stream",
          "name": "stdout",
          "text": [
            "/content/drive/MyDrive/NCKH Depression/Dataset\n",
            "'Education test.xlsx'   Family.xlsx\t  Love.xlsx\t   'Working test.xlsx'\n",
            " Education.xlsx         Intro.xlsx\t 'Self test.xlsx'   Working.xlsx\n",
            "'Family test.xlsx'     'Love test.xlsx'   Self.xlsx\n"
          ]
        }
      ],
      "source": [
        "%cd '/content/drive/MyDrive/NCKH Depression/Dataset'\n",
        "!ls"
      ]
    },
    {
      "cell_type": "code",
      "source": [
        "import pandas as pd\n",
        "import numpy as np\n",
        "import seaborn as sns\n",
        "import matplotlib.pyplot as plt\n",
        "from matplotlib import pyplot\n",
        "from sklearn.model_selection import train_test_split\n",
        "from sklearn.metrics import accuracy_score\n",
        "from sklearn.pipeline import Pipeline\n",
        "from sklearn.ensemble import RandomForestClassifier\n",
        "from sklearn.ensemble import GradientBoostingClassifier\n",
        "from sklearn.ensemble import ExtraTreesClassifier\n",
        "from sklearn.ensemble import AdaBoostClassifier\n",
        "from sklearn.preprocessing import StandardScaler\n",
        "from sklearn.model_selection import KFold\n",
        "from sklearn.model_selection import cross_val_score\n",
        "from sklearn.model_selection import GridSearchCV\n",
        "from sklearn.linear_model import LogisticRegression\n",
        "from sklearn.tree import DecisionTreeClassifier\n",
        "from sklearn.neighbors import KNeighborsClassifier\n",
        "from sklearn.svm import SVC\n",
        "from pandas import read_csv\n",
        "from pandas import set_option\n",
        "from sklearn.preprocessing import StandardScaler\n",
        "from sklearn.metrics import classification_report\n",
        "from sklearn.metrics import confusion_matrix\n",
        "from sklearn.discriminant_analysis import LinearDiscriminantAnalysis\n",
        "from sklearn.naive_bayes import GaussianNB"
      ],
      "metadata": {
        "id": "uiMTBTGazEAo"
      },
      "execution_count": null,
      "outputs": []
    },
    {
      "cell_type": "markdown",
      "source": [
        "# Step 1: Import, preprocess."
      ],
      "metadata": {
        "id": "3iaj8M8N5mKu"
      }
    },
    {
      "cell_type": "code",
      "source": [
        "data = pd.read_excel('Family.xlsx')\n",
        "data.head()"
      ],
      "metadata": {
        "colab": {
          "base_uri": "https://localhost:8080/",
          "height": 679
        },
        "id": "uBn6aN6szJV0",
        "outputId": "721b8d80-6ff7-4d86-df21-b5c54883a962"
      },
      "execution_count": null,
      "outputs": [
        {
          "output_type": "execute_result",
          "data": {
            "text/plain": [
              "    Họ và tên bạn là gì? Ngày sinh của bạn là? Hiện tại bạn là?  \\\n",
              "0   Trần Thuỳ Thanh Xuân            2004-06-30   Học sinh cấp 3   \n",
              "1   Nguyễn Thị Bích Ngọc            2001-03-03  Sinh viên năm 3   \n",
              "2  Nguyễn Trần Thảo Uyên            2003-06-22  Sinh viên năm 1   \n",
              "3     Nguyễn Thị Minh Tú            2001-07-25  Sinh viên năm 3   \n",
              "4           Lê Duy Dương            2002-07-02  Sinh viên năm 2   \n",
              "\n",
              "  Giới tính sinh học của bạn là: Bạn có thuộc cộng đồng LGBT không?  \\\n",
              "0                             Nữ                              Không   \n",
              "1                             Nữ                              Không   \n",
              "2                             Nữ                              Không   \n",
              "3                             Nữ                              Không   \n",
              "4                            Nam                              Không   \n",
              "\n",
              "    1. Bạn là người có xu hướng:  \\\n",
              "0  Vừa hướng nội vừa hướng ngoại   \n",
              "1  Vừa hướng nội vừa hướng ngoại   \n",
              "2  Vừa hướng nội vừa hướng ngoại   \n",
              "3                    Hướng ngoại   \n",
              "4                    Hướng ngoại   \n",
              "\n",
              "  2. Bạn có cảm thấy bản thân mình thừa thãi không?  \\\n",
              "0                                          Một chút   \n",
              "1                                             Không   \n",
              "2                                          Một chút   \n",
              "3                                             Không   \n",
              "4                                          Một chút   \n",
              "\n",
              "  3. Bạn có cảm thấy lạc lõng, không hòa nhập được với mọi người không?  \\\n",
              "0                                           Một chút                      \n",
              "1                                              Không                      \n",
              "2                                           Một chút                      \n",
              "3                                              Không                      \n",
              "4                                           Một chút                      \n",
              "\n",
              "  4. Bạn đang tự ti? 5. Bạn có hay vận động thể dục, thể thao không?  ...  \\\n",
              "0                 Có                                        Một chút  ...   \n",
              "1           Một chút                                           Không  ...   \n",
              "2                 Có                                        Một chút  ...   \n",
              "3           Một chút                                              Có  ...   \n",
              "4                 Có                                              Có  ...   \n",
              "\n",
              "  1. Bạn đột nhiên ăn quá nhiều hoặc chán ăn, biếng ăn?  \\\n",
              "0                                                1.0      \n",
              "1                                                1.0      \n",
              "2                                                2.0      \n",
              "3                                                3.0      \n",
              "4                                                1.0      \n",
              "\n",
              "  2. Bạn luôn thấy mệt mỏi, thiếu năng lượng làm mọi việc?  \\\n",
              "0                                                1.0         \n",
              "1                                                1.0         \n",
              "2                                                3.0         \n",
              "3                                                3.0         \n",
              "4                                                2.0         \n",
              "\n",
              "  3. Bạn cảm thấy khó ngủ, ngủ không lâu hoặc ngược lại ngủ quá nhiều?  \\\n",
              "0                                                1.0                     \n",
              "1                                                1.0                     \n",
              "2                                                3.0                     \n",
              "3                                                3.0                     \n",
              "4                                                2.0                     \n",
              "\n",
              "  4. Bạn hoạt động chậm chạp, đi lại hay nói chuyện đều chậm khiến mọi người chú ý. Hoặc bồn chồn không thể ở yên một chỗ?  \\\n",
              "0                                                1.0                                                                         \n",
              "1                                                0.0                                                                         \n",
              "2                                                3.0                                                                         \n",
              "3                                                0.0                                                                         \n",
              "4                                                2.0                                                                         \n",
              "\n",
              "  5. Bạn không thể tập trung khi làm việc?  \\\n",
              "0                                      1.0   \n",
              "1                                      0.0   \n",
              "2                                      2.0   \n",
              "3                                      0.0   \n",
              "4                                      2.0   \n",
              "\n",
              "  6. Bạn mất tự tin vào bản thân, thất vọng về bản thân và cả gia đình?  \\\n",
              "0                                                2.0                      \n",
              "1                                                1.0                      \n",
              "2                                                3.0                      \n",
              "3                                                2.0                      \n",
              "4                                                1.0                      \n",
              "\n",
              "   7. Bạn luôn cảm thấy chán nản, kiệt sức, tuyệt vọng?  \\\n",
              "0                                                1.0      \n",
              "1                                                0.0      \n",
              "2                                                2.0      \n",
              "3                                                0.0      \n",
              "4                                                2.0      \n",
              "\n",
              "   8. Bạn ít thấy hứng thú hoặc không tìm thấy niềm vui trong mọi việc?  \\\n",
              "0                                                1.0                      \n",
              "1                                                0.0                      \n",
              "2                                                1.0                      \n",
              "3                                                0.0                      \n",
              "4                                                1.0                      \n",
              "\n",
              "   9. Bạn có suy nghĩ tiêu cực, muốn làm tổn thương bản thân thậm chí có suy nghĩ tự sát?  \\\n",
              "0                                                1.0                                        \n",
              "1                                                0.0                                        \n",
              "2                                                1.0                                        \n",
              "3                                                0.0                                        \n",
              "4                                                1.0                                        \n",
              "\n",
              "   Tổng điểm  \n",
              "0       10.0  \n",
              "1        4.0  \n",
              "2       20.0  \n",
              "3       11.0  \n",
              "4       14.0  \n",
              "\n",
              "[5 rows x 38 columns]"
            ],
            "text/html": [
              "\n",
              "  <div id=\"df-5a5d8887-9303-4178-8fb4-49fa63a0182b\">\n",
              "    <div class=\"colab-df-container\">\n",
              "      <div>\n",
              "<style scoped>\n",
              "    .dataframe tbody tr th:only-of-type {\n",
              "        vertical-align: middle;\n",
              "    }\n",
              "\n",
              "    .dataframe tbody tr th {\n",
              "        vertical-align: top;\n",
              "    }\n",
              "\n",
              "    .dataframe thead th {\n",
              "        text-align: right;\n",
              "    }\n",
              "</style>\n",
              "<table border=\"1\" class=\"dataframe\">\n",
              "  <thead>\n",
              "    <tr style=\"text-align: right;\">\n",
              "      <th></th>\n",
              "      <th>Họ và tên bạn là gì?</th>\n",
              "      <th>Ngày sinh của bạn là?</th>\n",
              "      <th>Hiện tại bạn là?</th>\n",
              "      <th>Giới tính sinh học của bạn là:</th>\n",
              "      <th>Bạn có thuộc cộng đồng LGBT không?</th>\n",
              "      <th>1. Bạn là người có xu hướng:</th>\n",
              "      <th>2. Bạn có cảm thấy bản thân mình thừa thãi không?</th>\n",
              "      <th>3. Bạn có cảm thấy lạc lõng, không hòa nhập được với mọi người không?</th>\n",
              "      <th>4. Bạn đang tự ti?</th>\n",
              "      <th>5. Bạn có hay vận động thể dục, thể thao không?</th>\n",
              "      <th>...</th>\n",
              "      <th>1. Bạn đột nhiên ăn quá nhiều hoặc chán ăn, biếng ăn?</th>\n",
              "      <th>2. Bạn luôn thấy mệt mỏi, thiếu năng lượng làm mọi việc?</th>\n",
              "      <th>3. Bạn cảm thấy khó ngủ, ngủ không lâu hoặc ngược lại ngủ quá nhiều?</th>\n",
              "      <th>4. Bạn hoạt động chậm chạp, đi lại hay nói chuyện đều chậm khiến mọi người chú ý. Hoặc bồn chồn không thể ở yên một chỗ?</th>\n",
              "      <th>5. Bạn không thể tập trung khi làm việc?</th>\n",
              "      <th>6. Bạn mất tự tin vào bản thân, thất vọng về bản thân và cả gia đình?</th>\n",
              "      <th>7. Bạn luôn cảm thấy chán nản, kiệt sức, tuyệt vọng?</th>\n",
              "      <th>8. Bạn ít thấy hứng thú hoặc không tìm thấy niềm vui trong mọi việc?</th>\n",
              "      <th>9. Bạn có suy nghĩ tiêu cực, muốn làm tổn thương bản thân thậm chí có suy nghĩ tự sát?</th>\n",
              "      <th>Tổng điểm</th>\n",
              "    </tr>\n",
              "  </thead>\n",
              "  <tbody>\n",
              "    <tr>\n",
              "      <th>0</th>\n",
              "      <td>Trần Thuỳ Thanh Xuân</td>\n",
              "      <td>2004-06-30</td>\n",
              "      <td>Học sinh cấp 3</td>\n",
              "      <td>Nữ</td>\n",
              "      <td>Không</td>\n",
              "      <td>Vừa hướng nội vừa hướng ngoại</td>\n",
              "      <td>Một chút</td>\n",
              "      <td>Một chút</td>\n",
              "      <td>Có</td>\n",
              "      <td>Một chút</td>\n",
              "      <td>...</td>\n",
              "      <td>1.0</td>\n",
              "      <td>1.0</td>\n",
              "      <td>1.0</td>\n",
              "      <td>1.0</td>\n",
              "      <td>1.0</td>\n",
              "      <td>2.0</td>\n",
              "      <td>1.0</td>\n",
              "      <td>1.0</td>\n",
              "      <td>1.0</td>\n",
              "      <td>10.0</td>\n",
              "    </tr>\n",
              "    <tr>\n",
              "      <th>1</th>\n",
              "      <td>Nguyễn Thị Bích Ngọc</td>\n",
              "      <td>2001-03-03</td>\n",
              "      <td>Sinh viên năm 3</td>\n",
              "      <td>Nữ</td>\n",
              "      <td>Không</td>\n",
              "      <td>Vừa hướng nội vừa hướng ngoại</td>\n",
              "      <td>Không</td>\n",
              "      <td>Không</td>\n",
              "      <td>Một chút</td>\n",
              "      <td>Không</td>\n",
              "      <td>...</td>\n",
              "      <td>1.0</td>\n",
              "      <td>1.0</td>\n",
              "      <td>1.0</td>\n",
              "      <td>0.0</td>\n",
              "      <td>0.0</td>\n",
              "      <td>1.0</td>\n",
              "      <td>0.0</td>\n",
              "      <td>0.0</td>\n",
              "      <td>0.0</td>\n",
              "      <td>4.0</td>\n",
              "    </tr>\n",
              "    <tr>\n",
              "      <th>2</th>\n",
              "      <td>Nguyễn Trần Thảo Uyên</td>\n",
              "      <td>2003-06-22</td>\n",
              "      <td>Sinh viên năm 1</td>\n",
              "      <td>Nữ</td>\n",
              "      <td>Không</td>\n",
              "      <td>Vừa hướng nội vừa hướng ngoại</td>\n",
              "      <td>Một chút</td>\n",
              "      <td>Một chút</td>\n",
              "      <td>Có</td>\n",
              "      <td>Một chút</td>\n",
              "      <td>...</td>\n",
              "      <td>2.0</td>\n",
              "      <td>3.0</td>\n",
              "      <td>3.0</td>\n",
              "      <td>3.0</td>\n",
              "      <td>2.0</td>\n",
              "      <td>3.0</td>\n",
              "      <td>2.0</td>\n",
              "      <td>1.0</td>\n",
              "      <td>1.0</td>\n",
              "      <td>20.0</td>\n",
              "    </tr>\n",
              "    <tr>\n",
              "      <th>3</th>\n",
              "      <td>Nguyễn Thị Minh Tú</td>\n",
              "      <td>2001-07-25</td>\n",
              "      <td>Sinh viên năm 3</td>\n",
              "      <td>Nữ</td>\n",
              "      <td>Không</td>\n",
              "      <td>Hướng ngoại</td>\n",
              "      <td>Không</td>\n",
              "      <td>Không</td>\n",
              "      <td>Một chút</td>\n",
              "      <td>Có</td>\n",
              "      <td>...</td>\n",
              "      <td>3.0</td>\n",
              "      <td>3.0</td>\n",
              "      <td>3.0</td>\n",
              "      <td>0.0</td>\n",
              "      <td>0.0</td>\n",
              "      <td>2.0</td>\n",
              "      <td>0.0</td>\n",
              "      <td>0.0</td>\n",
              "      <td>0.0</td>\n",
              "      <td>11.0</td>\n",
              "    </tr>\n",
              "    <tr>\n",
              "      <th>4</th>\n",
              "      <td>Lê Duy Dương</td>\n",
              "      <td>2002-07-02</td>\n",
              "      <td>Sinh viên năm 2</td>\n",
              "      <td>Nam</td>\n",
              "      <td>Không</td>\n",
              "      <td>Hướng ngoại</td>\n",
              "      <td>Một chút</td>\n",
              "      <td>Một chút</td>\n",
              "      <td>Có</td>\n",
              "      <td>Có</td>\n",
              "      <td>...</td>\n",
              "      <td>1.0</td>\n",
              "      <td>2.0</td>\n",
              "      <td>2.0</td>\n",
              "      <td>2.0</td>\n",
              "      <td>2.0</td>\n",
              "      <td>1.0</td>\n",
              "      <td>2.0</td>\n",
              "      <td>1.0</td>\n",
              "      <td>1.0</td>\n",
              "      <td>14.0</td>\n",
              "    </tr>\n",
              "  </tbody>\n",
              "</table>\n",
              "<p>5 rows × 38 columns</p>\n",
              "</div>\n",
              "      <button class=\"colab-df-convert\" onclick=\"convertToInteractive('df-5a5d8887-9303-4178-8fb4-49fa63a0182b')\"\n",
              "              title=\"Convert this dataframe to an interactive table.\"\n",
              "              style=\"display:none;\">\n",
              "        \n",
              "  <svg xmlns=\"http://www.w3.org/2000/svg\" height=\"24px\"viewBox=\"0 0 24 24\"\n",
              "       width=\"24px\">\n",
              "    <path d=\"M0 0h24v24H0V0z\" fill=\"none\"/>\n",
              "    <path d=\"M18.56 5.44l.94 2.06.94-2.06 2.06-.94-2.06-.94-.94-2.06-.94 2.06-2.06.94zm-11 1L8.5 8.5l.94-2.06 2.06-.94-2.06-.94L8.5 2.5l-.94 2.06-2.06.94zm10 10l.94 2.06.94-2.06 2.06-.94-2.06-.94-.94-2.06-.94 2.06-2.06.94z\"/><path d=\"M17.41 7.96l-1.37-1.37c-.4-.4-.92-.59-1.43-.59-.52 0-1.04.2-1.43.59L10.3 9.45l-7.72 7.72c-.78.78-.78 2.05 0 2.83L4 21.41c.39.39.9.59 1.41.59.51 0 1.02-.2 1.41-.59l7.78-7.78 2.81-2.81c.8-.78.8-2.07 0-2.86zM5.41 20L4 18.59l7.72-7.72 1.47 1.35L5.41 20z\"/>\n",
              "  </svg>\n",
              "      </button>\n",
              "      \n",
              "  <style>\n",
              "    .colab-df-container {\n",
              "      display:flex;\n",
              "      flex-wrap:wrap;\n",
              "      gap: 12px;\n",
              "    }\n",
              "\n",
              "    .colab-df-convert {\n",
              "      background-color: #E8F0FE;\n",
              "      border: none;\n",
              "      border-radius: 50%;\n",
              "      cursor: pointer;\n",
              "      display: none;\n",
              "      fill: #1967D2;\n",
              "      height: 32px;\n",
              "      padding: 0 0 0 0;\n",
              "      width: 32px;\n",
              "    }\n",
              "\n",
              "    .colab-df-convert:hover {\n",
              "      background-color: #E2EBFA;\n",
              "      box-shadow: 0px 1px 2px rgba(60, 64, 67, 0.3), 0px 1px 3px 1px rgba(60, 64, 67, 0.15);\n",
              "      fill: #174EA6;\n",
              "    }\n",
              "\n",
              "    [theme=dark] .colab-df-convert {\n",
              "      background-color: #3B4455;\n",
              "      fill: #D2E3FC;\n",
              "    }\n",
              "\n",
              "    [theme=dark] .colab-df-convert:hover {\n",
              "      background-color: #434B5C;\n",
              "      box-shadow: 0px 1px 3px 1px rgba(0, 0, 0, 0.15);\n",
              "      filter: drop-shadow(0px 1px 2px rgba(0, 0, 0, 0.3));\n",
              "      fill: #FFFFFF;\n",
              "    }\n",
              "  </style>\n",
              "\n",
              "      <script>\n",
              "        const buttonEl =\n",
              "          document.querySelector('#df-5a5d8887-9303-4178-8fb4-49fa63a0182b button.colab-df-convert');\n",
              "        buttonEl.style.display =\n",
              "          google.colab.kernel.accessAllowed ? 'block' : 'none';\n",
              "\n",
              "        async function convertToInteractive(key) {\n",
              "          const element = document.querySelector('#df-5a5d8887-9303-4178-8fb4-49fa63a0182b');\n",
              "          const dataTable =\n",
              "            await google.colab.kernel.invokeFunction('convertToInteractive',\n",
              "                                                     [key], {});\n",
              "          if (!dataTable) return;\n",
              "\n",
              "          const docLinkHtml = 'Like what you see? Visit the ' +\n",
              "            '<a target=\"_blank\" href=https://colab.research.google.com/notebooks/data_table.ipynb>data table notebook</a>'\n",
              "            + ' to learn more about interactive tables.';\n",
              "          element.innerHTML = '';\n",
              "          dataTable['output_type'] = 'display_data';\n",
              "          await google.colab.output.renderOutput(dataTable, element);\n",
              "          const docLink = document.createElement('div');\n",
              "          docLink.innerHTML = docLinkHtml;\n",
              "          element.appendChild(docLink);\n",
              "        }\n",
              "      </script>\n",
              "    </div>\n",
              "  </div>\n",
              "  "
            ]
          },
          "metadata": {},
          "execution_count": 4
        }
      ]
    },
    {
      "cell_type": "code",
      "source": [
        "data.columns = ['Name', 'DoB', 'Job', 'Sex', 'LGBT', 'a1', 'a2', 'a3', 'a4', 'a5', 'a6', 'a7', 'a8', \n",
        "                'b1', 'b2', 'b3', 'b4', 'b5', 'b6', 'b7', 'b8', 'b9', 'b10', 'b11', 'b12', 'b13', 'b14', 'b15',\n",
        "                'c1', 'c2', 'c3', 'c4', 'c5', 'c6', 'c7', 'c8', 'c9', 'Total']"
      ],
      "metadata": {
        "id": "kpbzsSJxzOp4"
      },
      "execution_count": null,
      "outputs": []
    },
    {
      "cell_type": "markdown",
      "source": [
        "$Data$ $Preprocessing$"
      ],
      "metadata": {
        "id": "Qb9fsM3d4wcU"
      }
    },
    {
      "cell_type": "code",
      "source": [
        "# Change values in total column to the rate of depression. Normal - Minimal - Mild - Medium - Severe.\n",
        "data.Total = data.Total.replace({1: 0, 2: 0, 3: 0, 4: 0,\n",
        "                                 5: 1, 6: 1, 7: 1, 8: 1, 9: 1,\n",
        "                                 10: 2, 11: 2, 12: 2, 13: 2, 14: 2,\n",
        "                                 15: 3, 16: 3, 17: 3, 18: 3, 19: 3,\n",
        "                                 20: 4, 21: 4, 22: 4, 23: 4, 24: 4, 25: 4, 26: 4, 27: 4})\n",
        "\n",
        "\n",
        "# Change values in job column from Sinh vien trung cap to Trung cap nghe\n",
        "data.Job = data.Job.replace({'Học sinh cấp 3': 0,\n",
        "                             'Sinh viên trung cấp': 1,\n",
        "                             'Sinh viên năm 1': 2,\n",
        "                             'Sinh viên năm 2': 3,\n",
        "                             'Sinh viên năm 3': 4,\n",
        "                             'Sinh viên năm 4': 5,\n",
        "                             'Sinh viên từ năm 4 trở lên': 6,\n",
        "                             'Đã tốt nghiệp': 7})\n",
        "\n",
        "# LGBT\n",
        "data.LGBT = data.LGBT.replace({'Có': 1,\n",
        "                               'Không': 0,\n",
        "                               'Chưa xác định': 0.5})\n",
        "# Sex\n",
        "data.Sex = data.Sex.replace({'Nam': 1,'Nữ': 0})\n",
        "\n",
        "# Per - Intro (A)\n",
        "data.a1 = data.a1.replace({'Hướng ngoại': 1,\n",
        "                     'Hướng nội': 2,\n",
        "                     'Chưa xác định được': 0,\n",
        "                     'Vừa hướng nội vừa hướng ngoại': 1.5})\n",
        "\n",
        "data.a2 = data.a2.replace({'Có': 1, 'Một chút': 0.5, 'Không': 0})\n",
        "data.a3 = data.a3.replace({'Có': 1, 'Một chút': 0.5, 'Không': 0})\n",
        "data.a4 = data.a4.replace({'Có': 1, 'Một chút': 0.5, 'Không': 0})\n",
        "data.a5 = data.a5.replace({'Có': 1, 'Một chút': 0.5, 'Không': 0})\n",
        "data.a6 = data.a6.replace({'Có': 1, 'Một chút': 0.5, 'Không': 0})\n",
        "\n",
        "# Question (B)\n",
        "data.b1 = data.b1.replace({'Con cả': 1, 'Con thứ': 2, 'Con út': 3, 'Con một': 0})\n",
        "data.b2 = data.b2.replace({'Một ngày': 0, 'Một tuần': 1, 'Một tháng': 2, 'Nửa năm': 3, 'Một năm': 4, 'Hai năm': 5, 'Hơn ba năm': 6})\n",
        "data.b3 = data.b3.replace({'Không một ai': 0, 'Anh trai, chị gái, hoặc em trai, em gái': 1, 'Mẹ': 2, 'Ba': 3, 'tất cả': 4})\n",
        "data.b15 = data.b15.replace({'Chưa từng': 0, 'Một - hai lần': 1, 'Khoảng năm lần': 2, 'Khoảng 10 lần': 3, 'Rất nhiều': 4, 'Mỗi ngày': 5})\n",
        "\n",
        "# Fill null value with the most popular value.\n",
        "data = data.apply(lambda x:x.fillna(x.value_counts().index[0]))\n",
        "\n",
        "# Drop the column Name\n",
        "data = data.drop(columns=[ 'Name', 'DoB', 'a7', 'a8', 'a1', 'b9', 'b12','Job', 'Sex', 'LGBT', \n",
        "                          'a5', 'a6', 'b1','b10', 'b11', 'b4', 'b14', 'b2', 'b13', 'b5', 'b9','b2',\n",
        "                          'a3','a4','b6','b7','b8','b12','b15'])"
      ],
      "metadata": {
        "id": "4CcQCPOX0S8q"
      },
      "execution_count": null,
      "outputs": []
    },
    {
      "cell_type": "markdown",
      "source": [
        "# Step 2: Traing dataset."
      ],
      "metadata": {
        "id": "kqYhB5VZ5vkH"
      }
    },
    {
      "cell_type": "code",
      "source": [
        "corr = data.corr()\n",
        "corr.style.background_gradient(cmap='coolwarm').set_precision(2)"
      ],
      "metadata": {
        "colab": {
          "base_uri": "https://localhost:8080/",
          "height": 460
        },
        "id": "A7vCVqVP5Gul",
        "outputId": "99223603-212a-4ead-f2d4-a0be49f9da39"
      },
      "execution_count": null,
      "outputs": [
        {
          "output_type": "stream",
          "name": "stderr",
          "text": [
            "/usr/local/lib/python3.7/dist-packages/ipykernel_launcher.py:2: FutureWarning: this method is deprecated in favour of `Styler.format(precision=..)`\n",
            "  \n"
          ]
        },
        {
          "output_type": "execute_result",
          "data": {
            "text/plain": [
              "<pandas.io.formats.style.Styler at 0x7f049d79b2d0>"
            ],
            "text/html": [
              "<style type=\"text/css\">\n",
              "#T_39670_row0_col0, #T_39670_row1_col1, #T_39670_row2_col2, #T_39670_row3_col3, #T_39670_row4_col4, #T_39670_row5_col5, #T_39670_row6_col6, #T_39670_row7_col7, #T_39670_row8_col8, #T_39670_row9_col9, #T_39670_row10_col10, #T_39670_row11_col11 {\n",
              "  background-color: #b40426;\n",
              "  color: #f1f1f1;\n",
              "}\n",
              "#T_39670_row0_col1 {\n",
              "  background-color: #5d7ce6;\n",
              "  color: #f1f1f1;\n",
              "}\n",
              "#T_39670_row0_col2, #T_39670_row6_col2 {\n",
              "  background-color: #e1dad6;\n",
              "  color: #000000;\n",
              "}\n",
              "#T_39670_row0_col3, #T_39670_row7_col10, #T_39670_row9_col0 {\n",
              "  background-color: #f2c9b4;\n",
              "  color: #000000;\n",
              "}\n",
              "#T_39670_row0_col4 {\n",
              "  background-color: #cdd9ec;\n",
              "  color: #000000;\n",
              "}\n",
              "#T_39670_row0_col5, #T_39670_row3_col5, #T_39670_row8_col0 {\n",
              "  background-color: #ebd3c6;\n",
              "  color: #000000;\n",
              "}\n",
              "#T_39670_row0_col6, #T_39670_row10_col6 {\n",
              "  background-color: #d4dbe6;\n",
              "  color: #000000;\n",
              "}\n",
              "#T_39670_row0_col7, #T_39670_row2_col0 {\n",
              "  background-color: #dddcdc;\n",
              "  color: #000000;\n",
              "}\n",
              "#T_39670_row0_col8, #T_39670_row2_col9, #T_39670_row2_col10, #T_39670_row10_col2 {\n",
              "  background-color: #ead4c8;\n",
              "  color: #000000;\n",
              "}\n",
              "#T_39670_row0_col9, #T_39670_row11_col0 {\n",
              "  background-color: #f3c7b1;\n",
              "  color: #000000;\n",
              "}\n",
              "#T_39670_row0_col10, #T_39670_row10_col5 {\n",
              "  background-color: #f1cdba;\n",
              "  color: #000000;\n",
              "}\n",
              "#T_39670_row0_col11 {\n",
              "  background-color: #f7ba9f;\n",
              "  color: #000000;\n",
              "}\n",
              "#T_39670_row1_col0, #T_39670_row1_col2, #T_39670_row1_col3, #T_39670_row1_col4, #T_39670_row1_col5, #T_39670_row1_col6, #T_39670_row1_col7, #T_39670_row1_col8, #T_39670_row1_col9, #T_39670_row1_col10, #T_39670_row1_col11, #T_39670_row11_col1 {\n",
              "  background-color: #3b4cc0;\n",
              "  color: #f1f1f1;\n",
              "}\n",
              "#T_39670_row2_col1 {\n",
              "  background-color: #516ddb;\n",
              "  color: #f1f1f1;\n",
              "}\n",
              "#T_39670_row2_col3 {\n",
              "  background-color: #f7b89c;\n",
              "  color: #000000;\n",
              "}\n",
              "#T_39670_row2_col4, #T_39670_row5_col6, #T_39670_row9_col2 {\n",
              "  background-color: #ecd3c5;\n",
              "  color: #000000;\n",
              "}\n",
              "#T_39670_row2_col5, #T_39670_row5_col3 {\n",
              "  background-color: #e8d6cc;\n",
              "  color: #000000;\n",
              "}\n",
              "#T_39670_row2_col6 {\n",
              "  background-color: #dedcdb;\n",
              "  color: #000000;\n",
              "}\n",
              "#T_39670_row2_col7, #T_39670_row5_col0, #T_39670_row5_col2, #T_39670_row5_col9 {\n",
              "  background-color: #e5d8d1;\n",
              "  color: #000000;\n",
              "}\n",
              "#T_39670_row2_col8, #T_39670_row4_col2, #T_39670_row4_col9 {\n",
              "  background-color: #e9d5cb;\n",
              "  color: #000000;\n",
              "}\n",
              "#T_39670_row2_col11, #T_39670_row11_col4 {\n",
              "  background-color: #f49a7b;\n",
              "  color: #000000;\n",
              "}\n",
              "#T_39670_row3_col0, #T_39670_row4_col5, #T_39670_row9_col8, #T_39670_row10_col7 {\n",
              "  background-color: #f2cbb7;\n",
              "  color: #000000;\n",
              "}\n",
              "#T_39670_row3_col1 {\n",
              "  background-color: #5875e1;\n",
              "  color: #f1f1f1;\n",
              "}\n",
              "#T_39670_row3_col2, #T_39670_row8_col3 {\n",
              "  background-color: #f7b599;\n",
              "  color: #000000;\n",
              "}\n",
              "#T_39670_row3_col4 {\n",
              "  background-color: #f5a081;\n",
              "  color: #000000;\n",
              "}\n",
              "#T_39670_row3_col6, #T_39670_row8_col2 {\n",
              "  background-color: #edd2c3;\n",
              "  color: #000000;\n",
              "}\n",
              "#T_39670_row3_col7 {\n",
              "  background-color: #f7b396;\n",
              "  color: #000000;\n",
              "}\n",
              "#T_39670_row3_col8 {\n",
              "  background-color: #f7b99e;\n",
              "  color: #000000;\n",
              "}\n",
              "#T_39670_row3_col9, #T_39670_row9_col3 {\n",
              "  background-color: #f7b093;\n",
              "  color: #000000;\n",
              "}\n",
              "#T_39670_row3_col10, #T_39670_row4_col6, #T_39670_row8_col6 {\n",
              "  background-color: #cfdaea;\n",
              "  color: #000000;\n",
              "}\n",
              "#T_39670_row3_col11 {\n",
              "  background-color: #e67259;\n",
              "  color: #f1f1f1;\n",
              "}\n",
              "#T_39670_row4_col0, #T_39670_row6_col7 {\n",
              "  background-color: #c0d4f5;\n",
              "  color: #000000;\n",
              "}\n",
              "#T_39670_row4_col1 {\n",
              "  background-color: #465ecf;\n",
              "  color: #f1f1f1;\n",
              "}\n",
              "#T_39670_row4_col3, #T_39670_row8_col5 {\n",
              "  background-color: #f7a688;\n",
              "  color: #000000;\n",
              "}\n",
              "#T_39670_row4_col7, #T_39670_row7_col9, #T_39670_row9_col7 {\n",
              "  background-color: #f0cdbb;\n",
              "  color: #000000;\n",
              "}\n",
              "#T_39670_row4_col8 {\n",
              "  background-color: #e7d7ce;\n",
              "  color: #000000;\n",
              "}\n",
              "#T_39670_row4_col10 {\n",
              "  background-color: #c5d6f2;\n",
              "  color: #000000;\n",
              "}\n",
              "#T_39670_row4_col11 {\n",
              "  background-color: #f39577;\n",
              "  color: #000000;\n",
              "}\n",
              "#T_39670_row5_col1 {\n",
              "  background-color: #4b64d5;\n",
              "  color: #f1f1f1;\n",
              "}\n",
              "#T_39670_row5_col4 {\n",
              "  background-color: #f2cab5;\n",
              "  color: #000000;\n",
              "}\n",
              "#T_39670_row5_col7, #T_39670_row8_col4 {\n",
              "  background-color: #efcfbf;\n",
              "  color: #000000;\n",
              "}\n",
              "#T_39670_row5_col8, #T_39670_row9_col6, #T_39670_row11_col6 {\n",
              "  background-color: #f7ad90;\n",
              "  color: #000000;\n",
              "}\n",
              "#T_39670_row5_col10, #T_39670_row6_col5, #T_39670_row9_col10 {\n",
              "  background-color: #efcebd;\n",
              "  color: #000000;\n",
              "}\n",
              "#T_39670_row5_col11 {\n",
              "  background-color: #f08a6c;\n",
              "  color: #f1f1f1;\n",
              "}\n",
              "#T_39670_row6_col0 {\n",
              "  background-color: #d3dbe7;\n",
              "  color: #000000;\n",
              "}\n",
              "#T_39670_row6_col1 {\n",
              "  background-color: #5977e3;\n",
              "  color: #f1f1f1;\n",
              "}\n",
              "#T_39670_row6_col3, #T_39670_row9_col4 {\n",
              "  background-color: #edd1c2;\n",
              "  color: #000000;\n",
              "}\n",
              "#T_39670_row6_col4 {\n",
              "  background-color: #d9dce1;\n",
              "  color: #000000;\n",
              "}\n",
              "#T_39670_row6_col8, #T_39670_row10_col3 {\n",
              "  background-color: #ccd9ed;\n",
              "  color: #000000;\n",
              "}\n",
              "#T_39670_row6_col9 {\n",
              "  background-color: #f7ac8e;\n",
              "  color: #000000;\n",
              "}\n",
              "#T_39670_row6_col10 {\n",
              "  background-color: #d8dce2;\n",
              "  color: #000000;\n",
              "}\n",
              "#T_39670_row6_col11, #T_39670_row11_col2 {\n",
              "  background-color: #f6a283;\n",
              "  color: #000000;\n",
              "}\n",
              "#T_39670_row7_col0 {\n",
              "  background-color: #dadce0;\n",
              "  color: #000000;\n",
              "}\n",
              "#T_39670_row7_col1, #T_39670_row9_col1 {\n",
              "  background-color: #5673e0;\n",
              "  color: #f1f1f1;\n",
              "}\n",
              "#T_39670_row7_col2 {\n",
              "  background-color: #e6d7cf;\n",
              "  color: #000000;\n",
              "}\n",
              "#T_39670_row7_col3 {\n",
              "  background-color: #f7b497;\n",
              "  color: #000000;\n",
              "}\n",
              "#T_39670_row7_col4, #T_39670_row8_col9 {\n",
              "  background-color: #f3c8b2;\n",
              "  color: #000000;\n",
              "}\n",
              "#T_39670_row7_col5 {\n",
              "  background-color: #f1ccb8;\n",
              "  color: #000000;\n",
              "}\n",
              "#T_39670_row7_col6 {\n",
              "  background-color: #bed2f6;\n",
              "  color: #000000;\n",
              "}\n",
              "#T_39670_row7_col8, #T_39670_row11_col5 {\n",
              "  background-color: #f18f71;\n",
              "  color: #f1f1f1;\n",
              "}\n",
              "#T_39670_row7_col11 {\n",
              "  background-color: #ea7b60;\n",
              "  color: #f1f1f1;\n",
              "}\n",
              "#T_39670_row8_col1 {\n",
              "  background-color: #5f7fe8;\n",
              "  color: #f1f1f1;\n",
              "}\n",
              "#T_39670_row8_col7, #T_39670_row11_col9 {\n",
              "  background-color: #f08b6e;\n",
              "  color: #f1f1f1;\n",
              "}\n",
              "#T_39670_row8_col10 {\n",
              "  background-color: #f7bca1;\n",
              "  color: #000000;\n",
              "}\n",
              "#T_39670_row8_col11 {\n",
              "  background-color: #e9785d;\n",
              "  color: #f1f1f1;\n",
              "}\n",
              "#T_39670_row9_col5 {\n",
              "  background-color: #ead5c9;\n",
              "  color: #000000;\n",
              "}\n",
              "#T_39670_row9_col11, #T_39670_row11_col7, #T_39670_row11_col8 {\n",
              "  background-color: #ed8366;\n",
              "  color: #f1f1f1;\n",
              "}\n",
              "#T_39670_row10_col0, #T_39670_row10_col9 {\n",
              "  background-color: #eed0c0;\n",
              "  color: #000000;\n",
              "}\n",
              "#T_39670_row10_col1 {\n",
              "  background-color: #506bda;\n",
              "  color: #f1f1f1;\n",
              "}\n",
              "#T_39670_row10_col4 {\n",
              "  background-color: #cad8ef;\n",
              "  color: #000000;\n",
              "}\n",
              "#T_39670_row10_col8 {\n",
              "  background-color: #f5c1a9;\n",
              "  color: #000000;\n",
              "}\n",
              "#T_39670_row10_col11 {\n",
              "  background-color: #f59f80;\n",
              "  color: #000000;\n",
              "}\n",
              "#T_39670_row11_col3 {\n",
              "  background-color: #e97a5f;\n",
              "  color: #f1f1f1;\n",
              "}\n",
              "#T_39670_row11_col10 {\n",
              "  background-color: #f7a889;\n",
              "  color: #000000;\n",
              "}\n",
              "</style>\n",
              "<table id=\"T_39670_\" class=\"dataframe\">\n",
              "  <thead>\n",
              "    <tr>\n",
              "      <th class=\"blank level0\" >&nbsp;</th>\n",
              "      <th class=\"col_heading level0 col0\" >a2</th>\n",
              "      <th class=\"col_heading level0 col1\" >b3</th>\n",
              "      <th class=\"col_heading level0 col2\" >c1</th>\n",
              "      <th class=\"col_heading level0 col3\" >c2</th>\n",
              "      <th class=\"col_heading level0 col4\" >c3</th>\n",
              "      <th class=\"col_heading level0 col5\" >c4</th>\n",
              "      <th class=\"col_heading level0 col6\" >c5</th>\n",
              "      <th class=\"col_heading level0 col7\" >c6</th>\n",
              "      <th class=\"col_heading level0 col8\" >c7</th>\n",
              "      <th class=\"col_heading level0 col9\" >c8</th>\n",
              "      <th class=\"col_heading level0 col10\" >c9</th>\n",
              "      <th class=\"col_heading level0 col11\" >Total</th>\n",
              "    </tr>\n",
              "  </thead>\n",
              "  <tbody>\n",
              "    <tr>\n",
              "      <th id=\"T_39670_level0_row0\" class=\"row_heading level0 row0\" >a2</th>\n",
              "      <td id=\"T_39670_row0_col0\" class=\"data row0 col0\" >1.00</td>\n",
              "      <td id=\"T_39670_row0_col1\" class=\"data row0 col1\" >-0.20</td>\n",
              "      <td id=\"T_39670_row0_col2\" class=\"data row0 col2\" >0.40</td>\n",
              "      <td id=\"T_39670_row0_col3\" class=\"data row0 col3\" >0.52</td>\n",
              "      <td id=\"T_39670_row0_col4\" class=\"data row0 col4\" >0.28</td>\n",
              "      <td id=\"T_39670_row0_col5\" class=\"data row0 col5\" >0.44</td>\n",
              "      <td id=\"T_39670_row0_col6\" class=\"data row0 col6\" >0.36</td>\n",
              "      <td id=\"T_39670_row0_col7\" class=\"data row0 col7\" >0.39</td>\n",
              "      <td id=\"T_39670_row0_col8\" class=\"data row0 col8\" >0.47</td>\n",
              "      <td id=\"T_39670_row0_col9\" class=\"data row0 col9\" >0.53</td>\n",
              "      <td id=\"T_39670_row0_col10\" class=\"data row0 col10\" >0.49</td>\n",
              "      <td id=\"T_39670_row0_col11\" class=\"data row0 col11\" >0.54</td>\n",
              "    </tr>\n",
              "    <tr>\n",
              "      <th id=\"T_39670_level0_row1\" class=\"row_heading level0 row1\" >b3</th>\n",
              "      <td id=\"T_39670_row1_col0\" class=\"data row1 col0\" >-0.20</td>\n",
              "      <td id=\"T_39670_row1_col1\" class=\"data row1 col1\" >1.00</td>\n",
              "      <td id=\"T_39670_row1_col2\" class=\"data row1 col2\" >-0.24</td>\n",
              "      <td id=\"T_39670_row1_col3\" class=\"data row1 col3\" >-0.22</td>\n",
              "      <td id=\"T_39670_row1_col4\" class=\"data row1 col4\" >-0.29</td>\n",
              "      <td id=\"T_39670_row1_col5\" class=\"data row1 col5\" >-0.27</td>\n",
              "      <td id=\"T_39670_row1_col6\" class=\"data row1 col6\" >-0.21</td>\n",
              "      <td id=\"T_39670_row1_col7\" class=\"data row1 col7\" >-0.22</td>\n",
              "      <td id=\"T_39670_row1_col8\" class=\"data row1 col8\" >-0.18</td>\n",
              "      <td id=\"T_39670_row1_col9\" class=\"data row1 col9\" >-0.22</td>\n",
              "      <td id=\"T_39670_row1_col10\" class=\"data row1 col10\" >-0.25</td>\n",
              "      <td id=\"T_39670_row1_col11\" class=\"data row1 col11\" >-0.34</td>\n",
              "    </tr>\n",
              "    <tr>\n",
              "      <th id=\"T_39670_level0_row2\" class=\"row_heading level0 row2\" >c1</th>\n",
              "      <td id=\"T_39670_row2_col0\" class=\"data row2 col0\" >0.40</td>\n",
              "      <td id=\"T_39670_row2_col1\" class=\"data row2 col1\" >-0.24</td>\n",
              "      <td id=\"T_39670_row2_col2\" class=\"data row2 col2\" >1.00</td>\n",
              "      <td id=\"T_39670_row2_col3\" class=\"data row2 col3\" >0.60</td>\n",
              "      <td id=\"T_39670_row2_col4\" class=\"data row2 col4\" >0.44</td>\n",
              "      <td id=\"T_39670_row2_col5\" class=\"data row2 col5\" >0.42</td>\n",
              "      <td id=\"T_39670_row2_col6\" class=\"data row2 col6\" >0.40</td>\n",
              "      <td id=\"T_39670_row2_col7\" class=\"data row2 col7\" >0.43</td>\n",
              "      <td id=\"T_39670_row2_col8\" class=\"data row2 col8\" >0.47</td>\n",
              "      <td id=\"T_39670_row2_col9\" class=\"data row2 col9\" >0.46</td>\n",
              "      <td id=\"T_39670_row2_col10\" class=\"data row2 col10\" >0.45</td>\n",
              "      <td id=\"T_39670_row2_col11\" class=\"data row2 col11\" >0.66</td>\n",
              "    </tr>\n",
              "    <tr>\n",
              "      <th id=\"T_39670_level0_row3\" class=\"row_heading level0 row3\" >c2</th>\n",
              "      <td id=\"T_39670_row3_col0\" class=\"data row3 col0\" >0.52</td>\n",
              "      <td id=\"T_39670_row3_col1\" class=\"data row3 col1\" >-0.22</td>\n",
              "      <td id=\"T_39670_row3_col2\" class=\"data row3 col2\" >0.60</td>\n",
              "      <td id=\"T_39670_row3_col3\" class=\"data row3 col3\" >1.00</td>\n",
              "      <td id=\"T_39670_row3_col4\" class=\"data row3 col4\" >0.66</td>\n",
              "      <td id=\"T_39670_row3_col5\" class=\"data row3 col5\" >0.44</td>\n",
              "      <td id=\"T_39670_row3_col6\" class=\"data row3 col6\" >0.48</td>\n",
              "      <td id=\"T_39670_row3_col7\" class=\"data row3 col7\" >0.61</td>\n",
              "      <td id=\"T_39670_row3_col8\" class=\"data row3 col8\" >0.60</td>\n",
              "      <td id=\"T_39670_row3_col9\" class=\"data row3 col9\" >0.62</td>\n",
              "      <td id=\"T_39670_row3_col10\" class=\"data row3 col10\" >0.32</td>\n",
              "      <td id=\"T_39670_row3_col11\" class=\"data row3 col11\" >0.78</td>\n",
              "    </tr>\n",
              "    <tr>\n",
              "      <th id=\"T_39670_level0_row4\" class=\"row_heading level0 row4\" >c3</th>\n",
              "      <td id=\"T_39670_row4_col0\" class=\"data row4 col0\" >0.28</td>\n",
              "      <td id=\"T_39670_row4_col1\" class=\"data row4 col1\" >-0.29</td>\n",
              "      <td id=\"T_39670_row4_col2\" class=\"data row4 col2\" >0.44</td>\n",
              "      <td id=\"T_39670_row4_col3\" class=\"data row4 col3\" >0.66</td>\n",
              "      <td id=\"T_39670_row4_col4\" class=\"data row4 col4\" >1.00</td>\n",
              "      <td id=\"T_39670_row4_col5\" class=\"data row4 col5\" >0.49</td>\n",
              "      <td id=\"T_39670_row4_col6\" class=\"data row4 col6\" >0.34</td>\n",
              "      <td id=\"T_39670_row4_col7\" class=\"data row4 col7\" >0.50</td>\n",
              "      <td id=\"T_39670_row4_col8\" class=\"data row4 col8\" >0.46</td>\n",
              "      <td id=\"T_39670_row4_col9\" class=\"data row4 col9\" >0.45</td>\n",
              "      <td id=\"T_39670_row4_col10\" class=\"data row4 col10\" >0.27</td>\n",
              "      <td id=\"T_39670_row4_col11\" class=\"data row4 col11\" >0.68</td>\n",
              "    </tr>\n",
              "    <tr>\n",
              "      <th id=\"T_39670_level0_row5\" class=\"row_heading level0 row5\" >c4</th>\n",
              "      <td id=\"T_39670_row5_col0\" class=\"data row5 col0\" >0.44</td>\n",
              "      <td id=\"T_39670_row5_col1\" class=\"data row5 col1\" >-0.27</td>\n",
              "      <td id=\"T_39670_row5_col2\" class=\"data row5 col2\" >0.42</td>\n",
              "      <td id=\"T_39670_row5_col3\" class=\"data row5 col3\" >0.44</td>\n",
              "      <td id=\"T_39670_row5_col4\" class=\"data row5 col4\" >0.49</td>\n",
              "      <td id=\"T_39670_row5_col5\" class=\"data row5 col5\" >1.00</td>\n",
              "      <td id=\"T_39670_row5_col6\" class=\"data row5 col6\" >0.47</td>\n",
              "      <td id=\"T_39670_row5_col7\" class=\"data row5 col7\" >0.49</td>\n",
              "      <td id=\"T_39670_row5_col8\" class=\"data row5 col8\" >0.64</td>\n",
              "      <td id=\"T_39670_row5_col9\" class=\"data row5 col9\" >0.43</td>\n",
              "      <td id=\"T_39670_row5_col10\" class=\"data row5 col10\" >0.48</td>\n",
              "      <td id=\"T_39670_row5_col11\" class=\"data row5 col11\" >0.72</td>\n",
              "    </tr>\n",
              "    <tr>\n",
              "      <th id=\"T_39670_level0_row6\" class=\"row_heading level0 row6\" >c5</th>\n",
              "      <td id=\"T_39670_row6_col0\" class=\"data row6 col0\" >0.36</td>\n",
              "      <td id=\"T_39670_row6_col1\" class=\"data row6 col1\" >-0.21</td>\n",
              "      <td id=\"T_39670_row6_col2\" class=\"data row6 col2\" >0.40</td>\n",
              "      <td id=\"T_39670_row6_col3\" class=\"data row6 col3\" >0.48</td>\n",
              "      <td id=\"T_39670_row6_col4\" class=\"data row6 col4\" >0.34</td>\n",
              "      <td id=\"T_39670_row6_col5\" class=\"data row6 col5\" >0.47</td>\n",
              "      <td id=\"T_39670_row6_col6\" class=\"data row6 col6\" >1.00</td>\n",
              "      <td id=\"T_39670_row6_col7\" class=\"data row6 col7\" >0.27</td>\n",
              "      <td id=\"T_39670_row6_col8\" class=\"data row6 col8\" >0.34</td>\n",
              "      <td id=\"T_39670_row6_col9\" class=\"data row6 col9\" >0.63</td>\n",
              "      <td id=\"T_39670_row6_col10\" class=\"data row6 col10\" >0.35</td>\n",
              "      <td id=\"T_39670_row6_col11\" class=\"data row6 col11\" >0.64</td>\n",
              "    </tr>\n",
              "    <tr>\n",
              "      <th id=\"T_39670_level0_row7\" class=\"row_heading level0 row7\" >c6</th>\n",
              "      <td id=\"T_39670_row7_col0\" class=\"data row7 col0\" >0.39</td>\n",
              "      <td id=\"T_39670_row7_col1\" class=\"data row7 col1\" >-0.22</td>\n",
              "      <td id=\"T_39670_row7_col2\" class=\"data row7 col2\" >0.43</td>\n",
              "      <td id=\"T_39670_row7_col3\" class=\"data row7 col3\" >0.61</td>\n",
              "      <td id=\"T_39670_row7_col4\" class=\"data row7 col4\" >0.50</td>\n",
              "      <td id=\"T_39670_row7_col5\" class=\"data row7 col5\" >0.49</td>\n",
              "      <td id=\"T_39670_row7_col6\" class=\"data row7 col6\" >0.27</td>\n",
              "      <td id=\"T_39670_row7_col7\" class=\"data row7 col7\" >1.00</td>\n",
              "      <td id=\"T_39670_row7_col8\" class=\"data row7 col8\" >0.73</td>\n",
              "      <td id=\"T_39670_row7_col9\" class=\"data row7 col9\" >0.50</td>\n",
              "      <td id=\"T_39670_row7_col10\" class=\"data row7 col10\" >0.51</td>\n",
              "      <td id=\"T_39670_row7_col11\" class=\"data row7 col11\" >0.76</td>\n",
              "    </tr>\n",
              "    <tr>\n",
              "      <th id=\"T_39670_level0_row8\" class=\"row_heading level0 row8\" >c7</th>\n",
              "      <td id=\"T_39670_row8_col0\" class=\"data row8 col0\" >0.47</td>\n",
              "      <td id=\"T_39670_row8_col1\" class=\"data row8 col1\" >-0.18</td>\n",
              "      <td id=\"T_39670_row8_col2\" class=\"data row8 col2\" >0.47</td>\n",
              "      <td id=\"T_39670_row8_col3\" class=\"data row8 col3\" >0.60</td>\n",
              "      <td id=\"T_39670_row8_col4\" class=\"data row8 col4\" >0.46</td>\n",
              "      <td id=\"T_39670_row8_col5\" class=\"data row8 col5\" >0.64</td>\n",
              "      <td id=\"T_39670_row8_col6\" class=\"data row8 col6\" >0.34</td>\n",
              "      <td id=\"T_39670_row8_col7\" class=\"data row8 col7\" >0.73</td>\n",
              "      <td id=\"T_39670_row8_col8\" class=\"data row8 col8\" >1.00</td>\n",
              "      <td id=\"T_39670_row8_col9\" class=\"data row8 col9\" >0.53</td>\n",
              "      <td id=\"T_39670_row8_col10\" class=\"data row8 col10\" >0.57</td>\n",
              "      <td id=\"T_39670_row8_col11\" class=\"data row8 col11\" >0.77</td>\n",
              "    </tr>\n",
              "    <tr>\n",
              "      <th id=\"T_39670_level0_row9\" class=\"row_heading level0 row9\" >c8</th>\n",
              "      <td id=\"T_39670_row9_col0\" class=\"data row9 col0\" >0.53</td>\n",
              "      <td id=\"T_39670_row9_col1\" class=\"data row9 col1\" >-0.22</td>\n",
              "      <td id=\"T_39670_row9_col2\" class=\"data row9 col2\" >0.46</td>\n",
              "      <td id=\"T_39670_row9_col3\" class=\"data row9 col3\" >0.62</td>\n",
              "      <td id=\"T_39670_row9_col4\" class=\"data row9 col4\" >0.45</td>\n",
              "      <td id=\"T_39670_row9_col5\" class=\"data row9 col5\" >0.43</td>\n",
              "      <td id=\"T_39670_row9_col6\" class=\"data row9 col6\" >0.63</td>\n",
              "      <td id=\"T_39670_row9_col7\" class=\"data row9 col7\" >0.50</td>\n",
              "      <td id=\"T_39670_row9_col8\" class=\"data row9 col8\" >0.53</td>\n",
              "      <td id=\"T_39670_row9_col9\" class=\"data row9 col9\" >1.00</td>\n",
              "      <td id=\"T_39670_row9_col10\" class=\"data row9 col10\" >0.48</td>\n",
              "      <td id=\"T_39670_row9_col11\" class=\"data row9 col11\" >0.74</td>\n",
              "    </tr>\n",
              "    <tr>\n",
              "      <th id=\"T_39670_level0_row10\" class=\"row_heading level0 row10\" >c9</th>\n",
              "      <td id=\"T_39670_row10_col0\" class=\"data row10 col0\" >0.49</td>\n",
              "      <td id=\"T_39670_row10_col1\" class=\"data row10 col1\" >-0.25</td>\n",
              "      <td id=\"T_39670_row10_col2\" class=\"data row10 col2\" >0.45</td>\n",
              "      <td id=\"T_39670_row10_col3\" class=\"data row10 col3\" >0.32</td>\n",
              "      <td id=\"T_39670_row10_col4\" class=\"data row10 col4\" >0.27</td>\n",
              "      <td id=\"T_39670_row10_col5\" class=\"data row10 col5\" >0.48</td>\n",
              "      <td id=\"T_39670_row10_col6\" class=\"data row10 col6\" >0.35</td>\n",
              "      <td id=\"T_39670_row10_col7\" class=\"data row10 col7\" >0.51</td>\n",
              "      <td id=\"T_39670_row10_col8\" class=\"data row10 col8\" >0.57</td>\n",
              "      <td id=\"T_39670_row10_col9\" class=\"data row10 col9\" >0.48</td>\n",
              "      <td id=\"T_39670_row10_col10\" class=\"data row10 col10\" >1.00</td>\n",
              "      <td id=\"T_39670_row10_col11\" class=\"data row10 col11\" >0.64</td>\n",
              "    </tr>\n",
              "    <tr>\n",
              "      <th id=\"T_39670_level0_row11\" class=\"row_heading level0 row11\" >Total</th>\n",
              "      <td id=\"T_39670_row11_col0\" class=\"data row11 col0\" >0.54</td>\n",
              "      <td id=\"T_39670_row11_col1\" class=\"data row11 col1\" >-0.34</td>\n",
              "      <td id=\"T_39670_row11_col2\" class=\"data row11 col2\" >0.66</td>\n",
              "      <td id=\"T_39670_row11_col3\" class=\"data row11 col3\" >0.78</td>\n",
              "      <td id=\"T_39670_row11_col4\" class=\"data row11 col4\" >0.68</td>\n",
              "      <td id=\"T_39670_row11_col5\" class=\"data row11 col5\" >0.72</td>\n",
              "      <td id=\"T_39670_row11_col6\" class=\"data row11 col6\" >0.64</td>\n",
              "      <td id=\"T_39670_row11_col7\" class=\"data row11 col7\" >0.76</td>\n",
              "      <td id=\"T_39670_row11_col8\" class=\"data row11 col8\" >0.77</td>\n",
              "      <td id=\"T_39670_row11_col9\" class=\"data row11 col9\" >0.74</td>\n",
              "      <td id=\"T_39670_row11_col10\" class=\"data row11 col10\" >0.64</td>\n",
              "      <td id=\"T_39670_row11_col11\" class=\"data row11 col11\" >1.00</td>\n",
              "    </tr>\n",
              "  </tbody>\n",
              "</table>\n"
            ]
          },
          "metadata": {},
          "execution_count": 7
        }
      ]
    },
    {
      "cell_type": "code",
      "source": [
        "data.info()"
      ],
      "metadata": {
        "colab": {
          "base_uri": "https://localhost:8080/"
        },
        "id": "uBMo2IU857x1",
        "outputId": "08d165de-4693-4b57-c04b-80c7ad6d6a2d"
      },
      "execution_count": null,
      "outputs": [
        {
          "output_type": "stream",
          "name": "stdout",
          "text": [
            "<class 'pandas.core.frame.DataFrame'>\n",
            "RangeIndex: 86 entries, 0 to 85\n",
            "Data columns (total 12 columns):\n",
            " #   Column  Non-Null Count  Dtype  \n",
            "---  ------  --------------  -----  \n",
            " 0   a2      86 non-null     float64\n",
            " 1   b3      86 non-null     float64\n",
            " 2   c1      86 non-null     float64\n",
            " 3   c2      86 non-null     float64\n",
            " 4   c3      86 non-null     float64\n",
            " 5   c4      86 non-null     float64\n",
            " 6   c5      86 non-null     float64\n",
            " 7   c6      86 non-null     float64\n",
            " 8   c7      86 non-null     float64\n",
            " 9   c8      86 non-null     float64\n",
            " 10  c9      86 non-null     float64\n",
            " 11  Total   86 non-null     float64\n",
            "dtypes: float64(12)\n",
            "memory usage: 8.2 KB\n"
          ]
        }
      ]
    },
    {
      "cell_type": "code",
      "source": [
        "array = data.values\n",
        "X = array[:,0:11]\n",
        "Y = array[:,11]\n",
        "validation_size = 0.20\n",
        "seed = 42\n",
        "X_train, X_validation, Y_train, Y_validation = train_test_split(X, Y, test_size=validation_size, random_state=seed)"
      ],
      "metadata": {
        "id": "YupvPWLp51sd"
      },
      "execution_count": null,
      "outputs": []
    },
    {
      "cell_type": "code",
      "source": [
        "X_train.shape, X_validation.shape"
      ],
      "metadata": {
        "colab": {
          "base_uri": "https://localhost:8080/"
        },
        "id": "1eqjhwTr6Ccw",
        "outputId": "ba954ccb-6606-4e76-9558-37c831a64040"
      },
      "execution_count": null,
      "outputs": [
        {
          "output_type": "execute_result",
          "data": {
            "text/plain": [
              "((68, 11), (18, 11))"
            ]
          },
          "metadata": {},
          "execution_count": 10
        }
      ]
    },
    {
      "cell_type": "code",
      "source": [
        "num_folds = 10\n",
        "seed = 7\n",
        "scoring = 'accuracy'"
      ],
      "metadata": {
        "id": "lxGBojqg6HvR"
      },
      "execution_count": null,
      "outputs": []
    },
    {
      "cell_type": "markdown",
      "source": [
        "## Models"
      ],
      "metadata": {
        "id": "uiceu4rE8ZBV"
      }
    },
    {
      "cell_type": "code",
      "source": [
        "models = []\n",
        "models.append(('LR', LogisticRegression()))\n",
        "models.append(('LDA', LinearDiscriminantAnalysis()))\n",
        "models.append(('KNN', KNeighborsClassifier()))\n",
        "models.append(('CART', DecisionTreeClassifier()))\n",
        "models.append(('NB', GaussianNB()))\n",
        "models.append(('SVM', SVC()))"
      ],
      "metadata": {
        "id": "1adrovtd6J9v"
      },
      "execution_count": null,
      "outputs": []
    },
    {
      "cell_type": "code",
      "source": [
        "results = []\n",
        "names = []\n",
        "for name, model in models:\n",
        "  kfold = KFold(n_splits=num_folds, random_state=None)\n",
        "  cv_results = cross_val_score(model, X_train, Y_train, cv=kfold, scoring=scoring)\n",
        "  results.append(cv_results)\n",
        "  names.append(name)\n",
        "  msg = \"%s: %f (%f)\" % (name, cv_results.mean(), cv_results.std())\n",
        "  print(msg)"
      ],
      "metadata": {
        "colab": {
          "base_uri": "https://localhost:8080/"
        },
        "id": "ahLyVfdQ6L4Z",
        "outputId": "898bf114-08c9-4ffa-c13c-d9bbfb48b689"
      },
      "execution_count": null,
      "outputs": [
        {
          "output_type": "stream",
          "name": "stderr",
          "text": [
            "/usr/local/lib/python3.7/dist-packages/sklearn/linear_model/_logistic.py:818: ConvergenceWarning: lbfgs failed to converge (status=1):\n",
            "STOP: TOTAL NO. of ITERATIONS REACHED LIMIT.\n",
            "\n",
            "Increase the number of iterations (max_iter) or scale the data as shown in:\n",
            "    https://scikit-learn.org/stable/modules/preprocessing.html\n",
            "Please also refer to the documentation for alternative solver options:\n",
            "    https://scikit-learn.org/stable/modules/linear_model.html#logistic-regression\n",
            "  extra_warning_msg=_LOGISTIC_SOLVER_CONVERGENCE_MSG,\n",
            "/usr/local/lib/python3.7/dist-packages/sklearn/linear_model/_logistic.py:818: ConvergenceWarning: lbfgs failed to converge (status=1):\n",
            "STOP: TOTAL NO. of ITERATIONS REACHED LIMIT.\n",
            "\n",
            "Increase the number of iterations (max_iter) or scale the data as shown in:\n",
            "    https://scikit-learn.org/stable/modules/preprocessing.html\n",
            "Please also refer to the documentation for alternative solver options:\n",
            "    https://scikit-learn.org/stable/modules/linear_model.html#logistic-regression\n",
            "  extra_warning_msg=_LOGISTIC_SOLVER_CONVERGENCE_MSG,\n",
            "/usr/local/lib/python3.7/dist-packages/sklearn/linear_model/_logistic.py:818: ConvergenceWarning: lbfgs failed to converge (status=1):\n",
            "STOP: TOTAL NO. of ITERATIONS REACHED LIMIT.\n",
            "\n",
            "Increase the number of iterations (max_iter) or scale the data as shown in:\n",
            "    https://scikit-learn.org/stable/modules/preprocessing.html\n",
            "Please also refer to the documentation for alternative solver options:\n",
            "    https://scikit-learn.org/stable/modules/linear_model.html#logistic-regression\n",
            "  extra_warning_msg=_LOGISTIC_SOLVER_CONVERGENCE_MSG,\n",
            "/usr/local/lib/python3.7/dist-packages/sklearn/linear_model/_logistic.py:818: ConvergenceWarning: lbfgs failed to converge (status=1):\n",
            "STOP: TOTAL NO. of ITERATIONS REACHED LIMIT.\n",
            "\n",
            "Increase the number of iterations (max_iter) or scale the data as shown in:\n",
            "    https://scikit-learn.org/stable/modules/preprocessing.html\n",
            "Please also refer to the documentation for alternative solver options:\n",
            "    https://scikit-learn.org/stable/modules/linear_model.html#logistic-regression\n",
            "  extra_warning_msg=_LOGISTIC_SOLVER_CONVERGENCE_MSG,\n",
            "/usr/local/lib/python3.7/dist-packages/sklearn/linear_model/_logistic.py:818: ConvergenceWarning: lbfgs failed to converge (status=1):\n",
            "STOP: TOTAL NO. of ITERATIONS REACHED LIMIT.\n",
            "\n",
            "Increase the number of iterations (max_iter) or scale the data as shown in:\n",
            "    https://scikit-learn.org/stable/modules/preprocessing.html\n",
            "Please also refer to the documentation for alternative solver options:\n",
            "    https://scikit-learn.org/stable/modules/linear_model.html#logistic-regression\n",
            "  extra_warning_msg=_LOGISTIC_SOLVER_CONVERGENCE_MSG,\n",
            "/usr/local/lib/python3.7/dist-packages/sklearn/linear_model/_logistic.py:818: ConvergenceWarning: lbfgs failed to converge (status=1):\n",
            "STOP: TOTAL NO. of ITERATIONS REACHED LIMIT.\n",
            "\n",
            "Increase the number of iterations (max_iter) or scale the data as shown in:\n",
            "    https://scikit-learn.org/stable/modules/preprocessing.html\n",
            "Please also refer to the documentation for alternative solver options:\n",
            "    https://scikit-learn.org/stable/modules/linear_model.html#logistic-regression\n",
            "  extra_warning_msg=_LOGISTIC_SOLVER_CONVERGENCE_MSG,\n",
            "/usr/local/lib/python3.7/dist-packages/sklearn/linear_model/_logistic.py:818: ConvergenceWarning: lbfgs failed to converge (status=1):\n",
            "STOP: TOTAL NO. of ITERATIONS REACHED LIMIT.\n",
            "\n",
            "Increase the number of iterations (max_iter) or scale the data as shown in:\n",
            "    https://scikit-learn.org/stable/modules/preprocessing.html\n",
            "Please also refer to the documentation for alternative solver options:\n",
            "    https://scikit-learn.org/stable/modules/linear_model.html#logistic-regression\n",
            "  extra_warning_msg=_LOGISTIC_SOLVER_CONVERGENCE_MSG,\n"
          ]
        },
        {
          "output_type": "stream",
          "name": "stdout",
          "text": [
            "LR: 0.695238 (0.216339)\n",
            "LDA: 0.854762 (0.110887)\n",
            "KNN: 0.723810 (0.186628)\n",
            "CART: 0.647619 (0.111066)\n",
            "NB: 0.723810 (0.130497)\n",
            "SVM: 0.838095 (0.134603)\n"
          ]
        },
        {
          "output_type": "stream",
          "name": "stderr",
          "text": [
            "/usr/local/lib/python3.7/dist-packages/sklearn/linear_model/_logistic.py:818: ConvergenceWarning: lbfgs failed to converge (status=1):\n",
            "STOP: TOTAL NO. of ITERATIONS REACHED LIMIT.\n",
            "\n",
            "Increase the number of iterations (max_iter) or scale the data as shown in:\n",
            "    https://scikit-learn.org/stable/modules/preprocessing.html\n",
            "Please also refer to the documentation for alternative solver options:\n",
            "    https://scikit-learn.org/stable/modules/linear_model.html#logistic-regression\n",
            "  extra_warning_msg=_LOGISTIC_SOLVER_CONVERGENCE_MSG,\n",
            "/usr/local/lib/python3.7/dist-packages/sklearn/linear_model/_logistic.py:818: ConvergenceWarning: lbfgs failed to converge (status=1):\n",
            "STOP: TOTAL NO. of ITERATIONS REACHED LIMIT.\n",
            "\n",
            "Increase the number of iterations (max_iter) or scale the data as shown in:\n",
            "    https://scikit-learn.org/stable/modules/preprocessing.html\n",
            "Please also refer to the documentation for alternative solver options:\n",
            "    https://scikit-learn.org/stable/modules/linear_model.html#logistic-regression\n",
            "  extra_warning_msg=_LOGISTIC_SOLVER_CONVERGENCE_MSG,\n",
            "/usr/local/lib/python3.7/dist-packages/sklearn/linear_model/_logistic.py:818: ConvergenceWarning: lbfgs failed to converge (status=1):\n",
            "STOP: TOTAL NO. of ITERATIONS REACHED LIMIT.\n",
            "\n",
            "Increase the number of iterations (max_iter) or scale the data as shown in:\n",
            "    https://scikit-learn.org/stable/modules/preprocessing.html\n",
            "Please also refer to the documentation for alternative solver options:\n",
            "    https://scikit-learn.org/stable/modules/linear_model.html#logistic-regression\n",
            "  extra_warning_msg=_LOGISTIC_SOLVER_CONVERGENCE_MSG,\n"
          ]
        }
      ]
    },
    {
      "cell_type": "code",
      "source": [
        "fig = plt.figure(figsize=(10, 10))\n",
        "fig.suptitle('Algorithm Comparison')\n",
        "ax = fig.add_subplot(111)\n",
        "pyplot.boxplot(results)\n",
        "ax.set_xticklabels(names)\n",
        "pyplot.show()"
      ],
      "metadata": {
        "colab": {
          "base_uri": "https://localhost:8080/",
          "height": 663
        },
        "id": "wgULiubq6Ofx",
        "outputId": "a3a92c3c-484e-4a33-9cf7-8fcfe7ce2c80"
      },
      "execution_count": null,
      "outputs": [
        {
          "output_type": "display_data",
          "data": {
            "text/plain": [
              "<Figure size 720x720 with 1 Axes>"
            ],
            "image/png": "[encoded data removed]"
          },
          "metadata": {
            "needs_background": "light"
          }
        }
      ]
    },
    {
      "cell_type": "code",
      "source": [
        "pipelines = []\n",
        "pipelines.append(('ScaledLR', Pipeline([('Scaler', StandardScaler()),('LR',LogisticRegression())])))\n",
        "pipelines.append(('ScaledLDA', Pipeline([('Scaler', StandardScaler()),('LDA', LinearDiscriminantAnalysis())])))\n",
        "pipelines.append(('ScaledKNN', Pipeline([('Scaler', StandardScaler()),('KNN', KNeighborsClassifier())])))\n",
        "pipelines.append(('ScaledCART', Pipeline([('Scaler', StandardScaler()),('CART', DecisionTreeClassifier())])))\n",
        "pipelines.append(('ScaledNB', Pipeline([('Scaler', StandardScaler()),('NB', GaussianNB())])))\n",
        "pipelines.append(('ScaledSVM', Pipeline([('Scaler', StandardScaler()),('SVM', SVC())])))\n",
        "results = []\n",
        "names = []\n",
        "for name, model in pipelines:\n",
        "  kfold = KFold(n_splits=num_folds, random_state=None)\n",
        "  cv_results = cross_val_score(model, X_train, Y_train, cv=kfold, scoring=scoring)\n",
        "  results.append(cv_results)\n",
        "  names.append(name)\n",
        "  msg = \"%s: %f (%f)\" % (name, cv_results.mean(), cv_results.std())\n",
        "  print(msg)"
      ],
      "metadata": {
        "colab": {
          "base_uri": "https://localhost:8080/"
        },
        "id": "MzeKAfOR6gN8",
        "outputId": "bf08664a-8d99-4ab2-9c2a-e826f4d794ec"
      },
      "execution_count": null,
      "outputs": [
        {
          "output_type": "stream",
          "name": "stdout",
          "text": [
            "ScaledLR: 0.695238 (0.206691)\n",
            "ScaledLDA: 0.854762 (0.110887)\n",
            "ScaledKNN: 0.709524 (0.143570)\n",
            "ScaledCART: 0.633333 (0.148003)\n",
            "ScaledNB: 0.723810 (0.130497)\n",
            "ScaledSVM: 0.823810 (0.123810)\n"
          ]
        }
      ]
    },
    {
      "cell_type": "code",
      "source": [
        "# LDA\n",
        "scaler = StandardScaler().fit(X_train)\n",
        "rescaledX = scaler.transform(X_train)\n",
        "shrinkage_values = [0.01, 0.03, 0.05, 0.07,0.1, 0.2, 0.3, 0.4, 0.5, 0.6, 0.7, 0.8, 0.9]\n",
        "solver_values = ['svd', 'lsqr', 'eigen']\n",
        "param_grid = dict(shrinkage=shrinkage_values, solver = solver_values)\n",
        "model = LinearDiscriminantAnalysis()\n",
        "kfold = KFold(n_splits=num_folds, random_state=None)\n",
        "grid = GridSearchCV(estimator=model, param_grid=param_grid, scoring=scoring, cv=kfold)\n",
        "grid_result = grid.fit(rescaledX, Y_train)\n",
        "print(\"Best: %f using %s\" % (grid_result.best_score_, grid_result.best_params_))\n",
        "means = grid_result.cv_results_['mean_test_score']\n",
        "stds = grid_result.cv_results_['std_test_score']\n",
        "params = grid_result.cv_results_['params']\n",
        "for mean, stdev, param in zip(means, stds, params):\n",
        "  print(\"%f (%f) with: %r\" % (mean, stdev, param))"
      ],
      "metadata": {
        "colab": {
          "base_uri": "https://localhost:8080/"
        },
        "id": "A6SSrRz56ye8",
        "outputId": "1acc02aa-17fe-4d78-ea66-5235b57112a6"
      },
      "execution_count": null,
      "outputs": [
        {
          "output_type": "stream",
          "name": "stdout",
          "text": [
            "Best: 0.869048 using {'shrinkage': 0.05, 'solver': 'lsqr'}\n",
            "nan (nan) with: {'shrinkage': 0.01, 'solver': 'svd'}\n",
            "0.854762 (0.110887) with: {'shrinkage': 0.01, 'solver': 'lsqr'}\n",
            "0.854762 (0.110887) with: {'shrinkage': 0.01, 'solver': 'eigen'}\n",
            "nan (nan) with: {'shrinkage': 0.03, 'solver': 'svd'}\n",
            "0.854762 (0.110887) with: {'shrinkage': 0.03, 'solver': 'lsqr'}\n",
            "0.854762 (0.110887) with: {'shrinkage': 0.03, 'solver': 'eigen'}\n",
            "nan (nan) with: {'shrinkage': 0.05, 'solver': 'svd'}\n",
            "0.869048 (0.119167) with: {'shrinkage': 0.05, 'solver': 'lsqr'}\n",
            "0.869048 (0.119167) with: {'shrinkage': 0.05, 'solver': 'eigen'}\n",
            "nan (nan) with: {'shrinkage': 0.07, 'solver': 'svd'}\n",
            "0.869048 (0.119167) with: {'shrinkage': 0.07, 'solver': 'lsqr'}\n",
            "0.869048 (0.119167) with: {'shrinkage': 0.07, 'solver': 'eigen'}\n",
            "nan (nan) with: {'shrinkage': 0.1, 'solver': 'svd'}\n",
            "0.869048 (0.119167) with: {'shrinkage': 0.1, 'solver': 'lsqr'}\n",
            "0.869048 (0.119167) with: {'shrinkage': 0.1, 'solver': 'eigen'}\n",
            "nan (nan) with: {'shrinkage': 0.2, 'solver': 'svd'}\n",
            "0.811905 (0.156655) with: {'shrinkage': 0.2, 'solver': 'lsqr'}\n",
            "0.811905 (0.156655) with: {'shrinkage': 0.2, 'solver': 'eigen'}\n",
            "nan (nan) with: {'shrinkage': 0.3, 'solver': 'svd'}\n",
            "0.754762 (0.180089) with: {'shrinkage': 0.3, 'solver': 'lsqr'}\n",
            "0.754762 (0.180089) with: {'shrinkage': 0.3, 'solver': 'eigen'}\n",
            "nan (nan) with: {'shrinkage': 0.4, 'solver': 'svd'}\n",
            "0.754762 (0.180089) with: {'shrinkage': 0.4, 'solver': 'lsqr'}\n",
            "0.754762 (0.180089) with: {'shrinkage': 0.4, 'solver': 'eigen'}\n",
            "nan (nan) with: {'shrinkage': 0.5, 'solver': 'svd'}\n",
            "0.769048 (0.157952) with: {'shrinkage': 0.5, 'solver': 'lsqr'}\n",
            "0.769048 (0.157952) with: {'shrinkage': 0.5, 'solver': 'eigen'}\n",
            "nan (nan) with: {'shrinkage': 0.6, 'solver': 'svd'}\n",
            "0.785714 (0.172023) with: {'shrinkage': 0.6, 'solver': 'lsqr'}\n",
            "0.785714 (0.172023) with: {'shrinkage': 0.6, 'solver': 'eigen'}\n",
            "nan (nan) with: {'shrinkage': 0.7, 'solver': 'svd'}\n",
            "0.814286 (0.143570) with: {'shrinkage': 0.7, 'solver': 'lsqr'}\n",
            "0.814286 (0.143570) with: {'shrinkage': 0.7, 'solver': 'eigen'}\n",
            "nan (nan) with: {'shrinkage': 0.8, 'solver': 'svd'}\n",
            "0.814286 (0.143570) with: {'shrinkage': 0.8, 'solver': 'lsqr'}\n",
            "0.814286 (0.143570) with: {'shrinkage': 0.8, 'solver': 'eigen'}\n",
            "nan (nan) with: {'shrinkage': 0.9, 'solver': 'svd'}\n",
            "0.800000 (0.159079) with: {'shrinkage': 0.9, 'solver': 'lsqr'}\n",
            "0.800000 (0.159079) with: {'shrinkage': 0.9, 'solver': 'eigen'}\n"
          ]
        },
        {
          "output_type": "stream",
          "name": "stderr",
          "text": [
            "/usr/local/lib/python3.7/dist-packages/sklearn/model_selection/_validation.py:372: FitFailedWarning: \n",
            "130 fits failed out of a total of 390.\n",
            "The score on these train-test partitions for these parameters will be set to nan.\n",
            "If these failures are not expected, you can try to debug them by setting error_score='raise'.\n",
            "\n",
            "Below are more details about the failures:\n",
            "--------------------------------------------------------------------------------\n",
            "130 fits failed with the following error:\n",
            "Traceback (most recent call last):\n",
            "  File \"/usr/local/lib/python3.7/dist-packages/sklearn/model_selection/_validation.py\", line 680, in _fit_and_score\n",
            "    estimator.fit(X_train, y_train, **fit_params)\n",
            "  File \"/usr/local/lib/python3.7/dist-packages/sklearn/discriminant_analysis.py\", line 583, in fit\n",
            "    raise NotImplementedError(\"shrinkage not supported\")\n",
            "NotImplementedError: shrinkage not supported\n",
            "\n",
            "  warnings.warn(some_fits_failed_message, FitFailedWarning)\n",
            "/usr/local/lib/python3.7/dist-packages/sklearn/model_selection/_search.py:972: UserWarning: One or more of the test scores are non-finite: [       nan 0.8547619  0.8547619         nan 0.8547619  0.8547619\n",
            "        nan 0.86904762 0.86904762        nan 0.86904762 0.86904762\n",
            "        nan 0.86904762 0.86904762        nan 0.81190476 0.81190476\n",
            "        nan 0.7547619  0.7547619         nan 0.7547619  0.7547619\n",
            "        nan 0.76904762 0.76904762        nan 0.78571429 0.78571429\n",
            "        nan 0.81428571 0.81428571        nan 0.81428571 0.81428571\n",
            "        nan 0.8        0.8       ]\n",
            "  category=UserWarning,\n"
          ]
        }
      ]
    },
    {
      "cell_type": "code",
      "source": [
        "# SVM\n",
        "scaler = StandardScaler().fit(X_train)\n",
        "rescaledX = scaler.transform(X_train)\n",
        "param_grid = {'C': [0.1, 1, 10, 100, 1000],\n",
        "              'gamma': [1, 0.1, 0.01, 0.001, 0.0001],\n",
        "              'kernel': ['rbf']}\n",
        "model = SVC()\n",
        "kfold = KFold(n_splits=num_folds, random_state=None)\n",
        "grid = GridSearchCV(estimator=model, param_grid=param_grid, scoring=scoring, cv=kfold)\n",
        "grid_result = grid.fit(rescaledX, Y_train)\n",
        "print(\"Best: %f using %s\" % (grid_result.best_score_, grid_result.best_params_))\n",
        "means = grid_result.cv_results_['mean_test_score']\n",
        "stds = grid_result.cv_results_['std_test_score']\n",
        "params = grid_result.cv_results_['params']\n",
        "for mean, stdev, param in zip(means, stds, params):\n",
        "  print(\"%f (%f) with: %r\" % (mean, stdev, param))"
      ],
      "metadata": {
        "colab": {
          "base_uri": "https://localhost:8080/"
        },
        "id": "B4ijt1zq6Rlw",
        "outputId": "ea8b294d-9a8e-4892-914a-e4eab7dbfdda"
      },
      "execution_count": null,
      "outputs": [
        {
          "output_type": "stream",
          "name": "stdout",
          "text": [
            "Best: 0.809524 using {'C': 1, 'gamma': 0.1, 'kernel': 'rbf'}\n",
            "0.133333 (0.078391) with: {'C': 0.1, 'gamma': 1, 'kernel': 'rbf'}\n",
            "0.209524 (0.212372) with: {'C': 0.1, 'gamma': 0.1, 'kernel': 'rbf'}\n",
            "0.209524 (0.212372) with: {'C': 0.1, 'gamma': 0.01, 'kernel': 'rbf'}\n",
            "0.209524 (0.212372) with: {'C': 0.1, 'gamma': 0.001, 'kernel': 'rbf'}\n",
            "0.209524 (0.212372) with: {'C': 0.1, 'gamma': 0.0001, 'kernel': 'rbf'}\n",
            "0.150000 (0.098774) with: {'C': 1, 'gamma': 1, 'kernel': 'rbf'}\n",
            "0.809524 (0.127331) with: {'C': 1, 'gamma': 0.1, 'kernel': 'rbf'}\n",
            "0.502381 (0.165112) with: {'C': 1, 'gamma': 0.01, 'kernel': 'rbf'}\n",
            "0.209524 (0.212372) with: {'C': 1, 'gamma': 0.001, 'kernel': 'rbf'}\n",
            "0.209524 (0.212372) with: {'C': 1, 'gamma': 0.0001, 'kernel': 'rbf'}\n",
            "0.221429 (0.075330) with: {'C': 10, 'gamma': 1, 'kernel': 'rbf'}\n",
            "0.780952 (0.144357) with: {'C': 10, 'gamma': 0.1, 'kernel': 'rbf'}\n",
            "0.780952 (0.112587) with: {'C': 10, 'gamma': 0.01, 'kernel': 'rbf'}\n",
            "0.550000 (0.189417) with: {'C': 10, 'gamma': 0.001, 'kernel': 'rbf'}\n",
            "0.209524 (0.212372) with: {'C': 10, 'gamma': 0.0001, 'kernel': 'rbf'}\n",
            "0.221429 (0.075330) with: {'C': 100, 'gamma': 1, 'kernel': 'rbf'}\n",
            "0.780952 (0.144357) with: {'C': 100, 'gamma': 0.1, 'kernel': 'rbf'}\n",
            "0.766667 (0.128130) with: {'C': 100, 'gamma': 0.01, 'kernel': 'rbf'}\n",
            "0.809524 (0.110143) with: {'C': 100, 'gamma': 0.001, 'kernel': 'rbf'}\n",
            "0.550000 (0.189417) with: {'C': 100, 'gamma': 0.0001, 'kernel': 'rbf'}\n",
            "0.221429 (0.075330) with: {'C': 1000, 'gamma': 1, 'kernel': 'rbf'}\n",
            "0.780952 (0.144357) with: {'C': 1000, 'gamma': 0.1, 'kernel': 'rbf'}\n",
            "0.766667 (0.143174) with: {'C': 1000, 'gamma': 0.01, 'kernel': 'rbf'}\n",
            "0.797619 (0.144926) with: {'C': 1000, 'gamma': 0.001, 'kernel': 'rbf'}\n",
            "0.809524 (0.110143) with: {'C': 1000, 'gamma': 0.0001, 'kernel': 'rbf'}\n"
          ]
        }
      ]
    },
    {
      "cell_type": "markdown",
      "source": [
        "## Ensembles"
      ],
      "metadata": {
        "id": "mkvBr5rc8UCl"
      }
    },
    {
      "cell_type": "code",
      "source": [
        "ensembles = []\n",
        "ensembles.append(('AB', AdaBoostClassifier()))\n",
        "ensembles.append(('GBM', GradientBoostingClassifier()))\n",
        "ensembles.append(('RF', RandomForestClassifier()))\n",
        "ensembles.append(('ET', ExtraTreesClassifier()))\n",
        "results = []\n",
        "names = []\n",
        "for name, model in ensembles:\n",
        "  kfold = KFold(n_splits=num_folds, random_state=None)\n",
        "  cv_results = cross_val_score(model, X_train, Y_train, cv=kfold, scoring=scoring)\n",
        "  results.append(cv_results)\n",
        "  names.append(name)\n",
        "  msg = \"%s: %f (%f)\" % (name, cv_results.mean(), cv_results.std())\n",
        "  print(msg)"
      ],
      "metadata": {
        "colab": {
          "base_uri": "https://localhost:8080/"
        },
        "id": "txmKYaqp74Hg",
        "outputId": "dc59b356-e8b7-4034-a1f6-7ef92bc47a95"
      },
      "execution_count": null,
      "outputs": [
        {
          "output_type": "stream",
          "name": "stdout",
          "text": [
            "AB: 0.428571 (0.157935)\n",
            "GBM: 0.661905 (0.126795)\n",
            "RF: 0.764286 (0.132330)\n",
            "ET: 0.764286 (0.096685)\n"
          ]
        }
      ]
    },
    {
      "cell_type": "code",
      "source": [
        "fig = pyplot.figure(figsize=(10, 10))\n",
        "fig.suptitle('Scaled Ensemble Algorithm Comparison')\n",
        "ax = fig.add_subplot(111)\n",
        "pyplot.boxplot(results)\n",
        "ax.set_xticklabels(names)\n",
        "pyplot.show()"
      ],
      "metadata": {
        "colab": {
          "base_uri": "https://localhost:8080/",
          "height": 663
        },
        "id": "mhtOyfAJ8KaV",
        "outputId": "2cb678a7-fbcf-4c2c-decd-e8adf3a4ec77"
      },
      "execution_count": null,
      "outputs": [
        {
          "output_type": "display_data",
          "data": {
            "text/plain": [
              "<Figure size 720x720 with 1 Axes>"
            ],
            "image/png": "[encoded data removed]"
          },
          "metadata": {
            "needs_background": "light"
          }
        }
      ]
    },
    {
      "cell_type": "code",
      "source": [
        "# ET\n",
        "scaler = StandardScaler().fit(X_train)\n",
        "rescaledX = scaler.transform(X_train)\n",
        "param_grid = dict(n_estimators=np.array([50, 100, 150, 170, 190, 200, 220, 225, 250, 300, 350, 400]))\n",
        "model = ExtraTreesClassifier(random_state=seed)\n",
        "kfold = KFold(n_splits=num_folds, random_state=seed, shuffle=True)\n",
        "grid = GridSearchCV(estimator=model, param_grid=param_grid, scoring=scoring, cv=kfold)\n",
        "grid_result = grid.fit(rescaledX, Y_train)\n",
        "\n",
        "print(\"Best: %f using %s\" % (grid_result.best_score_, grid_result.best_params_))\n",
        "means = grid_result.cv_results_['mean_test_score']\n",
        "stds = grid_result.cv_results_['std_test_score']\n",
        "params = grid_result.cv_results_['params']\n",
        "for mean, stdev, param in zip(means, stds, params):\n",
        "  print(\"%f (%f) with: %r\" % (mean, stdev, param))"
      ],
      "metadata": {
        "colab": {
          "base_uri": "https://localhost:8080/"
        },
        "id": "DlINFiop8ThW",
        "outputId": "6d7a1fcc-1bf9-44b3-cae6-e55cc462558c"
      },
      "execution_count": null,
      "outputs": [
        {
          "output_type": "stream",
          "name": "stdout",
          "text": [
            "Best: 0.797619 using {'n_estimators': 50}\n",
            "0.797619 (0.144926) with: {'n_estimators': 50}\n",
            "0.797619 (0.144926) with: {'n_estimators': 100}\n",
            "0.783333 (0.130606) with: {'n_estimators': 150}\n",
            "0.766667 (0.111066) with: {'n_estimators': 170}\n",
            "0.766667 (0.111066) with: {'n_estimators': 190}\n",
            "0.766667 (0.111066) with: {'n_estimators': 200}\n",
            "0.780952 (0.112587) with: {'n_estimators': 220}\n",
            "0.780952 (0.112587) with: {'n_estimators': 225}\n",
            "0.795238 (0.112284) with: {'n_estimators': 250}\n",
            "0.795238 (0.112284) with: {'n_estimators': 300}\n",
            "0.766667 (0.090851) with: {'n_estimators': 350}\n",
            "0.766667 (0.090851) with: {'n_estimators': 400}\n"
          ]
        }
      ]
    },
    {
      "cell_type": "code",
      "source": [
        "# RF\n",
        "scaler = StandardScaler().fit(X_train)\n",
        "rescaledX = scaler.transform(X_train)\n",
        "param_grid = dict(n_estimators=np.array([35, 40, 45, 55, 60, 65, 50, 48, 49, 51, 52]))\n",
        "model = RandomForestClassifier(random_state=seed)\n",
        "kfold = KFold(n_splits=num_folds, random_state=None)\n",
        "grid = GridSearchCV(estimator=model, param_grid=param_grid, scoring=scoring, cv=kfold)\n",
        "grid_result = grid.fit(rescaledX, Y_train)\n",
        "\n",
        "print(\"Best: %f using %s\" % (grid_result.best_score_, grid_result.best_params_))\n",
        "means = grid_result.cv_results_['mean_test_score']\n",
        "stds = grid_result.cv_results_['std_test_score']\n",
        "params = grid_result.cv_results_['params']\n",
        "for mean, stdev, param in zip(means, stds, params):\n",
        "  print(\"%f (%f) with: %r\" % (mean, stdev, param))"
      ],
      "metadata": {
        "colab": {
          "base_uri": "https://localhost:8080/"
        },
        "id": "3mplXxIg_-k-",
        "outputId": "43dcd1da-f7a0-45c7-8b90-e5c65496248f"
      },
      "execution_count": null,
      "outputs": [
        {
          "output_type": "stream",
          "name": "stdout",
          "text": [
            "Best: 0.780952 using {'n_estimators': 45}\n",
            "0.750000 (0.144141) with: {'n_estimators': 35}\n",
            "0.735714 (0.166479) with: {'n_estimators': 40}\n",
            "0.780952 (0.129450) with: {'n_estimators': 45}\n",
            "0.780952 (0.129450) with: {'n_estimators': 55}\n",
            "0.766667 (0.128130) with: {'n_estimators': 60}\n",
            "0.766667 (0.128130) with: {'n_estimators': 65}\n",
            "0.764286 (0.132330) with: {'n_estimators': 50}\n",
            "0.764286 (0.115887) with: {'n_estimators': 48}\n",
            "0.747619 (0.133078) with: {'n_estimators': 49}\n",
            "0.764286 (0.132330) with: {'n_estimators': 51}\n",
            "0.780952 (0.129450) with: {'n_estimators': 52}\n"
          ]
        }
      ]
    },
    {
      "cell_type": "markdown",
      "source": [
        "# Step 3: Traing - Testing"
      ],
      "metadata": {
        "id": "zYceF7999PrO"
      }
    },
    {
      "cell_type": "markdown",
      "source": [
        "## SVM"
      ],
      "metadata": {
        "id": "qvWv4TS16rF0"
      }
    },
    {
      "cell_type": "code",
      "source": [
        "modelSVM= SVC(C = 1, gamma = 0.1, kernel = 'rbf')\n",
        "modelSVM.fit(X_train, Y_train)\n",
        "predictions = modelSVM.predict(X_validation)"
      ],
      "metadata": {
        "id": "a1deYT1f6t0R"
      },
      "execution_count": null,
      "outputs": []
    },
    {
      "cell_type": "code",
      "source": [
        "print(accuracy_score(Y_train, modelSVM.predict(X_train)))\n",
        "print(accuracy_score(Y_validation, predictions))\n",
        "print(confusion_matrix(Y_validation, predictions))\n",
        "print(classification_report(Y_validation, predictions))"
      ],
      "metadata": {
        "colab": {
          "base_uri": "https://localhost:8080/"
        },
        "id": "oY4qq-qH6tpT",
        "outputId": "0a3b27f5-e6d9-42e1-9d39-d7608ca07071"
      },
      "execution_count": null,
      "outputs": [
        {
          "output_type": "stream",
          "name": "stdout",
          "text": [
            "0.9852941176470589\n",
            "0.9444444444444444\n",
            "[[3 1 0 0]\n",
            " [0 7 0 0]\n",
            " [0 0 2 0]\n",
            " [0 0 0 5]]\n",
            "              precision    recall  f1-score   support\n",
            "\n",
            "         1.0       1.00      0.75      0.86         4\n",
            "         2.0       0.88      1.00      0.93         7\n",
            "         3.0       1.00      1.00      1.00         2\n",
            "         4.0       1.00      1.00      1.00         5\n",
            "\n",
            "    accuracy                           0.94        18\n",
            "   macro avg       0.97      0.94      0.95        18\n",
            "weighted avg       0.95      0.94      0.94        18\n",
            "\n"
          ]
        }
      ]
    },
    {
      "cell_type": "markdown",
      "source": [
        "### LDA"
      ],
      "metadata": {
        "id": "tR67Kuxo9U2_"
      }
    },
    {
      "cell_type": "code",
      "source": [
        "modelLDA = LinearDiscriminantAnalysis(shrinkage = 0.05, solver = 'lsqr')\n",
        "modelLDA.fit(X_train, Y_train)\n",
        "predictions = modelLDA.predict(X_validation)"
      ],
      "metadata": {
        "id": "LYTbf-Hp9CIV"
      },
      "execution_count": null,
      "outputs": []
    },
    {
      "cell_type": "code",
      "source": [
        "print(accuracy_score(Y_train, modelLDA.predict(X_train)))\n",
        "print(accuracy_score(Y_validation, predictions))\n",
        "print(confusion_matrix(Y_validation, predictions))\n",
        "print(classification_report(Y_validation, predictions))"
      ],
      "metadata": {
        "colab": {
          "base_uri": "https://localhost:8080/"
        },
        "id": "CFX9dh8p9ffm",
        "outputId": "4a0aaf47-18e6-4524-893c-3390f7d6a8c6"
      },
      "execution_count": null,
      "outputs": [
        {
          "output_type": "stream",
          "name": "stdout",
          "text": [
            "0.9558823529411765\n",
            "1.0\n",
            "[[4 0 0 0]\n",
            " [0 7 0 0]\n",
            " [0 0 2 0]\n",
            " [0 0 0 5]]\n",
            "              precision    recall  f1-score   support\n",
            "\n",
            "         1.0       1.00      1.00      1.00         4\n",
            "         2.0       1.00      1.00      1.00         7\n",
            "         3.0       1.00      1.00      1.00         2\n",
            "         4.0       1.00      1.00      1.00         5\n",
            "\n",
            "    accuracy                           1.00        18\n",
            "   macro avg       1.00      1.00      1.00        18\n",
            "weighted avg       1.00      1.00      1.00        18\n",
            "\n"
          ]
        }
      ]
    },
    {
      "cell_type": "markdown",
      "source": [
        "### ExtraTreesClassifier"
      ],
      "metadata": {
        "id": "81htU8IQ91Vw"
      }
    },
    {
      "cell_type": "code",
      "source": [
        "modelET = ExtraTreesClassifier(n_estimators = 50)\n",
        "modelET.fit(X_train, Y_train)\n",
        "predictions = modelET.predict(X_validation)"
      ],
      "metadata": {
        "id": "xnCmgeTD-Amh"
      },
      "execution_count": null,
      "outputs": []
    },
    {
      "cell_type": "code",
      "source": [
        "print(accuracy_score(Y_train, modelET.predict(X_train)))\n",
        "print(accuracy_score(Y_validation, predictions)) \n",
        "print(confusion_matrix(Y_validation, predictions))\n",
        "print(classification_report(Y_validation, predictions))"
      ],
      "metadata": {
        "colab": {
          "base_uri": "https://localhost:8080/"
        },
        "id": "K5wCnQvR-Pda",
        "outputId": "57afba94-2d07-4575-df12-c3af10277d80"
      },
      "execution_count": null,
      "outputs": [
        {
          "output_type": "stream",
          "name": "stdout",
          "text": [
            "1.0\n",
            "0.8888888888888888\n",
            "[[4 0 0 0]\n",
            " [0 7 0 0]\n",
            " [0 1 0 1]\n",
            " [0 0 0 5]]\n",
            "              precision    recall  f1-score   support\n",
            "\n",
            "         1.0       1.00      1.00      1.00         4\n",
            "         2.0       0.88      1.00      0.93         7\n",
            "         3.0       0.00      0.00      0.00         2\n",
            "         4.0       0.83      1.00      0.91         5\n",
            "\n",
            "    accuracy                           0.89        18\n",
            "   macro avg       0.68      0.75      0.71        18\n",
            "weighted avg       0.79      0.89      0.84        18\n",
            "\n"
          ]
        },
        {
          "output_type": "stream",
          "name": "stderr",
          "text": [
            "/usr/local/lib/python3.7/dist-packages/sklearn/metrics/_classification.py:1318: UndefinedMetricWarning: Precision and F-score are ill-defined and being set to 0.0 in labels with no predicted samples. Use `zero_division` parameter to control this behavior.\n",
            "  _warn_prf(average, modifier, msg_start, len(result))\n",
            "/usr/local/lib/python3.7/dist-packages/sklearn/metrics/_classification.py:1318: UndefinedMetricWarning: Precision and F-score are ill-defined and being set to 0.0 in labels with no predicted samples. Use `zero_division` parameter to control this behavior.\n",
            "  _warn_prf(average, modifier, msg_start, len(result))\n",
            "/usr/local/lib/python3.7/dist-packages/sklearn/metrics/_classification.py:1318: UndefinedMetricWarning: Precision and F-score are ill-defined and being set to 0.0 in labels with no predicted samples. Use `zero_division` parameter to control this behavior.\n",
            "  _warn_prf(average, modifier, msg_start, len(result))\n"
          ]
        }
      ]
    },
    {
      "cell_type": "markdown",
      "source": [
        "## RandomForestClassifier"
      ],
      "metadata": {
        "id": "REnLyWU9ATyD"
      }
    },
    {
      "cell_type": "code",
      "source": [
        "modelRF = RandomForestClassifier(random_state=seed, n_estimators=45)\n",
        "modelRF.fit(X_train, Y_train)\n",
        "predictions = modelRF.predict(X_validation)"
      ],
      "metadata": {
        "id": "WJ8uQanD-hZs"
      },
      "execution_count": null,
      "outputs": []
    },
    {
      "cell_type": "code",
      "source": [
        "print(accuracy_score(Y_train, modelRF.predict(X_train)))\n",
        "print(accuracy_score(Y_validation, predictions))\n",
        "print(confusion_matrix(Y_validation, predictions))\n",
        "print(classification_report(Y_validation, predictions))"
      ],
      "metadata": {
        "colab": {
          "base_uri": "https://localhost:8080/"
        },
        "id": "InJxm8de8wzV",
        "outputId": "2f034329-a806-49cd-a929-516e2c332a79"
      },
      "execution_count": null,
      "outputs": [
        {
          "output_type": "stream",
          "name": "stdout",
          "text": [
            "1.0\n",
            "0.7777777777777778\n",
            "[[4 0 0 0]\n",
            " [1 5 1 0]\n",
            " [0 1 0 1]\n",
            " [0 0 0 5]]\n",
            "              precision    recall  f1-score   support\n",
            "\n",
            "         1.0       0.80      1.00      0.89         4\n",
            "         2.0       0.83      0.71      0.77         7\n",
            "         3.0       0.00      0.00      0.00         2\n",
            "         4.0       0.83      1.00      0.91         5\n",
            "\n",
            "    accuracy                           0.78        18\n",
            "   macro avg       0.62      0.68      0.64        18\n",
            "weighted avg       0.73      0.78      0.75        18\n",
            "\n"
          ]
        }
      ]
    },
    {
      "cell_type": "markdown",
      "source": [
        "# Testing\n"
      ],
      "metadata": {
        "id": "-4aUfrGjJ7rr"
      }
    },
    {
      "cell_type": "markdown",
      "source": [
        "## Preprocessing"
      ],
      "metadata": {
        "id": "B13l_IL42TiY"
      }
    },
    {
      "cell_type": "code",
      "source": [
        "test = pd.read_excel('Family test.xlsx')\n",
        "test.head()"
      ],
      "metadata": {
        "id": "r1GKj_jkxLKh",
        "colab": {
          "base_uri": "https://localhost:8080/",
          "height": 236
        },
        "outputId": "7a45a160-3ce9-4628-c0ea-edc72c4186f9"
      },
      "execution_count": null,
      "outputs": [
        {
          "output_type": "execute_result",
          "data": {
            "text/plain": [
              "                      1.0                  2.0              3.0  4.0    5.0  \\\n",
              "0       Phạm Thị Thuỳ Vân  2002-01-01 00:00:00  Sinh viên năm 2   Nữ  Không   \n",
              "1  Nguyễn Đình Thiên Long           27/03/2002  Sinh viên năm 2  Nam  Không   \n",
              "2             Bùi Gia Phú           27/03/2003  Sinh viên năm 1  Nam  Không   \n",
              "3        Đỗ Thị Thanh Tâm  2003-08-11 00:00:00  Sinh viên năm 1   Nữ  Không   \n",
              "4             Hồ Hữu Hiệp           28/08/2002  Sinh viên năm 2  Nam  Không   \n",
              "\n",
              "                             6.0       7.0    8.0       9.0     1.0.1  ...  \\\n",
              "0                    Hướng ngoại     Không  Không  Một chút  Một chút  ...   \n",
              "1  Vừa hướng nội vừa hướng ngoại        Có     Có        Có        Có  ...   \n",
              "2                      Hướng nội        Có     Có        Có  Một chút  ...   \n",
              "3                      Hướng nội        Có     Có        Có     Không  ...   \n",
              "4                      Hướng nội  Một chút     Có     Không  Một chút  ...   \n",
              "\n",
              "  2.0.3 3.0.3 4.0.3 5.0.3 6.0.3 7.0.3  8.0.3  9.0.3  1.0.4  2.0.4  \n",
              "0   1.0   1.0   0.0   2.0   0.0   0.0    1.0    0.0    0.0    5.0  \n",
              "1   2.0   2.0   2.0   2.0   3.0   3.0    3.0    3.0    3.0   23.0  \n",
              "2   1.0   2.0   0.0   2.0   3.0   3.0    3.0    3.0    3.0   20.0  \n",
              "3   3.0   2.0   2.0   3.0   2.0   3.0    3.0    3.0    2.0   23.0  \n",
              "4   2.0   3.0   0.0   2.0   2.0   2.0    2.0    2.0    1.0   16.0  \n",
              "\n",
              "[5 rows x 38 columns]"
            ],
            "text/html": [
              "\n",
              "  <div id=\"df-e87a448a-8963-4c30-aae3-203edec04770\">\n",
              "    <div class=\"colab-df-container\">\n",
              "      <div>\n",
              "<style scoped>\n",
              "    .dataframe tbody tr th:only-of-type {\n",
              "        vertical-align: middle;\n",
              "    }\n",
              "\n",
              "    .dataframe tbody tr th {\n",
              "        vertical-align: top;\n",
              "    }\n",
              "\n",
              "    .dataframe thead th {\n",
              "        text-align: right;\n",
              "    }\n",
              "</style>\n",
              "<table border=\"1\" class=\"dataframe\">\n",
              "  <thead>\n",
              "    <tr style=\"text-align: right;\">\n",
              "      <th></th>\n",
              "      <th>1.0</th>\n",
              "      <th>2.0</th>\n",
              "      <th>3.0</th>\n",
              "      <th>4.0</th>\n",
              "      <th>5.0</th>\n",
              "      <th>6.0</th>\n",
              "      <th>7.0</th>\n",
              "      <th>8.0</th>\n",
              "      <th>9.0</th>\n",
              "      <th>1.0.1</th>\n",
              "      <th>...</th>\n",
              "      <th>2.0.3</th>\n",
              "      <th>3.0.3</th>\n",
              "      <th>4.0.3</th>\n",
              "      <th>5.0.3</th>\n",
              "      <th>6.0.3</th>\n",
              "      <th>7.0.3</th>\n",
              "      <th>8.0.3</th>\n",
              "      <th>9.0.3</th>\n",
              "      <th>1.0.4</th>\n",
              "      <th>2.0.4</th>\n",
              "    </tr>\n",
              "  </thead>\n",
              "  <tbody>\n",
              "    <tr>\n",
              "      <th>0</th>\n",
              "      <td>Phạm Thị Thuỳ Vân</td>\n",
              "      <td>2002-01-01 00:00:00</td>\n",
              "      <td>Sinh viên năm 2</td>\n",
              "      <td>Nữ</td>\n",
              "      <td>Không</td>\n",
              "      <td>Hướng ngoại</td>\n",
              "      <td>Không</td>\n",
              "      <td>Không</td>\n",
              "      <td>Một chút</td>\n",
              "      <td>Một chút</td>\n",
              "      <td>...</td>\n",
              "      <td>1.0</td>\n",
              "      <td>1.0</td>\n",
              "      <td>0.0</td>\n",
              "      <td>2.0</td>\n",
              "      <td>0.0</td>\n",
              "      <td>0.0</td>\n",
              "      <td>1.0</td>\n",
              "      <td>0.0</td>\n",
              "      <td>0.0</td>\n",
              "      <td>5.0</td>\n",
              "    </tr>\n",
              "    <tr>\n",
              "      <th>1</th>\n",
              "      <td>Nguyễn Đình Thiên Long</td>\n",
              "      <td>27/03/2002</td>\n",
              "      <td>Sinh viên năm 2</td>\n",
              "      <td>Nam</td>\n",
              "      <td>Không</td>\n",
              "      <td>Vừa hướng nội vừa hướng ngoại</td>\n",
              "      <td>Có</td>\n",
              "      <td>Có</td>\n",
              "      <td>Có</td>\n",
              "      <td>Có</td>\n",
              "      <td>...</td>\n",
              "      <td>2.0</td>\n",
              "      <td>2.0</td>\n",
              "      <td>2.0</td>\n",
              "      <td>2.0</td>\n",
              "      <td>3.0</td>\n",
              "      <td>3.0</td>\n",
              "      <td>3.0</td>\n",
              "      <td>3.0</td>\n",
              "      <td>3.0</td>\n",
              "      <td>23.0</td>\n",
              "    </tr>\n",
              "    <tr>\n",
              "      <th>2</th>\n",
              "      <td>Bùi Gia Phú</td>\n",
              "      <td>27/03/2003</td>\n",
              "      <td>Sinh viên năm 1</td>\n",
              "      <td>Nam</td>\n",
              "      <td>Không</td>\n",
              "      <td>Hướng nội</td>\n",
              "      <td>Có</td>\n",
              "      <td>Có</td>\n",
              "      <td>Có</td>\n",
              "      <td>Một chút</td>\n",
              "      <td>...</td>\n",
              "      <td>1.0</td>\n",
              "      <td>2.0</td>\n",
              "      <td>0.0</td>\n",
              "      <td>2.0</td>\n",
              "      <td>3.0</td>\n",
              "      <td>3.0</td>\n",
              "      <td>3.0</td>\n",
              "      <td>3.0</td>\n",
              "      <td>3.0</td>\n",
              "      <td>20.0</td>\n",
              "    </tr>\n",
              "    <tr>\n",
              "      <th>3</th>\n",
              "      <td>Đỗ Thị Thanh Tâm</td>\n",
              "      <td>2003-08-11 00:00:00</td>\n",
              "      <td>Sinh viên năm 1</td>\n",
              "      <td>Nữ</td>\n",
              "      <td>Không</td>\n",
              "      <td>Hướng nội</td>\n",
              "      <td>Có</td>\n",
              "      <td>Có</td>\n",
              "      <td>Có</td>\n",
              "      <td>Không</td>\n",
              "      <td>...</td>\n",
              "      <td>3.0</td>\n",
              "      <td>2.0</td>\n",
              "      <td>2.0</td>\n",
              "      <td>3.0</td>\n",
              "      <td>2.0</td>\n",
              "      <td>3.0</td>\n",
              "      <td>3.0</td>\n",
              "      <td>3.0</td>\n",
              "      <td>2.0</td>\n",
              "      <td>23.0</td>\n",
              "    </tr>\n",
              "    <tr>\n",
              "      <th>4</th>\n",
              "      <td>Hồ Hữu Hiệp</td>\n",
              "      <td>28/08/2002</td>\n",
              "      <td>Sinh viên năm 2</td>\n",
              "      <td>Nam</td>\n",
              "      <td>Không</td>\n",
              "      <td>Hướng nội</td>\n",
              "      <td>Một chút</td>\n",
              "      <td>Có</td>\n",
              "      <td>Không</td>\n",
              "      <td>Một chút</td>\n",
              "      <td>...</td>\n",
              "      <td>2.0</td>\n",
              "      <td>3.0</td>\n",
              "      <td>0.0</td>\n",
              "      <td>2.0</td>\n",
              "      <td>2.0</td>\n",
              "      <td>2.0</td>\n",
              "      <td>2.0</td>\n",
              "      <td>2.0</td>\n",
              "      <td>1.0</td>\n",
              "      <td>16.0</td>\n",
              "    </tr>\n",
              "  </tbody>\n",
              "</table>\n",
              "<p>5 rows × 38 columns</p>\n",
              "</div>\n",
              "      <button class=\"colab-df-convert\" onclick=\"convertToInteractive('df-e87a448a-8963-4c30-aae3-203edec04770')\"\n",
              "              title=\"Convert this dataframe to an interactive table.\"\n",
              "              style=\"display:none;\">\n",
              "        \n",
              "  <svg xmlns=\"http://www.w3.org/2000/svg\" height=\"24px\"viewBox=\"0 0 24 24\"\n",
              "       width=\"24px\">\n",
              "    <path d=\"M0 0h24v24H0V0z\" fill=\"none\"/>\n",
              "    <path d=\"M18.56 5.44l.94 2.06.94-2.06 2.06-.94-2.06-.94-.94-2.06-.94 2.06-2.06.94zm-11 1L8.5 8.5l.94-2.06 2.06-.94-2.06-.94L8.5 2.5l-.94 2.06-2.06.94zm10 10l.94 2.06.94-2.06 2.06-.94-2.06-.94-.94-2.06-.94 2.06-2.06.94z\"/><path d=\"M17.41 7.96l-1.37-1.37c-.4-.4-.92-.59-1.43-.59-.52 0-1.04.2-1.43.59L10.3 9.45l-7.72 7.72c-.78.78-.78 2.05 0 2.83L4 21.41c.39.39.9.59 1.41.59.51 0 1.02-.2 1.41-.59l7.78-7.78 2.81-2.81c.8-.78.8-2.07 0-2.86zM5.41 20L4 18.59l7.72-7.72 1.47 1.35L5.41 20z\"/>\n",
              "  </svg>\n",
              "      </button>\n",
              "      \n",
              "  <style>\n",
              "    .colab-df-container {\n",
              "      display:flex;\n",
              "      flex-wrap:wrap;\n",
              "      gap: 12px;\n",
              "    }\n",
              "\n",
              "    .colab-df-convert {\n",
              "      background-color: #E8F0FE;\n",
              "      border: none;\n",
              "      border-radius: 50%;\n",
              "      cursor: pointer;\n",
              "      display: none;\n",
              "      fill: #1967D2;\n",
              "      height: 32px;\n",
              "      padding: 0 0 0 0;\n",
              "      width: 32px;\n",
              "    }\n",
              "\n",
              "    .colab-df-convert:hover {\n",
              "      background-color: #E2EBFA;\n",
              "      box-shadow: 0px 1px 2px rgba(60, 64, 67, 0.3), 0px 1px 3px 1px rgba(60, 64, 67, 0.15);\n",
              "      fill: #174EA6;\n",
              "    }\n",
              "\n",
              "    [theme=dark] .colab-df-convert {\n",
              "      background-color: #3B4455;\n",
              "      fill: #D2E3FC;\n",
              "    }\n",
              "\n",
              "    [theme=dark] .colab-df-convert:hover {\n",
              "      background-color: #434B5C;\n",
              "      box-shadow: 0px 1px 3px 1px rgba(0, 0, 0, 0.15);\n",
              "      filter: drop-shadow(0px 1px 2px rgba(0, 0, 0, 0.3));\n",
              "      fill: #FFFFFF;\n",
              "    }\n",
              "  </style>\n",
              "\n",
              "      <script>\n",
              "        const buttonEl =\n",
              "          document.querySelector('#df-e87a448a-8963-4c30-aae3-203edec04770 button.colab-df-convert');\n",
              "        buttonEl.style.display =\n",
              "          google.colab.kernel.accessAllowed ? 'block' : 'none';\n",
              "\n",
              "        async function convertToInteractive(key) {\n",
              "          const element = document.querySelector('#df-e87a448a-8963-4c30-aae3-203edec04770');\n",
              "          const dataTable =\n",
              "            await google.colab.kernel.invokeFunction('convertToInteractive',\n",
              "                                                     [key], {});\n",
              "          if (!dataTable) return;\n",
              "\n",
              "          const docLinkHtml = 'Like what you see? Visit the ' +\n",
              "            '<a target=\"_blank\" href=https://colab.research.google.com/notebooks/data_table.ipynb>data table notebook</a>'\n",
              "            + ' to learn more about interactive tables.';\n",
              "          element.innerHTML = '';\n",
              "          dataTable['output_type'] = 'display_data';\n",
              "          await google.colab.output.renderOutput(dataTable, element);\n",
              "          const docLink = document.createElement('div');\n",
              "          docLink.innerHTML = docLinkHtml;\n",
              "          element.appendChild(docLink);\n",
              "        }\n",
              "      </script>\n",
              "    </div>\n",
              "  </div>\n",
              "  "
            ]
          },
          "metadata": {},
          "execution_count": 13
        }
      ]
    },
    {
      "cell_type": "code",
      "source": [
        "test.columns = ['Name', 'DoB', 'Job', 'Sex', 'LGBT', 'a1', 'a2', 'a3', 'a4', 'a5', 'a6', 'a7', 'a8', \n",
        "                'b1', 'b2', 'b3', 'b4', 'b5', 'b6', 'b7', 'b8', 'b9', 'b10', 'b11', 'b12', 'b13', 'b14', 'b15',\n",
        "                'c1', 'c2', 'c3', 'c4', 'c5', 'c6', 'c7', 'c8', 'c9', 'Total']"
      ],
      "metadata": {
        "id": "XqNPjs0WKCes"
      },
      "execution_count": null,
      "outputs": []
    },
    {
      "cell_type": "code",
      "source": [
        "# Change values in total column to the rate of depression. Normal - Minimal - Mild - Medium - Severe.\n",
        "test.Total = test.Total.replace({1: 0, 2: 0, 3: 0, 4: 0,\n",
        "                                 5: 1, 6: 1, 7: 1, 8: 1, 9: 1,\n",
        "                                 10: 2, 11: 2, 12: 2, 13: 2, 14: 2,\n",
        "                                 15: 3, 16: 3, 17: 3, 18: 3, 19: 3,\n",
        "                                 20: 4, 21: 4, 22: 4, 23: 4, 24: 4, 25: 4, 26: 4, 27: 4})\n",
        "\n",
        "# Per - Intro (A)\n",
        "test.a1 = test.a1.replace({'Hướng ngoại': 1,\n",
        "                     'Hướng nội': 2,\n",
        "                     'Chưa xác định được': 0,\n",
        "                     'Vừa hướng nội vừa hướng ngoại': 1.5})\n",
        "\n",
        "test.a2 = test.a2.replace({'Có': 1, 'Một chút': 0.5, 'Không': 0})\n",
        "test.a3 = test.a3.replace({'Có': 1, 'Một chút': 0.5, 'Không': 0})\n",
        "test.a4 = test.a4.replace({'Có': 1, 'Một chút': 0.5, 'Không': 0})\n",
        "test.a5 = test.a5.replace({'Có': 1, 'Một chút': 0.5, 'Không': 0})\n",
        "test.a6 = test.a6.replace({'Có': 1, 'Một chút': 0.5, 'Không': 0})\n",
        "\n",
        "# Question (B)\n",
        "test.b1 = test.b1.replace({'Con cả': 1, 'Con thứ': 2, 'Con út': 3, 'Con một': 0})\n",
        "test.b2 = test.b2.replace({'Một ngày': 0, 'Một tuần': 1, 'Một tháng': 2, 'Nửa năm': 3, 'Một năm': 4, 'Hai năm': 5, 'Hơn ba năm': 6})\n",
        "test.b3 = test.b3.replace({'Không một ai': 0, 'Anh trai, chị gái, hoặc em trai, em gái': 1, 'Mẹ': 2, 'Ba': 3, 'tất cả': 4, 'không ai cả':0})\n",
        "test.b15 = test.b15.replace({'Chưa từng': 0, 'Một - hai lần': 1, 'Khoảng năm lần': 2, 'Khoảng 10 lần': 3, 'Rất nhiều': 4, 'Mỗi ngày': 5})\n",
        "\n",
        "# Fill null value with the most popular value.\n",
        "test = test.apply(lambda x:x.fillna(x.value_counts().index[0]))\n",
        "\n",
        "# Drop the column Name\n",
        "test = test.drop(columns=[ 'Name', 'DoB', 'a7', 'a8', 'a1', 'b9', 'b12','Job', 'Sex', 'LGBT', \n",
        "                          'a5', 'a6', 'b1','b10', 'b11', 'b4', 'b14', 'b2', 'b13', 'b5', 'b9','b2',\n",
        "                          'a3','a4','b6','b7','b8','b12','b15'])"
      ],
      "metadata": {
        "id": "F8eLi4aaKKZI"
      },
      "execution_count": null,
      "outputs": []
    },
    {
      "cell_type": "code",
      "source": [
        "test.info()"
      ],
      "metadata": {
        "colab": {
          "base_uri": "https://localhost:8080/"
        },
        "id": "ifQL9R1c5GOs",
        "outputId": "6f3f8f97-2159-4a78-9bc9-d0374372527b"
      },
      "execution_count": null,
      "outputs": [
        {
          "output_type": "stream",
          "name": "stdout",
          "text": [
            "<class 'pandas.core.frame.DataFrame'>\n",
            "RangeIndex: 32 entries, 0 to 31\n",
            "Data columns (total 12 columns):\n",
            " #   Column  Non-Null Count  Dtype  \n",
            "---  ------  --------------  -----  \n",
            " 0   a2      32 non-null     float64\n",
            " 1   b3      32 non-null     int64  \n",
            " 2   c1      32 non-null     float64\n",
            " 3   c2      32 non-null     float64\n",
            " 4   c3      32 non-null     float64\n",
            " 5   c4      32 non-null     float64\n",
            " 6   c5      32 non-null     float64\n",
            " 7   c6      32 non-null     float64\n",
            " 8   c7      32 non-null     float64\n",
            " 9   c8      32 non-null     float64\n",
            " 10  c9      32 non-null     float64\n",
            " 11  Total   32 non-null     float64\n",
            "dtypes: float64(11), int64(1)\n",
            "memory usage: 3.1 KB\n"
          ]
        }
      ]
    },
    {
      "cell_type": "code",
      "source": [
        "array = test.values\n",
        "x = array[:,0:11]\n",
        "y = array[:,11]"
      ],
      "metadata": {
        "id": "s5rKE8DPKLhi"
      },
      "execution_count": null,
      "outputs": []
    },
    {
      "cell_type": "markdown",
      "source": [
        "## Testing "
      ],
      "metadata": {
        "id": "3U8ZdaIVSI5H"
      }
    },
    {
      "cell_type": "markdown",
      "source": [
        "### SVM"
      ],
      "metadata": {
        "id": "aSZPgKcl5sZ4"
      }
    },
    {
      "cell_type": "code",
      "source": [
        "modelSVM= SVC(C = 1, gamma = 0.1, kernel = 'rbf')\n",
        "modelSVM.fit(X_train, Y_train)\n",
        "predictions = modelSVM.predict(x)"
      ],
      "metadata": {
        "id": "CYIwbj3V5to1"
      },
      "execution_count": null,
      "outputs": []
    },
    {
      "cell_type": "code",
      "source": [
        "print(accuracy_score(y, predictions))\n",
        "print(confusion_matrix(y, predictions))\n",
        "print(classification_report(y, predictions))"
      ],
      "metadata": {
        "id": "2KWb3KX85vuN",
        "outputId": "ec09eeec-3186-47b7-94a2-429aa0459959",
        "colab": {
          "base_uri": "https://localhost:8080/"
        }
      },
      "execution_count": null,
      "outputs": [
        {
          "output_type": "stream",
          "name": "stdout",
          "text": [
            "0.8125\n",
            "[[ 1  0  0  0  0]\n",
            " [ 1  3  2  0  0]\n",
            " [ 0  0  5  0  0]\n",
            " [ 0  0  1  6  1]\n",
            " [ 0  0  0  1 11]]\n",
            "              precision    recall  f1-score   support\n",
            "\n",
            "         0.0       0.50      1.00      0.67         1\n",
            "         1.0       1.00      0.50      0.67         6\n",
            "         2.0       0.62      1.00      0.77         5\n",
            "         3.0       0.86      0.75      0.80         8\n",
            "         4.0       0.92      0.92      0.92        12\n",
            "\n",
            "    accuracy                           0.81        32\n",
            "   macro avg       0.78      0.83      0.76        32\n",
            "weighted avg       0.86      0.81      0.81        32\n",
            "\n"
          ]
        }
      ]
    },
    {
      "cell_type": "markdown",
      "source": [
        "### LDA"
      ],
      "metadata": {
        "id": "tAH2mkZ9SK7C"
      }
    },
    {
      "cell_type": "code",
      "source": [
        "modelLDA = LinearDiscriminantAnalysis(shrinkage = 0.05, solver = 'lsqr')\n",
        "modelLDA.fit(X_train, Y_train)\n",
        "predictions = modelLDA.predict(x)"
      ],
      "metadata": {
        "id": "T-FKExFbKwf6"
      },
      "execution_count": null,
      "outputs": []
    },
    {
      "cell_type": "code",
      "source": [
        "print(accuracy_score(y, predictions))\n",
        "print(confusion_matrix(y, predictions))\n",
        "print(classification_report(y, predictions))"
      ],
      "metadata": {
        "colab": {
          "base_uri": "https://localhost:8080/"
        },
        "id": "ZOK6sI9QK4E3",
        "outputId": "04eeb858-f147-4a41-bf35-cc2c5e95a796"
      },
      "execution_count": null,
      "outputs": [
        {
          "output_type": "stream",
          "name": "stdout",
          "text": [
            "0.84375\n",
            "[[ 1  0  0  0  0]\n",
            " [ 3  3  0  0  0]\n",
            " [ 0  1  4  0  0]\n",
            " [ 0  0  0  7  1]\n",
            " [ 0  0  0  0 12]]\n",
            "              precision    recall  f1-score   support\n",
            "\n",
            "         0.0       0.25      1.00      0.40         1\n",
            "         1.0       0.75      0.50      0.60         6\n",
            "         2.0       1.00      0.80      0.89         5\n",
            "         3.0       1.00      0.88      0.93         8\n",
            "         4.0       0.92      1.00      0.96        12\n",
            "\n",
            "    accuracy                           0.84        32\n",
            "   macro avg       0.78      0.83      0.76        32\n",
            "weighted avg       0.90      0.84      0.86        32\n",
            "\n"
          ]
        }
      ]
    },
    {
      "cell_type": "code",
      "source": [
        "from sklearn.metrics import confusion_matrix, ConfusionMatrixDisplay, plot_confusion_matrix\n",
        "\n",
        "cm = confusion_matrix(y, predictions, labels=modelLDA.classes_)\n",
        "disp = ConfusionMatrixDisplay(confusion_matrix=cm,display_labels=modelLDA.classes_)\n",
        "t=disp.plot()\n",
        "plt.show()"
      ],
      "metadata": {
        "colab": {
          "base_uri": "https://localhost:8080/",
          "height": 283
        },
        "id": "nuMEs9RvOWsv",
        "outputId": "2740cbcb-4989-4d25-970f-038ccbfab449"
      },
      "execution_count": null,
      "outputs": [
        {
          "output_type": "display_data",
          "data": {
            "text/plain": [
              "<Figure size 432x288 with 2 Axes>"
            ],
            "image/png": "[encoded data removed]"
          },
          "metadata": {
            "needs_background": "light"
          }
        }
      ]
    },
    {
      "cell_type": "markdown",
      "source": [
        "### ET"
      ],
      "metadata": {
        "id": "FCI4ErsDSrn8"
      }
    },
    {
      "cell_type": "code",
      "source": [
        "modelET = ExtraTreesClassifier(n_estimators = 50)\n",
        "modelET.fit(X_train, Y_train)\n",
        "predictions = modelET.predict(x)"
      ],
      "metadata": {
        "id": "zL74iR8ILKyG"
      },
      "execution_count": null,
      "outputs": []
    },
    {
      "cell_type": "code",
      "source": [
        "print(accuracy_score(y, predictions))\n",
        "print(confusion_matrix(y, predictions))\n",
        "print(classification_report(y, predictions))"
      ],
      "metadata": {
        "id": "TcMLHlTYLQFg",
        "outputId": "9821506b-a228-4cc8-c278-e65563e4ecb1",
        "colab": {
          "base_uri": "https://localhost:8080/"
        }
      },
      "execution_count": null,
      "outputs": [
        {
          "output_type": "stream",
          "name": "stdout",
          "text": [
            "0.6875\n",
            "[[ 1  0  0  0  0]\n",
            " [ 1  1  4  0  0]\n",
            " [ 0  2  3  0  0]\n",
            " [ 0  0  2  5  1]\n",
            " [ 0  0  0  0 12]]\n",
            "              precision    recall  f1-score   support\n",
            "\n",
            "         0.0       0.50      1.00      0.67         1\n",
            "         1.0       0.33      0.17      0.22         6\n",
            "         2.0       0.33      0.60      0.43         5\n",
            "         3.0       1.00      0.62      0.77         8\n",
            "         4.0       0.92      1.00      0.96        12\n",
            "\n",
            "    accuracy                           0.69        32\n",
            "   macro avg       0.62      0.68      0.61        32\n",
            "weighted avg       0.73      0.69      0.68        32\n",
            "\n"
          ]
        }
      ]
    },
    {
      "cell_type": "markdown",
      "source": [
        "### RF"
      ],
      "metadata": {
        "id": "RLqPTyENS40B"
      }
    },
    {
      "cell_type": "code",
      "source": [
        "modelRF = RandomForestClassifier(random_state=seed, n_estimators=45)\n",
        "modelRF.fit(X_train, Y_train)\n",
        "predictions = modelRF.predict(x)"
      ],
      "metadata": {
        "id": "EumyWZ65LR_5"
      },
      "execution_count": null,
      "outputs": []
    },
    {
      "cell_type": "code",
      "source": [
        "print(accuracy_score(y, predictions))\n",
        "print(confusion_matrix(y, predictions))\n",
        "print(classification_report(y, predictions))"
      ],
      "metadata": {
        "colab": {
          "base_uri": "https://localhost:8080/"
        },
        "id": "EP26ybvAS-D-",
        "outputId": "44bde139-c3d1-4778-ccab-54e17f86142c"
      },
      "execution_count": null,
      "outputs": [
        {
          "output_type": "stream",
          "name": "stdout",
          "text": [
            "0.625\n",
            "[[ 1  0  0  0  0]\n",
            " [ 1  2  3  0  0]\n",
            " [ 0  2  3  0  0]\n",
            " [ 0  0  2  3  3]\n",
            " [ 0  0  0  1 11]]\n",
            "              precision    recall  f1-score   support\n",
            "\n",
            "         0.0       0.50      1.00      0.67         1\n",
            "         1.0       0.50      0.33      0.40         6\n",
            "         2.0       0.38      0.60      0.46         5\n",
            "         3.0       0.75      0.38      0.50         8\n",
            "         4.0       0.79      0.92      0.85        12\n",
            "\n",
            "    accuracy                           0.62        32\n",
            "   macro avg       0.58      0.64      0.57        32\n",
            "weighted avg       0.65      0.62      0.61        32\n",
            "\n"
          ]
        }
      ]
    },
    {
      "cell_type": "code",
      "source": [],
      "metadata": {
        "id": "v5FstSeyS_wP"
      },
      "execution_count": null,
      "outputs": []
    }
  ]
}