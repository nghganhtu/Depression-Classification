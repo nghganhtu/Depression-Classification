{
  "nbformat": 4,
  "nbformat_minor": 0,
  "metadata": {
    "colab": {
      "provenance": []
    },
    "kernelspec": {
      "name": "python3",
      "display_name": "Python 3"
    },
    "language_info": {
      "name": "python"
    }
  },
  "cells": [
    {
      "cell_type": "code",
      "execution_count": null,
      "metadata": {
        "colab": {
          "base_uri": "https://localhost:8080/"
        },
        "id": "u5vquuYeEiyp",
        "outputId": "a8e70a6f-be0f-4519-ba33-5df911a41041"
      },
      "outputs": [
        {
          "output_type": "stream",
          "name": "stdout",
          "text": [
            "Mounted at /content/drive\n"
          ]
        }
      ],
      "source": [
        "from google.colab import drive\n",
        "drive.mount('/content/drive')"
      ]
    },
    {
      "cell_type": "code",
      "source": [
        "%cd '/content/drive/MyDrive/NCKH Depression/Dataset'\n",
        "!ls"
      ],
      "metadata": {
        "colab": {
          "base_uri": "https://localhost:8080/"
        },
        "id": "dqkJIIWTE3B6",
        "outputId": "e813ad05-8c77-4741-fe62-a19c2c3a4aec"
      },
      "execution_count": null,
      "outputs": [
        {
          "output_type": "stream",
          "name": "stdout",
          "text": [
            "/content/drive/MyDrive/NCKH Depression/Dataset\n",
            "'Education test.xlsx'   Family.xlsx\t  Love.xlsx\t   'Working test.xlsx'\n",
            " Education.xlsx         Intro.xlsx\t 'Self test.xlsx'   Working.xlsx\n",
            "'Family test.xlsx'     'Love test.xlsx'   Self.xlsx\n"
          ]
        }
      ]
    },
    {
      "cell_type": "code",
      "source": [
        "import pandas as pd\n",
        "import numpy as np\n",
        "import seaborn as sns\n",
        "import matplotlib.pyplot as plt\n",
        "from matplotlib import pyplot\n",
        "from sklearn.model_selection import train_test_split\n",
        "from sklearn.metrics import accuracy_score\n",
        "from sklearn.pipeline import Pipeline\n",
        "from sklearn.ensemble import RandomForestClassifier\n",
        "from sklearn.ensemble import GradientBoostingClassifier\n",
        "from sklearn.ensemble import ExtraTreesClassifier\n",
        "from sklearn.ensemble import AdaBoostClassifier\n",
        "from sklearn.preprocessing import StandardScaler\n",
        "from sklearn.model_selection import KFold\n",
        "from sklearn.model_selection import cross_val_score\n",
        "from sklearn.model_selection import GridSearchCV\n",
        "from sklearn.linear_model import LogisticRegression\n",
        "from sklearn.tree import DecisionTreeClassifier\n",
        "from sklearn.neighbors import KNeighborsClassifier\n",
        "from sklearn.svm import SVC\n",
        "from pandas import read_csv\n",
        "from pandas import set_option\n",
        "from sklearn.preprocessing import StandardScaler\n",
        "from sklearn.metrics import classification_report\n",
        "from sklearn.metrics import confusion_matrix\n",
        "from sklearn.discriminant_analysis import LinearDiscriminantAnalysis\n",
        "from sklearn.naive_bayes import GaussianNB"
      ],
      "metadata": {
        "id": "5GqFbWhfE-07"
      },
      "execution_count": null,
      "outputs": []
    },
    {
      "cell_type": "markdown",
      "source": [
        "# Step 1: Import, preprocess."
      ],
      "metadata": {
        "id": "8jby7u6FFZgd"
      }
    },
    {
      "cell_type": "code",
      "source": [
        "data = pd.read_excel('Love.xlsx')\n",
        "data.head()"
      ],
      "metadata": {
        "colab": {
          "base_uri": "https://localhost:8080/",
          "height": 1000
        },
        "id": "-qM5VtDYFF0n",
        "outputId": "60b1f661-defb-418f-d56c-c5e00bd76931"
      },
      "execution_count": null,
      "outputs": [
        {
          "output_type": "execute_result",
          "data": {
            "text/plain": [
              "  Họ và tên bạn là gì? Ngày sinh của bạn là? Hiện tại bạn là?  \\\n",
              "0      Trần Triệu Như             2003-11-04  Sinh viên năm 1   \n",
              "1      Trần Trường Hải            2002-04-13  Sinh viên năm 2   \n",
              "2    Nguyen Quang Dieu            2002-05-30  Sinh viên năm 2   \n",
              "3      Trương Minh Lộc            2002-09-20  Sinh viên năm 2   \n",
              "4      Nguyễn Hải Ngọc            2003-12-09  Sinh viên năm 1   \n",
              "\n",
              "  Giới tính sinh học của bạn là: Bạn có thuộc cộng đồng LGBT không?  \\\n",
              "0                             Nữ                              Không   \n",
              "1                            Nam                              Không   \n",
              "2                            Nam                              Không   \n",
              "3                            Nam                              Không   \n",
              "4                             Nữ                              Không   \n",
              "\n",
              "    1. Bạn là người có xu hướng:  \\\n",
              "0  Vừa hướng nội vừa hướng ngoại   \n",
              "1                      Hướng nội   \n",
              "2  Vừa hướng nội vừa hướng ngoại   \n",
              "3  Vừa hướng nội vừa hướng ngoại   \n",
              "4             Chưa xác định được   \n",
              "\n",
              "  2. Bạn có cảm thấy bản thân mình thừa thãi không?  \\\n",
              "0                                             Không   \n",
              "1                                             Không   \n",
              "2                                          Một chút   \n",
              "3                                          Một chút   \n",
              "4                                             Không   \n",
              "\n",
              "  3. Bạn có cảm thấy lạc lõng, không hòa nhập được với mọi người không?  \\\n",
              "0                                           Một chút                      \n",
              "1                                           Một chút                      \n",
              "2                                           Một chút                      \n",
              "3                                                 Có                      \n",
              "4                                           Một chút                      \n",
              "\n",
              "  4. Bạn đang tự ti? 5. Bạn có hay vận động thể dục, thể thao không?  ...  \\\n",
              "0           Một chút                                           Không  ...   \n",
              "1                 Có                                              Có  ...   \n",
              "2              Không                                        Một chút  ...   \n",
              "3                 Có                                           Không  ...   \n",
              "4           Một chút                                        Một chút  ...   \n",
              "\n",
              "  1. Bạn đột nhiên ăn quá nhiều hoặc chán ăn, biếng ăn?  \\\n",
              "0                                                3.0      \n",
              "1                                                1.0      \n",
              "2                                                0.0      \n",
              "3                                                3.0      \n",
              "4                                                1.0      \n",
              "\n",
              "  2. Bạn luôn thấy mệt mỏi, thiếu năng lượng làm mọi việc?  \\\n",
              "0                                                2.0         \n",
              "1                                                3.0         \n",
              "2                                                1.0         \n",
              "3                                                2.0         \n",
              "4                                                2.0         \n",
              "\n",
              "  3. Bạn cảm thấy khó ngủ, ngủ không lâu hoặc ngược lại ngủ quá nhiều?  \\\n",
              "0                                                3.0                     \n",
              "1                                                3.0                     \n",
              "2                                                1.0                     \n",
              "3                                                3.0                     \n",
              "4                                                2.0                     \n",
              "\n",
              "   4. Bạn hoạt động chậm chạp, đi lại hay nói chuyện đều chậm khiến mọi người chú ý. Hoặc bồn chồn không thể ở yên một chỗ?  \\\n",
              "0                                                1.0                                                                          \n",
              "1                                                1.0                                                                          \n",
              "2                                                1.0                                                                          \n",
              "3                                                2.0                                                                          \n",
              "4                                                1.0                                                                          \n",
              "\n",
              "   5. Bạn không thể tập trung khi làm việc?  \\\n",
              "0                                       0.0   \n",
              "1                                       2.0   \n",
              "2                                       2.0   \n",
              "3                                       2.0   \n",
              "4                                       1.0   \n",
              "\n",
              "   6. Bạn mất tự tin vào bản thân, thất vọng về bản thân và cả gia đình?  \\\n",
              "0                                                1.0                       \n",
              "1                                                2.0                       \n",
              "2                                                1.0                       \n",
              "3                                                1.0                       \n",
              "4                                                0.0                       \n",
              "\n",
              "   7. Bạn luôn cảm thấy chán nản, kiệt sức, tuyệt vọng?  \\\n",
              "0                                                1.0      \n",
              "1                                                3.0      \n",
              "2                                                0.0      \n",
              "3                                                2.0      \n",
              "4                                                1.0      \n",
              "\n",
              "   8. Bạn ít thấy hứng thú hoặc không tìm thấy niềm vui trong mọi việc?  \\\n",
              "0                                                1.0                      \n",
              "1                                                3.0                      \n",
              "2                                                0.0                      \n",
              "3                                                1.0                      \n",
              "4                                                2.0                      \n",
              "\n",
              "   9. Bạn có suy nghĩ tiêu cực, muốn làm tổn thương bản thân thậm chí có suy nghĩ tự sát?  \\\n",
              "0                                                0.0                                        \n",
              "1                                                1.0                                        \n",
              "2                                                0.0                                        \n",
              "3                                                0.0                                        \n",
              "4                                                0.0                                        \n",
              "\n",
              "   Tổng điểm  \n",
              "0       12.0  \n",
              "1       19.0  \n",
              "2        6.0  \n",
              "3       16.0  \n",
              "4       10.0  \n",
              "\n",
              "[5 rows x 38 columns]"
            ],
            "text/html": [
              "\n",
              "  <div id=\"df-a12e3123-79eb-4a66-8c46-b289b1b12385\">\n",
              "    <div class=\"colab-df-container\">\n",
              "      <div>\n",
              "<style scoped>\n",
              "    .dataframe tbody tr th:only-of-type {\n",
              "        vertical-align: middle;\n",
              "    }\n",
              "\n",
              "    .dataframe tbody tr th {\n",
              "        vertical-align: top;\n",
              "    }\n",
              "\n",
              "    .dataframe thead th {\n",
              "        text-align: right;\n",
              "    }\n",
              "</style>\n",
              "<table border=\"1\" class=\"dataframe\">\n",
              "  <thead>\n",
              "    <tr style=\"text-align: right;\">\n",
              "      <th></th>\n",
              "      <th>Họ và tên bạn là gì?</th>\n",
              "      <th>Ngày sinh của bạn là?</th>\n",
              "      <th>Hiện tại bạn là?</th>\n",
              "      <th>Giới tính sinh học của bạn là:</th>\n",
              "      <th>Bạn có thuộc cộng đồng LGBT không?</th>\n",
              "      <th>1. Bạn là người có xu hướng:</th>\n",
              "      <th>2. Bạn có cảm thấy bản thân mình thừa thãi không?</th>\n",
              "      <th>3. Bạn có cảm thấy lạc lõng, không hòa nhập được với mọi người không?</th>\n",
              "      <th>4. Bạn đang tự ti?</th>\n",
              "      <th>5. Bạn có hay vận động thể dục, thể thao không?</th>\n",
              "      <th>...</th>\n",
              "      <th>1. Bạn đột nhiên ăn quá nhiều hoặc chán ăn, biếng ăn?</th>\n",
              "      <th>2. Bạn luôn thấy mệt mỏi, thiếu năng lượng làm mọi việc?</th>\n",
              "      <th>3. Bạn cảm thấy khó ngủ, ngủ không lâu hoặc ngược lại ngủ quá nhiều?</th>\n",
              "      <th>4. Bạn hoạt động chậm chạp, đi lại hay nói chuyện đều chậm khiến mọi người chú ý. Hoặc bồn chồn không thể ở yên một chỗ?</th>\n",
              "      <th>5. Bạn không thể tập trung khi làm việc?</th>\n",
              "      <th>6. Bạn mất tự tin vào bản thân, thất vọng về bản thân và cả gia đình?</th>\n",
              "      <th>7. Bạn luôn cảm thấy chán nản, kiệt sức, tuyệt vọng?</th>\n",
              "      <th>8. Bạn ít thấy hứng thú hoặc không tìm thấy niềm vui trong mọi việc?</th>\n",
              "      <th>9. Bạn có suy nghĩ tiêu cực, muốn làm tổn thương bản thân thậm chí có suy nghĩ tự sát?</th>\n",
              "      <th>Tổng điểm</th>\n",
              "    </tr>\n",
              "  </thead>\n",
              "  <tbody>\n",
              "    <tr>\n",
              "      <th>0</th>\n",
              "      <td>Trần Triệu Như</td>\n",
              "      <td>2003-11-04</td>\n",
              "      <td>Sinh viên năm 1</td>\n",
              "      <td>Nữ</td>\n",
              "      <td>Không</td>\n",
              "      <td>Vừa hướng nội vừa hướng ngoại</td>\n",
              "      <td>Không</td>\n",
              "      <td>Một chút</td>\n",
              "      <td>Một chút</td>\n",
              "      <td>Không</td>\n",
              "      <td>...</td>\n",
              "      <td>3.0</td>\n",
              "      <td>2.0</td>\n",
              "      <td>3.0</td>\n",
              "      <td>1.0</td>\n",
              "      <td>0.0</td>\n",
              "      <td>1.0</td>\n",
              "      <td>1.0</td>\n",
              "      <td>1.0</td>\n",
              "      <td>0.0</td>\n",
              "      <td>12.0</td>\n",
              "    </tr>\n",
              "    <tr>\n",
              "      <th>1</th>\n",
              "      <td>Trần Trường Hải</td>\n",
              "      <td>2002-04-13</td>\n",
              "      <td>Sinh viên năm 2</td>\n",
              "      <td>Nam</td>\n",
              "      <td>Không</td>\n",
              "      <td>Hướng nội</td>\n",
              "      <td>Không</td>\n",
              "      <td>Một chút</td>\n",
              "      <td>Có</td>\n",
              "      <td>Có</td>\n",
              "      <td>...</td>\n",
              "      <td>1.0</td>\n",
              "      <td>3.0</td>\n",
              "      <td>3.0</td>\n",
              "      <td>1.0</td>\n",
              "      <td>2.0</td>\n",
              "      <td>2.0</td>\n",
              "      <td>3.0</td>\n",
              "      <td>3.0</td>\n",
              "      <td>1.0</td>\n",
              "      <td>19.0</td>\n",
              "    </tr>\n",
              "    <tr>\n",
              "      <th>2</th>\n",
              "      <td>Nguyen Quang Dieu</td>\n",
              "      <td>2002-05-30</td>\n",
              "      <td>Sinh viên năm 2</td>\n",
              "      <td>Nam</td>\n",
              "      <td>Không</td>\n",
              "      <td>Vừa hướng nội vừa hướng ngoại</td>\n",
              "      <td>Một chút</td>\n",
              "      <td>Một chút</td>\n",
              "      <td>Không</td>\n",
              "      <td>Một chút</td>\n",
              "      <td>...</td>\n",
              "      <td>0.0</td>\n",
              "      <td>1.0</td>\n",
              "      <td>1.0</td>\n",
              "      <td>1.0</td>\n",
              "      <td>2.0</td>\n",
              "      <td>1.0</td>\n",
              "      <td>0.0</td>\n",
              "      <td>0.0</td>\n",
              "      <td>0.0</td>\n",
              "      <td>6.0</td>\n",
              "    </tr>\n",
              "    <tr>\n",
              "      <th>3</th>\n",
              "      <td>Trương Minh Lộc</td>\n",
              "      <td>2002-09-20</td>\n",
              "      <td>Sinh viên năm 2</td>\n",
              "      <td>Nam</td>\n",
              "      <td>Không</td>\n",
              "      <td>Vừa hướng nội vừa hướng ngoại</td>\n",
              "      <td>Một chút</td>\n",
              "      <td>Có</td>\n",
              "      <td>Có</td>\n",
              "      <td>Không</td>\n",
              "      <td>...</td>\n",
              "      <td>3.0</td>\n",
              "      <td>2.0</td>\n",
              "      <td>3.0</td>\n",
              "      <td>2.0</td>\n",
              "      <td>2.0</td>\n",
              "      <td>1.0</td>\n",
              "      <td>2.0</td>\n",
              "      <td>1.0</td>\n",
              "      <td>0.0</td>\n",
              "      <td>16.0</td>\n",
              "    </tr>\n",
              "    <tr>\n",
              "      <th>4</th>\n",
              "      <td>Nguyễn Hải Ngọc</td>\n",
              "      <td>2003-12-09</td>\n",
              "      <td>Sinh viên năm 1</td>\n",
              "      <td>Nữ</td>\n",
              "      <td>Không</td>\n",
              "      <td>Chưa xác định được</td>\n",
              "      <td>Không</td>\n",
              "      <td>Một chút</td>\n",
              "      <td>Một chút</td>\n",
              "      <td>Một chút</td>\n",
              "      <td>...</td>\n",
              "      <td>1.0</td>\n",
              "      <td>2.0</td>\n",
              "      <td>2.0</td>\n",
              "      <td>1.0</td>\n",
              "      <td>1.0</td>\n",
              "      <td>0.0</td>\n",
              "      <td>1.0</td>\n",
              "      <td>2.0</td>\n",
              "      <td>0.0</td>\n",
              "      <td>10.0</td>\n",
              "    </tr>\n",
              "  </tbody>\n",
              "</table>\n",
              "<p>5 rows × 38 columns</p>\n",
              "</div>\n",
              "      <button class=\"colab-df-convert\" onclick=\"convertToInteractive('df-a12e3123-79eb-4a66-8c46-b289b1b12385')\"\n",
              "              title=\"Convert this dataframe to an interactive table.\"\n",
              "              style=\"display:none;\">\n",
              "        \n",
              "  <svg xmlns=\"http://www.w3.org/2000/svg\" height=\"24px\"viewBox=\"0 0 24 24\"\n",
              "       width=\"24px\">\n",
              "    <path d=\"M0 0h24v24H0V0z\" fill=\"none\"/>\n",
              "    <path d=\"M18.56 5.44l.94 2.06.94-2.06 2.06-.94-2.06-.94-.94-2.06-.94 2.06-2.06.94zm-11 1L8.5 8.5l.94-2.06 2.06-.94-2.06-.94L8.5 2.5l-.94 2.06-2.06.94zm10 10l.94 2.06.94-2.06 2.06-.94-2.06-.94-.94-2.06-.94 2.06-2.06.94z\"/><path d=\"M17.41 7.96l-1.37-1.37c-.4-.4-.92-.59-1.43-.59-.52 0-1.04.2-1.43.59L10.3 9.45l-7.72 7.72c-.78.78-.78 2.05 0 2.83L4 21.41c.39.39.9.59 1.41.59.51 0 1.02-.2 1.41-.59l7.78-7.78 2.81-2.81c.8-.78.8-2.07 0-2.86zM5.41 20L4 18.59l7.72-7.72 1.47 1.35L5.41 20z\"/>\n",
              "  </svg>\n",
              "      </button>\n",
              "      \n",
              "  <style>\n",
              "    .colab-df-container {\n",
              "      display:flex;\n",
              "      flex-wrap:wrap;\n",
              "      gap: 12px;\n",
              "    }\n",
              "\n",
              "    .colab-df-convert {\n",
              "      background-color: #E8F0FE;\n",
              "      border: none;\n",
              "      border-radius: 50%;\n",
              "      cursor: pointer;\n",
              "      display: none;\n",
              "      fill: #1967D2;\n",
              "      height: 32px;\n",
              "      padding: 0 0 0 0;\n",
              "      width: 32px;\n",
              "    }\n",
              "\n",
              "    .colab-df-convert:hover {\n",
              "      background-color: #E2EBFA;\n",
              "      box-shadow: 0px 1px 2px rgba(60, 64, 67, 0.3), 0px 1px 3px 1px rgba(60, 64, 67, 0.15);\n",
              "      fill: #174EA6;\n",
              "    }\n",
              "\n",
              "    [theme=dark] .colab-df-convert {\n",
              "      background-color: #3B4455;\n",
              "      fill: #D2E3FC;\n",
              "    }\n",
              "\n",
              "    [theme=dark] .colab-df-convert:hover {\n",
              "      background-color: #434B5C;\n",
              "      box-shadow: 0px 1px 3px 1px rgba(0, 0, 0, 0.15);\n",
              "      filter: drop-shadow(0px 1px 2px rgba(0, 0, 0, 0.3));\n",
              "      fill: #FFFFFF;\n",
              "    }\n",
              "  </style>\n",
              "\n",
              "      <script>\n",
              "        const buttonEl =\n",
              "          document.querySelector('#df-a12e3123-79eb-4a66-8c46-b289b1b12385 button.colab-df-convert');\n",
              "        buttonEl.style.display =\n",
              "          google.colab.kernel.accessAllowed ? 'block' : 'none';\n",
              "\n",
              "        async function convertToInteractive(key) {\n",
              "          const element = document.querySelector('#df-a12e3123-79eb-4a66-8c46-b289b1b12385');\n",
              "          const dataTable =\n",
              "            await google.colab.kernel.invokeFunction('convertToInteractive',\n",
              "                                                     [key], {});\n",
              "          if (!dataTable) return;\n",
              "\n",
              "          const docLinkHtml = 'Like what you see? Visit the ' +\n",
              "            '<a target=\"_blank\" href=https://colab.research.google.com/notebooks/data_table.ipynb>data table notebook</a>'\n",
              "            + ' to learn more about interactive tables.';\n",
              "          element.innerHTML = '';\n",
              "          dataTable['output_type'] = 'display_data';\n",
              "          await google.colab.output.renderOutput(dataTable, element);\n",
              "          const docLink = document.createElement('div');\n",
              "          docLink.innerHTML = docLinkHtml;\n",
              "          element.appendChild(docLink);\n",
              "        }\n",
              "      </script>\n",
              "    </div>\n",
              "  </div>\n",
              "  "
            ]
          },
          "metadata": {},
          "execution_count": 4
        }
      ]
    },
    {
      "cell_type": "code",
      "source": [
        "data.columns = ['Name', 'DoB', 'Job', 'Sex', 'LGBT', 'a1', 'a2', 'a3', 'a4', 'a5', 'a6', 'a7', 'a8', \n",
        "                'b1', 'b2', 'b3', 'b4', 'b5', 'b6', 'b7', 'b8', 'b9', 'b10', 'b11', 'b12', 'b13', 'b14', 'b15',\n",
        "                'c1', 'c2', 'c3', 'c4', 'c5', 'c6', 'c7', 'c8', 'c9', 'Total']"
      ],
      "metadata": {
        "id": "Kub6Tkj2Fejd"
      },
      "execution_count": null,
      "outputs": []
    },
    {
      "cell_type": "markdown",
      "source": [
        "$Data$ $Preprocessing$"
      ],
      "metadata": {
        "id": "kjC30rYRFwGp"
      }
    },
    {
      "cell_type": "code",
      "source": [
        "# Change values in total column to the rate of depression. Normal - Minimal - Mild - Medium - Severe.\n",
        "data.Total = data.Total.replace({1: 0, 2: 0, 3: 0, 4: 0,\n",
        "                                 5: 1, 6: 1, 7: 1, 8: 1, 9: 1,\n",
        "                                 10: 2, 11: 2, 12: 2, 13: 2, 14: 2,\n",
        "                                 15: 3, 16: 3, 17: 3, 18: 3, 19: 3,\n",
        "                                 20: 4, 21: 4, 22: 4, 23: 4, 24: 4, 25: 4, 26: 4, 27: 4})\n",
        "\n",
        "\n",
        "# Change values in job column from Sinh vien trung cap to Trung cap nghe\n",
        "data.Job = data.Job.replace({'Học sinh cấp 3': 0,\n",
        "                             'Sinh viên trung cấp': 1,\n",
        "                             'Sinh viên năm 1': 2,\n",
        "                             'Sinh viên năm 2': 3,\n",
        "                             'Sinh viên năm 3': 4,\n",
        "                             'Sinh viên năm 4': 5,\n",
        "                             'Sinh viên từ năm 4 trở lên': 6,\n",
        "                             'Đã tốt nghiệp.': 7})\n",
        "data.LGBT = data.LGBT.replace({'Có': 1,\n",
        "                               'Không': 0,\n",
        "                               'Chưa xác định': 0.5})\n",
        "data.a1 = data.a1.replace({'Hướng ngoại': 1,\n",
        "                     'Hướng nội': 2,\n",
        "                     'Chưa xác định được': 0,\n",
        "                     'Vừa hướng nội vừa hướng ngoại': 1.5})\n",
        "data.a2 = data.a2.replace({'Có': 1, 'Một chút': 0.5, 'Không': 0})\n",
        "data.a3 = data.a3.replace({'Có': 1, 'Một chút': 0.5, 'Không': 0})\n",
        "data.a4 = data.a4.replace({'Có': 1, 'Một chút': 0.5, 'Không': 0})\n",
        "\n",
        "# Question (B)\n",
        "data.b15 = data.b15.replace({'Chưa từng': 0, 'Một - hai lần': 1, 'Khoảng năm lần': 2, 'Khoảng 10 lần': 3, 'Rất nhiều': 4, 'Mỗi ngày': 5})\n",
        "\n",
        "# Drop the column Name\n",
        "data = data.drop(columns=[ 'Name', 'DoB','a7', 'a8','a1','a2','a3','a4','a5','a6','LGBT','Sex',\n",
        "                          'Job','b3','b4','b7','b8','b9','b10','b11','b13','b14','b15'])"
      ],
      "metadata": {
        "id": "4-1T8GS8FuIZ"
      },
      "execution_count": null,
      "outputs": []
    },
    {
      "cell_type": "markdown",
      "source": [
        "# Step 2: Traing dataset."
      ],
      "metadata": {
        "id": "wTshAajFGYM4"
      }
    },
    {
      "cell_type": "markdown",
      "source": [
        "## Select attribute and split train - test"
      ],
      "metadata": {
        "id": "gtuNZ7zbH6gX"
      }
    },
    {
      "cell_type": "code",
      "source": [
        "corr = data.corr()\n",
        "corr.style.background_gradient(cmap='coolwarm').set_precision(2)"
      ],
      "metadata": {
        "colab": {
          "base_uri": "https://localhost:8080/",
          "height": 574
        },
        "id": "3Z5CYYX2GS6Y",
        "outputId": "06ff090b-a188-4466-9d34-a670f87ee9dc"
      },
      "execution_count": null,
      "outputs": [
        {
          "output_type": "stream",
          "name": "stderr",
          "text": [
            "<ipython-input-7-4407c4976e35>:2: FutureWarning: this method is deprecated in favour of `Styler.format(precision=..)`\n",
            "  corr.style.background_gradient(cmap='coolwarm').set_precision(2)\n"
          ]
        },
        {
          "output_type": "execute_result",
          "data": {
            "text/plain": [
              "<pandas.io.formats.style.Styler at 0x7f2a3b5e0b80>"
            ],
            "text/html": [
              "<style type=\"text/css\">\n",
              "#T_0f4ec_row0_col0, #T_0f4ec_row1_col1, #T_0f4ec_row2_col2, #T_0f4ec_row3_col3, #T_0f4ec_row4_col4, #T_0f4ec_row5_col5, #T_0f4ec_row6_col6, #T_0f4ec_row7_col7, #T_0f4ec_row8_col8, #T_0f4ec_row9_col9, #T_0f4ec_row10_col10, #T_0f4ec_row11_col11, #T_0f4ec_row12_col12, #T_0f4ec_row13_col13, #T_0f4ec_row14_col14 {\n",
              "  background-color: #b40426;\n",
              "  color: #f1f1f1;\n",
              "}\n",
              "#T_0f4ec_row0_col1, #T_0f4ec_row6_col3, #T_0f4ec_row7_col5, #T_0f4ec_row9_col5 {\n",
              "  background-color: #8fb1fe;\n",
              "  color: #000000;\n",
              "}\n",
              "#T_0f4ec_row0_col2, #T_0f4ec_row1_col3, #T_0f4ec_row1_col8, #T_0f4ec_row1_col10, #T_0f4ec_row1_col11, #T_0f4ec_row2_col0, #T_0f4ec_row3_col1, #T_0f4ec_row3_col6, #T_0f4ec_row3_col7, #T_0f4ec_row3_col14, #T_0f4ec_row6_col4, #T_0f4ec_row7_col13, #T_0f4ec_row13_col5, #T_0f4ec_row13_col9, #T_0f4ec_row13_col12 {\n",
              "  background-color: #3b4cc0;\n",
              "  color: #f1f1f1;\n",
              "}\n",
              "#T_0f4ec_row0_col3, #T_0f4ec_row0_col9, #T_0f4ec_row7_col1, #T_0f4ec_row8_col11, #T_0f4ec_row9_col3 {\n",
              "  background-color: #a6c4fe;\n",
              "  color: #000000;\n",
              "}\n",
              "#T_0f4ec_row0_col4, #T_0f4ec_row2_col6, #T_0f4ec_row3_col4, #T_0f4ec_row3_col9 {\n",
              "  background-color: #799cf8;\n",
              "  color: #f1f1f1;\n",
              "}\n",
              "#T_0f4ec_row0_col5, #T_0f4ec_row4_col6 {\n",
              "  background-color: #4961d2;\n",
              "  color: #f1f1f1;\n",
              "}\n",
              "#T_0f4ec_row0_col6, #T_0f4ec_row0_col7, #T_0f4ec_row7_col8, #T_0f4ec_row12_col3 {\n",
              "  background-color: #a5c3fe;\n",
              "  color: #000000;\n",
              "}\n",
              "#T_0f4ec_row0_col8 {\n",
              "  background-color: #7597f6;\n",
              "  color: #f1f1f1;\n",
              "}\n",
              "#T_0f4ec_row0_col10, #T_0f4ec_row7_col12, #T_0f4ec_row9_col11 {\n",
              "  background-color: #779af7;\n",
              "  color: #f1f1f1;\n",
              "}\n",
              "#T_0f4ec_row0_col11 {\n",
              "  background-color: #b9d0f9;\n",
              "  color: #000000;\n",
              "}\n",
              "#T_0f4ec_row0_col12 {\n",
              "  background-color: #cedaeb;\n",
              "  color: #000000;\n",
              "}\n",
              "#T_0f4ec_row0_col13, #T_0f4ec_row8_col1 {\n",
              "  background-color: #6a8bef;\n",
              "  color: #f1f1f1;\n",
              "}\n",
              "#T_0f4ec_row0_col14, #T_0f4ec_row2_col7, #T_0f4ec_row7_col0 {\n",
              "  background-color: #86a9fc;\n",
              "  color: #f1f1f1;\n",
              "}\n",
              "#T_0f4ec_row1_col0, #T_0f4ec_row12_col10 {\n",
              "  background-color: #4c66d6;\n",
              "  color: #f1f1f1;\n",
              "}\n",
              "#T_0f4ec_row1_col2 {\n",
              "  background-color: #9bbcff;\n",
              "  color: #000000;\n",
              "}\n",
              "#T_0f4ec_row1_col4, #T_0f4ec_row13_col2 {\n",
              "  background-color: #5977e3;\n",
              "  color: #f1f1f1;\n",
              "}\n",
              "#T_0f4ec_row1_col5, #T_0f4ec_row3_col12, #T_0f4ec_row9_col8, #T_0f4ec_row13_col1 {\n",
              "  background-color: #7a9df8;\n",
              "  color: #f1f1f1;\n",
              "}\n",
              "#T_0f4ec_row1_col6, #T_0f4ec_row7_col4, #T_0f4ec_row13_col7 {\n",
              "  background-color: #465ecf;\n",
              "  color: #f1f1f1;\n",
              "}\n",
              "#T_0f4ec_row1_col7, #T_0f4ec_row4_col7, #T_0f4ec_row6_col2 {\n",
              "  background-color: #89acfd;\n",
              "  color: #000000;\n",
              "}\n",
              "#T_0f4ec_row1_col9, #T_0f4ec_row5_col3, #T_0f4ec_row5_col9, #T_0f4ec_row6_col1, #T_0f4ec_row10_col8 {\n",
              "  background-color: #9abbff;\n",
              "  color: #000000;\n",
              "}\n",
              "#T_0f4ec_row1_col12 {\n",
              "  background-color: #82a6fb;\n",
              "  color: #f1f1f1;\n",
              "}\n",
              "#T_0f4ec_row1_col13, #T_0f4ec_row2_col10, #T_0f4ec_row12_col4 {\n",
              "  background-color: #4b64d5;\n",
              "  color: #f1f1f1;\n",
              "}\n",
              "#T_0f4ec_row1_col14, #T_0f4ec_row5_col0 {\n",
              "  background-color: #4358cb;\n",
              "  color: #f1f1f1;\n",
              "}\n",
              "#T_0f4ec_row2_col1, #T_0f4ec_row10_col4 {\n",
              "  background-color: #ccd9ed;\n",
              "  color: #000000;\n",
              "}\n",
              "#T_0f4ec_row2_col3 {\n",
              "  background-color: #bad0f8;\n",
              "  color: #000000;\n",
              "}\n",
              "#T_0f4ec_row2_col4, #T_0f4ec_row10_col5 {\n",
              "  background-color: #90b2fe;\n",
              "  color: #000000;\n",
              "}\n",
              "#T_0f4ec_row2_col5, #T_0f4ec_row5_col14, #T_0f4ec_row10_col3 {\n",
              "  background-color: #a9c6fd;\n",
              "  color: #000000;\n",
              "}\n",
              "#T_0f4ec_row2_col8, #T_0f4ec_row3_col5 {\n",
              "  background-color: #5e7de7;\n",
              "  color: #f1f1f1;\n",
              "}\n",
              "#T_0f4ec_row2_col9, #T_0f4ec_row5_col11 {\n",
              "  background-color: #94b6ff;\n",
              "  color: #000000;\n",
              "}\n",
              "#T_0f4ec_row2_col11, #T_0f4ec_row5_col4, #T_0f4ec_row8_col0 {\n",
              "  background-color: #5f7fe8;\n",
              "  color: #f1f1f1;\n",
              "}\n",
              "#T_0f4ec_row2_col12, #T_0f4ec_row2_col14, #T_0f4ec_row4_col5, #T_0f4ec_row4_col8, #T_0f4ec_row5_col10, #T_0f4ec_row9_col2, #T_0f4ec_row11_col9, #T_0f4ec_row12_col7 {\n",
              "  background-color: #85a8fc;\n",
              "  color: #f1f1f1;\n",
              "}\n",
              "#T_0f4ec_row2_col13, #T_0f4ec_row13_col8 {\n",
              "  background-color: #6f92f3;\n",
              "  color: #f1f1f1;\n",
              "}\n",
              "#T_0f4ec_row3_col0 {\n",
              "  background-color: #688aef;\n",
              "  color: #f1f1f1;\n",
              "}\n",
              "#T_0f4ec_row3_col2, #T_0f4ec_row4_col12, #T_0f4ec_row8_col10 {\n",
              "  background-color: #81a4fb;\n",
              "  color: #f1f1f1;\n",
              "}\n",
              "#T_0f4ec_row3_col8 {\n",
              "  background-color: #8badfd;\n",
              "  color: #000000;\n",
              "}\n",
              "#T_0f4ec_row3_col10, #T_0f4ec_row7_col2 {\n",
              "  background-color: #6687ed;\n",
              "  color: #f1f1f1;\n",
              "}\n",
              "#T_0f4ec_row3_col11, #T_0f4ec_row10_col9 {\n",
              "  background-color: #8caffe;\n",
              "  color: #000000;\n",
              "}\n",
              "#T_0f4ec_row3_col13, #T_0f4ec_row8_col9, #T_0f4ec_row9_col10 {\n",
              "  background-color: #7699f6;\n",
              "  color: #f1f1f1;\n",
              "}\n",
              "#T_0f4ec_row4_col0, #T_0f4ec_row9_col0 {\n",
              "  background-color: #98b9ff;\n",
              "  color: #000000;\n",
              "}\n",
              "#T_0f4ec_row4_col1, #T_0f4ec_row4_col11, #T_0f4ec_row6_col0, #T_0f4ec_row11_col8, #T_0f4ec_row12_col9 {\n",
              "  background-color: #b3cdfb;\n",
              "  color: #000000;\n",
              "}\n",
              "#T_0f4ec_row4_col2, #T_0f4ec_row12_col1 {\n",
              "  background-color: #abc8fd;\n",
              "  color: #000000;\n",
              "}\n",
              "#T_0f4ec_row4_col3 {\n",
              "  background-color: #cad8ef;\n",
              "  color: #000000;\n",
              "}\n",
              "#T_0f4ec_row4_col9 {\n",
              "  background-color: #9dbdff;\n",
              "  color: #000000;\n",
              "}\n",
              "#T_0f4ec_row4_col10 {\n",
              "  background-color: #d9dce1;\n",
              "  color: #000000;\n",
              "}\n",
              "#T_0f4ec_row4_col13, #T_0f4ec_row11_col12 {\n",
              "  background-color: #c1d4f4;\n",
              "  color: #000000;\n",
              "}\n",
              "#T_0f4ec_row4_col14, #T_0f4ec_row13_col3 {\n",
              "  background-color: #9fbfff;\n",
              "  color: #000000;\n",
              "}\n",
              "#T_0f4ec_row5_col1, #T_0f4ec_row13_col11 {\n",
              "  background-color: #b1cbfc;\n",
              "  color: #000000;\n",
              "}\n",
              "#T_0f4ec_row5_col2, #T_0f4ec_row12_col6 {\n",
              "  background-color: #a3c2fe;\n",
              "  color: #000000;\n",
              "}\n",
              "#T_0f4ec_row5_col6 {\n",
              "  background-color: #8db0fe;\n",
              "  color: #000000;\n",
              "}\n",
              "#T_0f4ec_row5_col7, #T_0f4ec_row12_col14 {\n",
              "  background-color: #a7c5fe;\n",
              "  color: #000000;\n",
              "}\n",
              "#T_0f4ec_row5_col8, #T_0f4ec_row12_col5 {\n",
              "  background-color: #5673e0;\n",
              "  color: #f1f1f1;\n",
              "}\n",
              "#T_0f4ec_row5_col12, #T_0f4ec_row6_col13 {\n",
              "  background-color: #6485ec;\n",
              "  color: #f1f1f1;\n",
              "}\n",
              "#T_0f4ec_row5_col13, #T_0f4ec_row8_col2 {\n",
              "  background-color: #4a63d3;\n",
              "  color: #f1f1f1;\n",
              "}\n",
              "#T_0f4ec_row6_col5 {\n",
              "  background-color: #a2c1ff;\n",
              "  color: #000000;\n",
              "}\n",
              "#T_0f4ec_row6_col7, #T_0f4ec_row14_col8 {\n",
              "  background-color: #efcfbf;\n",
              "  color: #000000;\n",
              "}\n",
              "#T_0f4ec_row6_col8 {\n",
              "  background-color: #9ebeff;\n",
              "  color: #000000;\n",
              "}\n",
              "#T_0f4ec_row6_col9 {\n",
              "  background-color: #e6d7cf;\n",
              "  color: #000000;\n",
              "}\n",
              "#T_0f4ec_row6_col10, #T_0f4ec_row9_col4 {\n",
              "  background-color: #6e90f2;\n",
              "  color: #f1f1f1;\n",
              "}\n",
              "#T_0f4ec_row6_col11 {\n",
              "  background-color: #dadce0;\n",
              "  color: #000000;\n",
              "}\n",
              "#T_0f4ec_row6_col12, #T_0f4ec_row9_col1 {\n",
              "  background-color: #c0d4f5;\n",
              "  color: #000000;\n",
              "}\n",
              "#T_0f4ec_row6_col14 {\n",
              "  background-color: #e9d5cb;\n",
              "  color: #000000;\n",
              "}\n",
              "#T_0f4ec_row7_col3, #T_0f4ec_row11_col2 {\n",
              "  background-color: #5b7ae5;\n",
              "  color: #f1f1f1;\n",
              "}\n",
              "#T_0f4ec_row7_col6 {\n",
              "  background-color: #dcdddd;\n",
              "  color: #000000;\n",
              "}\n",
              "#T_0f4ec_row7_col9 {\n",
              "  background-color: #bbd1f8;\n",
              "  color: #000000;\n",
              "}\n",
              "#T_0f4ec_row7_col10 {\n",
              "  background-color: #536edd;\n",
              "  color: #f1f1f1;\n",
              "}\n",
              "#T_0f4ec_row7_col11, #T_0f4ec_row8_col14 {\n",
              "  background-color: #aec9fc;\n",
              "  color: #000000;\n",
              "}\n",
              "#T_0f4ec_row7_col14 {\n",
              "  background-color: #cdd9ec;\n",
              "  color: #000000;\n",
              "}\n",
              "#T_0f4ec_row8_col3 {\n",
              "  background-color: #b2ccfb;\n",
              "  color: #000000;\n",
              "}\n",
              "#T_0f4ec_row8_col4 {\n",
              "  background-color: #506bda;\n",
              "  color: #f1f1f1;\n",
              "}\n",
              "#T_0f4ec_row8_col5 {\n",
              "  background-color: #485fd1;\n",
              "  color: #f1f1f1;\n",
              "}\n",
              "#T_0f4ec_row8_col6, #T_0f4ec_row10_col7, #T_0f4ec_row11_col1 {\n",
              "  background-color: #7b9ff9;\n",
              "  color: #f1f1f1;\n",
              "}\n",
              "#T_0f4ec_row8_col7 {\n",
              "  background-color: #afcafc;\n",
              "  color: #000000;\n",
              "}\n",
              "#T_0f4ec_row8_col12, #T_0f4ec_row11_col10, #T_0f4ec_row11_col13, #T_0f4ec_row12_col8 {\n",
              "  background-color: #bed2f6;\n",
              "  color: #000000;\n",
              "}\n",
              "#T_0f4ec_row8_col13, #T_0f4ec_row12_col2 {\n",
              "  background-color: #7093f3;\n",
              "  color: #f1f1f1;\n",
              "}\n",
              "#T_0f4ec_row9_col6 {\n",
              "  background-color: #d7dce3;\n",
              "  color: #000000;\n",
              "}\n",
              "#T_0f4ec_row9_col7 {\n",
              "  background-color: #c7d7f0;\n",
              "  color: #000000;\n",
              "}\n",
              "#T_0f4ec_row9_col12 {\n",
              "  background-color: #b6cefa;\n",
              "  color: #000000;\n",
              "}\n",
              "#T_0f4ec_row9_col13 {\n",
              "  background-color: #3f53c6;\n",
              "  color: #f1f1f1;\n",
              "}\n",
              "#T_0f4ec_row9_col14, #T_0f4ec_row10_col11, #T_0f4ec_row12_col0 {\n",
              "  background-color: #c3d5f4;\n",
              "  color: #000000;\n",
              "}\n",
              "#T_0f4ec_row10_col0 {\n",
              "  background-color: #7ea1fa;\n",
              "  color: #f1f1f1;\n",
              "}\n",
              "#T_0f4ec_row10_col1 {\n",
              "  background-color: #84a7fc;\n",
              "  color: #f1f1f1;\n",
              "}\n",
              "#T_0f4ec_row10_col2 {\n",
              "  background-color: #516ddb;\n",
              "  color: #f1f1f1;\n",
              "}\n",
              "#T_0f4ec_row10_col6 {\n",
              "  background-color: #6282ea;\n",
              "  color: #f1f1f1;\n",
              "}\n",
              "#T_0f4ec_row10_col12 {\n",
              "  background-color: #6788ee;\n",
              "  color: #f1f1f1;\n",
              "}\n",
              "#T_0f4ec_row10_col13 {\n",
              "  background-color: #ead4c8;\n",
              "  color: #000000;\n",
              "}\n",
              "#T_0f4ec_row10_col14, #T_0f4ec_row12_col11 {\n",
              "  background-color: #b5cdfa;\n",
              "  color: #000000;\n",
              "}\n",
              "#T_0f4ec_row11_col0 {\n",
              "  background-color: #b7cff9;\n",
              "  color: #000000;\n",
              "}\n",
              "#T_0f4ec_row11_col3 {\n",
              "  background-color: #bfd3f6;\n",
              "  color: #000000;\n",
              "}\n",
              "#T_0f4ec_row11_col4, #T_0f4ec_row11_col5, #T_0f4ec_row13_col4 {\n",
              "  background-color: #97b8ff;\n",
              "  color: #000000;\n",
              "}\n",
              "#T_0f4ec_row11_col6, #T_0f4ec_row14_col3 {\n",
              "  background-color: #cfdaea;\n",
              "  color: #000000;\n",
              "}\n",
              "#T_0f4ec_row11_col7 {\n",
              "  background-color: #c4d5f3;\n",
              "  color: #000000;\n",
              "}\n",
              "#T_0f4ec_row11_col14 {\n",
              "  background-color: #e3d9d3;\n",
              "  color: #000000;\n",
              "}\n",
              "#T_0f4ec_row12_col13, #T_0f4ec_row13_col6 {\n",
              "  background-color: #3c4ec2;\n",
              "  color: #f1f1f1;\n",
              "}\n",
              "#T_0f4ec_row13_col0 {\n",
              "  background-color: #5470de;\n",
              "  color: #f1f1f1;\n",
              "}\n",
              "#T_0f4ec_row13_col10 {\n",
              "  background-color: #dfdbd9;\n",
              "  color: #000000;\n",
              "}\n",
              "#T_0f4ec_row13_col14 {\n",
              "  background-color: #5875e1;\n",
              "  color: #f1f1f1;\n",
              "}\n",
              "#T_0f4ec_row14_col0 {\n",
              "  background-color: #d5dbe5;\n",
              "  color: #000000;\n",
              "}\n",
              "#T_0f4ec_row14_col1 {\n",
              "  background-color: #d4dbe6;\n",
              "  color: #000000;\n",
              "}\n",
              "#T_0f4ec_row14_col2 {\n",
              "  background-color: #d3dbe7;\n",
              "  color: #000000;\n",
              "}\n",
              "#T_0f4ec_row14_col4 {\n",
              "  background-color: #d2dbe8;\n",
              "  color: #000000;\n",
              "}\n",
              "#T_0f4ec_row14_col5 {\n",
              "  background-color: #e8d6cc;\n",
              "  color: #000000;\n",
              "}\n",
              "#T_0f4ec_row14_col6 {\n",
              "  background-color: #f7b89c;\n",
              "  color: #000000;\n",
              "}\n",
              "#T_0f4ec_row14_col7 {\n",
              "  background-color: #f7ba9f;\n",
              "  color: #000000;\n",
              "}\n",
              "#T_0f4ec_row14_col9 {\n",
              "  background-color: #f3c7b1;\n",
              "  color: #000000;\n",
              "}\n",
              "#T_0f4ec_row14_col10 {\n",
              "  background-color: #ead5c9;\n",
              "  color: #000000;\n",
              "}\n",
              "#T_0f4ec_row14_col11 {\n",
              "  background-color: #f7b599;\n",
              "  color: #000000;\n",
              "}\n",
              "#T_0f4ec_row14_col12 {\n",
              "  background-color: #ecd3c5;\n",
              "  color: #000000;\n",
              "}\n",
              "#T_0f4ec_row14_col13 {\n",
              "  background-color: #c6d6f1;\n",
              "  color: #000000;\n",
              "}\n",
              "</style>\n",
              "<table id=\"T_0f4ec_\" class=\"dataframe\">\n",
              "  <thead>\n",
              "    <tr>\n",
              "      <th class=\"blank level0\" >&nbsp;</th>\n",
              "      <th class=\"col_heading level0 col0\" >b1</th>\n",
              "      <th class=\"col_heading level0 col1\" >b2</th>\n",
              "      <th class=\"col_heading level0 col2\" >b5</th>\n",
              "      <th class=\"col_heading level0 col3\" >b6</th>\n",
              "      <th class=\"col_heading level0 col4\" >b12</th>\n",
              "      <th class=\"col_heading level0 col5\" >c1</th>\n",
              "      <th class=\"col_heading level0 col6\" >c2</th>\n",
              "      <th class=\"col_heading level0 col7\" >c3</th>\n",
              "      <th class=\"col_heading level0 col8\" >c4</th>\n",
              "      <th class=\"col_heading level0 col9\" >c5</th>\n",
              "      <th class=\"col_heading level0 col10\" >c6</th>\n",
              "      <th class=\"col_heading level0 col11\" >c7</th>\n",
              "      <th class=\"col_heading level0 col12\" >c8</th>\n",
              "      <th class=\"col_heading level0 col13\" >c9</th>\n",
              "      <th class=\"col_heading level0 col14\" >Total</th>\n",
              "    </tr>\n",
              "  </thead>\n",
              "  <tbody>\n",
              "    <tr>\n",
              "      <th id=\"T_0f4ec_level0_row0\" class=\"row_heading level0 row0\" >b1</th>\n",
              "      <td id=\"T_0f4ec_row0_col0\" class=\"data row0 col0\" >1.00</td>\n",
              "      <td id=\"T_0f4ec_row0_col1\" class=\"data row0 col1\" >0.37</td>\n",
              "      <td id=\"T_0f4ec_row0_col2\" class=\"data row0 col2\" >0.33</td>\n",
              "      <td id=\"T_0f4ec_row0_col3\" class=\"data row0 col3\" >0.43</td>\n",
              "      <td id=\"T_0f4ec_row0_col4\" class=\"data row0 col4\" >0.52</td>\n",
              "      <td id=\"T_0f4ec_row0_col5\" class=\"data row0 col5\" >0.35</td>\n",
              "      <td id=\"T_0f4ec_row0_col6\" class=\"data row0 col6\" >0.57</td>\n",
              "      <td id=\"T_0f4ec_row0_col7\" class=\"data row0 col7\" >0.48</td>\n",
              "      <td id=\"T_0f4ec_row0_col8\" class=\"data row0 col8\" >0.41</td>\n",
              "      <td id=\"T_0f4ec_row0_col9\" class=\"data row0 col9\" >0.52</td>\n",
              "      <td id=\"T_0f4ec_row0_col10\" class=\"data row0 col10\" >0.47</td>\n",
              "      <td id=\"T_0f4ec_row0_col11\" class=\"data row0 col11\" >0.58</td>\n",
              "      <td id=\"T_0f4ec_row0_col12\" class=\"data row0 col12\" >0.60</td>\n",
              "      <td id=\"T_0f4ec_row0_col13\" class=\"data row0 col13\" >0.39</td>\n",
              "      <td id=\"T_0f4ec_row0_col14\" class=\"data row0 col14\" >0.64</td>\n",
              "    </tr>\n",
              "    <tr>\n",
              "      <th id=\"T_0f4ec_level0_row1\" class=\"row_heading level0 row1\" >b2</th>\n",
              "      <td id=\"T_0f4ec_row1_col0\" class=\"data row1 col0\" >0.37</td>\n",
              "      <td id=\"T_0f4ec_row1_col1\" class=\"data row1 col1\" >1.00</td>\n",
              "      <td id=\"T_0f4ec_row1_col2\" class=\"data row1 col2\" >0.53</td>\n",
              "      <td id=\"T_0f4ec_row1_col3\" class=\"data row1 col3\" >0.15</td>\n",
              "      <td id=\"T_0f4ec_row1_col4\" class=\"data row1 col4\" >0.46</td>\n",
              "      <td id=\"T_0f4ec_row1_col5\" class=\"data row1 col5\" >0.45</td>\n",
              "      <td id=\"T_0f4ec_row1_col6\" class=\"data row1 col6\" >0.40</td>\n",
              "      <td id=\"T_0f4ec_row1_col7\" class=\"data row1 col7\" >0.43</td>\n",
              "      <td id=\"T_0f4ec_row1_col8\" class=\"data row1 col8\" >0.28</td>\n",
              "      <td id=\"T_0f4ec_row1_col9\" class=\"data row1 col9\" >0.49</td>\n",
              "      <td id=\"T_0f4ec_row1_col10\" class=\"data row1 col10\" >0.34</td>\n",
              "      <td id=\"T_0f4ec_row1_col11\" class=\"data row1 col11\" >0.32</td>\n",
              "      <td id=\"T_0f4ec_row1_col12\" class=\"data row1 col12\" >0.44</td>\n",
              "      <td id=\"T_0f4ec_row1_col13\" class=\"data row1 col13\" >0.32</td>\n",
              "      <td id=\"T_0f4ec_row1_col14\" class=\"data row1 col14\" >0.55</td>\n",
              "    </tr>\n",
              "    <tr>\n",
              "      <th id=\"T_0f4ec_level0_row2\" class=\"row_heading level0 row2\" >b5</th>\n",
              "      <td id=\"T_0f4ec_row2_col0\" class=\"data row2 col0\" >0.33</td>\n",
              "      <td id=\"T_0f4ec_row2_col1\" class=\"data row2 col1\" >0.53</td>\n",
              "      <td id=\"T_0f4ec_row2_col2\" class=\"data row2 col2\" >1.00</td>\n",
              "      <td id=\"T_0f4ec_row2_col3\" class=\"data row2 col3\" >0.47</td>\n",
              "      <td id=\"T_0f4ec_row2_col4\" class=\"data row2 col4\" >0.56</td>\n",
              "      <td id=\"T_0f4ec_row2_col5\" class=\"data row2 col5\" >0.54</td>\n",
              "      <td id=\"T_0f4ec_row2_col6\" class=\"data row2 col6\" >0.49</td>\n",
              "      <td id=\"T_0f4ec_row2_col7\" class=\"data row2 col7\" >0.42</td>\n",
              "      <td id=\"T_0f4ec_row2_col8\" class=\"data row2 col8\" >0.36</td>\n",
              "      <td id=\"T_0f4ec_row2_col9\" class=\"data row2 col9\" >0.48</td>\n",
              "      <td id=\"T_0f4ec_row2_col10\" class=\"data row2 col10\" >0.38</td>\n",
              "      <td id=\"T_0f4ec_row2_col11\" class=\"data row2 col11\" >0.40</td>\n",
              "      <td id=\"T_0f4ec_row2_col12\" class=\"data row2 col12\" >0.44</td>\n",
              "      <td id=\"T_0f4ec_row2_col13\" class=\"data row2 col13\" >0.40</td>\n",
              "      <td id=\"T_0f4ec_row2_col14\" class=\"data row2 col14\" >0.64</td>\n",
              "    </tr>\n",
              "    <tr>\n",
              "      <th id=\"T_0f4ec_level0_row3\" class=\"row_heading level0 row3\" >b6</th>\n",
              "      <td id=\"T_0f4ec_row3_col0\" class=\"data row3 col0\" >0.43</td>\n",
              "      <td id=\"T_0f4ec_row3_col1\" class=\"data row3 col1\" >0.15</td>\n",
              "      <td id=\"T_0f4ec_row3_col2\" class=\"data row3 col2\" >0.47</td>\n",
              "      <td id=\"T_0f4ec_row3_col3\" class=\"data row3 col3\" >1.00</td>\n",
              "      <td id=\"T_0f4ec_row3_col4\" class=\"data row3 col4\" >0.52</td>\n",
              "      <td id=\"T_0f4ec_row3_col5\" class=\"data row3 col5\" >0.40</td>\n",
              "      <td id=\"T_0f4ec_row3_col6\" class=\"data row3 col6\" >0.37</td>\n",
              "      <td id=\"T_0f4ec_row3_col7\" class=\"data row3 col7\" >0.24</td>\n",
              "      <td id=\"T_0f4ec_row3_col8\" class=\"data row3 col8\" >0.46</td>\n",
              "      <td id=\"T_0f4ec_row3_col9\" class=\"data row3 col9\" >0.43</td>\n",
              "      <td id=\"T_0f4ec_row3_col10\" class=\"data row3 col10\" >0.43</td>\n",
              "      <td id=\"T_0f4ec_row3_col11\" class=\"data row3 col11\" >0.49</td>\n",
              "      <td id=\"T_0f4ec_row3_col12\" class=\"data row3 col12\" >0.42</td>\n",
              "      <td id=\"T_0f4ec_row3_col13\" class=\"data row3 col13\" >0.41</td>\n",
              "      <td id=\"T_0f4ec_row3_col14\" class=\"data row3 col14\" >0.54</td>\n",
              "    </tr>\n",
              "    <tr>\n",
              "      <th id=\"T_0f4ec_level0_row4\" class=\"row_heading level0 row4\" >b12</th>\n",
              "      <td id=\"T_0f4ec_row4_col0\" class=\"data row4 col0\" >0.52</td>\n",
              "      <td id=\"T_0f4ec_row4_col1\" class=\"data row4 col1\" >0.46</td>\n",
              "      <td id=\"T_0f4ec_row4_col2\" class=\"data row4 col2\" >0.56</td>\n",
              "      <td id=\"T_0f4ec_row4_col3\" class=\"data row4 col3\" >0.52</td>\n",
              "      <td id=\"T_0f4ec_row4_col4\" class=\"data row4 col4\" >1.00</td>\n",
              "      <td id=\"T_0f4ec_row4_col5\" class=\"data row4 col5\" >0.47</td>\n",
              "      <td id=\"T_0f4ec_row4_col6\" class=\"data row4 col6\" >0.40</td>\n",
              "      <td id=\"T_0f4ec_row4_col7\" class=\"data row4 col7\" >0.43</td>\n",
              "      <td id=\"T_0f4ec_row4_col8\" class=\"data row4 col8\" >0.44</td>\n",
              "      <td id=\"T_0f4ec_row4_col9\" class=\"data row4 col9\" >0.50</td>\n",
              "      <td id=\"T_0f4ec_row4_col10\" class=\"data row4 col10\" >0.66</td>\n",
              "      <td id=\"T_0f4ec_row4_col11\" class=\"data row4 col11\" >0.57</td>\n",
              "      <td id=\"T_0f4ec_row4_col12\" class=\"data row4 col12\" >0.44</td>\n",
              "      <td id=\"T_0f4ec_row4_col13\" class=\"data row4 col13\" >0.57</td>\n",
              "      <td id=\"T_0f4ec_row4_col14\" class=\"data row4 col14\" >0.68</td>\n",
              "    </tr>\n",
              "    <tr>\n",
              "      <th id=\"T_0f4ec_level0_row5\" class=\"row_heading level0 row5\" >c1</th>\n",
              "      <td id=\"T_0f4ec_row5_col0\" class=\"data row5 col0\" >0.35</td>\n",
              "      <td id=\"T_0f4ec_row5_col1\" class=\"data row5 col1\" >0.45</td>\n",
              "      <td id=\"T_0f4ec_row5_col2\" class=\"data row5 col2\" >0.54</td>\n",
              "      <td id=\"T_0f4ec_row5_col3\" class=\"data row5 col3\" >0.40</td>\n",
              "      <td id=\"T_0f4ec_row5_col4\" class=\"data row5 col4\" >0.47</td>\n",
              "      <td id=\"T_0f4ec_row5_col5\" class=\"data row5 col5\" >1.00</td>\n",
              "      <td id=\"T_0f4ec_row5_col6\" class=\"data row5 col6\" >0.53</td>\n",
              "      <td id=\"T_0f4ec_row5_col7\" class=\"data row5 col7\" >0.49</td>\n",
              "      <td id=\"T_0f4ec_row5_col8\" class=\"data row5 col8\" >0.35</td>\n",
              "      <td id=\"T_0f4ec_row5_col9\" class=\"data row5 col9\" >0.49</td>\n",
              "      <td id=\"T_0f4ec_row5_col10\" class=\"data row5 col10\" >0.49</td>\n",
              "      <td id=\"T_0f4ec_row5_col11\" class=\"data row5 col11\" >0.51</td>\n",
              "      <td id=\"T_0f4ec_row5_col12\" class=\"data row5 col12\" >0.38</td>\n",
              "      <td id=\"T_0f4ec_row5_col13\" class=\"data row5 col13\" >0.32</td>\n",
              "      <td id=\"T_0f4ec_row5_col14\" class=\"data row5 col14\" >0.69</td>\n",
              "    </tr>\n",
              "    <tr>\n",
              "      <th id=\"T_0f4ec_level0_row6\" class=\"row_heading level0 row6\" >c2</th>\n",
              "      <td id=\"T_0f4ec_row6_col0\" class=\"data row6 col0\" >0.57</td>\n",
              "      <td id=\"T_0f4ec_row6_col1\" class=\"data row6 col1\" >0.40</td>\n",
              "      <td id=\"T_0f4ec_row6_col2\" class=\"data row6 col2\" >0.49</td>\n",
              "      <td id=\"T_0f4ec_row6_col3\" class=\"data row6 col3\" >0.37</td>\n",
              "      <td id=\"T_0f4ec_row6_col4\" class=\"data row6 col4\" >0.40</td>\n",
              "      <td id=\"T_0f4ec_row6_col5\" class=\"data row6 col5\" >0.53</td>\n",
              "      <td id=\"T_0f4ec_row6_col6\" class=\"data row6 col6\" >1.00</td>\n",
              "      <td id=\"T_0f4ec_row6_col7\" class=\"data row6 col7\" >0.68</td>\n",
              "      <td id=\"T_0f4ec_row6_col8\" class=\"data row6 col8\" >0.50</td>\n",
              "      <td id=\"T_0f4ec_row6_col9\" class=\"data row6 col9\" >0.67</td>\n",
              "      <td id=\"T_0f4ec_row6_col10\" class=\"data row6 col10\" >0.45</td>\n",
              "      <td id=\"T_0f4ec_row6_col11\" class=\"data row6 col11\" >0.65</td>\n",
              "      <td id=\"T_0f4ec_row6_col12\" class=\"data row6 col12\" >0.57</td>\n",
              "      <td id=\"T_0f4ec_row6_col13\" class=\"data row6 col13\" >0.37</td>\n",
              "      <td id=\"T_0f4ec_row6_col14\" class=\"data row6 col14\" >0.79</td>\n",
              "    </tr>\n",
              "    <tr>\n",
              "      <th id=\"T_0f4ec_level0_row7\" class=\"row_heading level0 row7\" >c3</th>\n",
              "      <td id=\"T_0f4ec_row7_col0\" class=\"data row7 col0\" >0.48</td>\n",
              "      <td id=\"T_0f4ec_row7_col1\" class=\"data row7 col1\" >0.43</td>\n",
              "      <td id=\"T_0f4ec_row7_col2\" class=\"data row7 col2\" >0.42</td>\n",
              "      <td id=\"T_0f4ec_row7_col3\" class=\"data row7 col3\" >0.24</td>\n",
              "      <td id=\"T_0f4ec_row7_col4\" class=\"data row7 col4\" >0.43</td>\n",
              "      <td id=\"T_0f4ec_row7_col5\" class=\"data row7 col5\" >0.49</td>\n",
              "      <td id=\"T_0f4ec_row7_col6\" class=\"data row7 col6\" >0.68</td>\n",
              "      <td id=\"T_0f4ec_row7_col7\" class=\"data row7 col7\" >1.00</td>\n",
              "      <td id=\"T_0f4ec_row7_col8\" class=\"data row7 col8\" >0.51</td>\n",
              "      <td id=\"T_0f4ec_row7_col9\" class=\"data row7 col9\" >0.56</td>\n",
              "      <td id=\"T_0f4ec_row7_col10\" class=\"data row7 col10\" >0.40</td>\n",
              "      <td id=\"T_0f4ec_row7_col11\" class=\"data row7 col11\" >0.56</td>\n",
              "      <td id=\"T_0f4ec_row7_col12\" class=\"data row7 col12\" >0.42</td>\n",
              "      <td id=\"T_0f4ec_row7_col13\" class=\"data row7 col13\" >0.28</td>\n",
              "      <td id=\"T_0f4ec_row7_col14\" class=\"data row7 col14\" >0.74</td>\n",
              "    </tr>\n",
              "    <tr>\n",
              "      <th id=\"T_0f4ec_level0_row8\" class=\"row_heading level0 row8\" >c4</th>\n",
              "      <td id=\"T_0f4ec_row8_col0\" class=\"data row8 col0\" >0.41</td>\n",
              "      <td id=\"T_0f4ec_row8_col1\" class=\"data row8 col1\" >0.28</td>\n",
              "      <td id=\"T_0f4ec_row8_col2\" class=\"data row8 col2\" >0.36</td>\n",
              "      <td id=\"T_0f4ec_row8_col3\" class=\"data row8 col3\" >0.46</td>\n",
              "      <td id=\"T_0f4ec_row8_col4\" class=\"data row8 col4\" >0.44</td>\n",
              "      <td id=\"T_0f4ec_row8_col5\" class=\"data row8 col5\" >0.35</td>\n",
              "      <td id=\"T_0f4ec_row8_col6\" class=\"data row8 col6\" >0.50</td>\n",
              "      <td id=\"T_0f4ec_row8_col7\" class=\"data row8 col7\" >0.51</td>\n",
              "      <td id=\"T_0f4ec_row8_col8\" class=\"data row8 col8\" >1.00</td>\n",
              "      <td id=\"T_0f4ec_row8_col9\" class=\"data row8 col9\" >0.42</td>\n",
              "      <td id=\"T_0f4ec_row8_col10\" class=\"data row8 col10\" >0.49</td>\n",
              "      <td id=\"T_0f4ec_row8_col11\" class=\"data row8 col11\" >0.54</td>\n",
              "      <td id=\"T_0f4ec_row8_col12\" class=\"data row8 col12\" >0.56</td>\n",
              "      <td id=\"T_0f4ec_row8_col13\" class=\"data row8 col13\" >0.40</td>\n",
              "      <td id=\"T_0f4ec_row8_col14\" class=\"data row8 col14\" >0.70</td>\n",
              "    </tr>\n",
              "    <tr>\n",
              "      <th id=\"T_0f4ec_level0_row9\" class=\"row_heading level0 row9\" >c5</th>\n",
              "      <td id=\"T_0f4ec_row9_col0\" class=\"data row9 col0\" >0.52</td>\n",
              "      <td id=\"T_0f4ec_row9_col1\" class=\"data row9 col1\" >0.49</td>\n",
              "      <td id=\"T_0f4ec_row9_col2\" class=\"data row9 col2\" >0.48</td>\n",
              "      <td id=\"T_0f4ec_row9_col3\" class=\"data row9 col3\" >0.43</td>\n",
              "      <td id=\"T_0f4ec_row9_col4\" class=\"data row9 col4\" >0.50</td>\n",
              "      <td id=\"T_0f4ec_row9_col5\" class=\"data row9 col5\" >0.49</td>\n",
              "      <td id=\"T_0f4ec_row9_col6\" class=\"data row9 col6\" >0.67</td>\n",
              "      <td id=\"T_0f4ec_row9_col7\" class=\"data row9 col7\" >0.56</td>\n",
              "      <td id=\"T_0f4ec_row9_col8\" class=\"data row9 col8\" >0.42</td>\n",
              "      <td id=\"T_0f4ec_row9_col9\" class=\"data row9 col9\" >1.00</td>\n",
              "      <td id=\"T_0f4ec_row9_col10\" class=\"data row9 col10\" >0.46</td>\n",
              "      <td id=\"T_0f4ec_row9_col11\" class=\"data row9 col11\" >0.45</td>\n",
              "      <td id=\"T_0f4ec_row9_col12\" class=\"data row9 col12\" >0.55</td>\n",
              "      <td id=\"T_0f4ec_row9_col13\" class=\"data row9 col13\" >0.29</td>\n",
              "      <td id=\"T_0f4ec_row9_col14\" class=\"data row9 col14\" >0.73</td>\n",
              "    </tr>\n",
              "    <tr>\n",
              "      <th id=\"T_0f4ec_level0_row10\" class=\"row_heading level0 row10\" >c6</th>\n",
              "      <td id=\"T_0f4ec_row10_col0\" class=\"data row10 col0\" >0.47</td>\n",
              "      <td id=\"T_0f4ec_row10_col1\" class=\"data row10 col1\" >0.34</td>\n",
              "      <td id=\"T_0f4ec_row10_col2\" class=\"data row10 col2\" >0.38</td>\n",
              "      <td id=\"T_0f4ec_row10_col3\" class=\"data row10 col3\" >0.43</td>\n",
              "      <td id=\"T_0f4ec_row10_col4\" class=\"data row10 col4\" >0.66</td>\n",
              "      <td id=\"T_0f4ec_row10_col5\" class=\"data row10 col5\" >0.49</td>\n",
              "      <td id=\"T_0f4ec_row10_col6\" class=\"data row10 col6\" >0.45</td>\n",
              "      <td id=\"T_0f4ec_row10_col7\" class=\"data row10 col7\" >0.40</td>\n",
              "      <td id=\"T_0f4ec_row10_col8\" class=\"data row10 col8\" >0.49</td>\n",
              "      <td id=\"T_0f4ec_row10_col9\" class=\"data row10 col9\" >0.46</td>\n",
              "      <td id=\"T_0f4ec_row10_col10\" class=\"data row10 col10\" >1.00</td>\n",
              "      <td id=\"T_0f4ec_row10_col11\" class=\"data row10 col11\" >0.60</td>\n",
              "      <td id=\"T_0f4ec_row10_col12\" class=\"data row10 col12\" >0.38</td>\n",
              "      <td id=\"T_0f4ec_row10_col13\" class=\"data row10 col13\" >0.68</td>\n",
              "      <td id=\"T_0f4ec_row10_col14\" class=\"data row10 col14\" >0.71</td>\n",
              "    </tr>\n",
              "    <tr>\n",
              "      <th id=\"T_0f4ec_level0_row11\" class=\"row_heading level0 row11\" >c7</th>\n",
              "      <td id=\"T_0f4ec_row11_col0\" class=\"data row11 col0\" >0.58</td>\n",
              "      <td id=\"T_0f4ec_row11_col1\" class=\"data row11 col1\" >0.32</td>\n",
              "      <td id=\"T_0f4ec_row11_col2\" class=\"data row11 col2\" >0.40</td>\n",
              "      <td id=\"T_0f4ec_row11_col3\" class=\"data row11 col3\" >0.49</td>\n",
              "      <td id=\"T_0f4ec_row11_col4\" class=\"data row11 col4\" >0.57</td>\n",
              "      <td id=\"T_0f4ec_row11_col5\" class=\"data row11 col5\" >0.51</td>\n",
              "      <td id=\"T_0f4ec_row11_col6\" class=\"data row11 col6\" >0.65</td>\n",
              "      <td id=\"T_0f4ec_row11_col7\" class=\"data row11 col7\" >0.56</td>\n",
              "      <td id=\"T_0f4ec_row11_col8\" class=\"data row11 col8\" >0.54</td>\n",
              "      <td id=\"T_0f4ec_row11_col9\" class=\"data row11 col9\" >0.45</td>\n",
              "      <td id=\"T_0f4ec_row11_col10\" class=\"data row11 col10\" >0.60</td>\n",
              "      <td id=\"T_0f4ec_row11_col11\" class=\"data row11 col11\" >1.00</td>\n",
              "      <td id=\"T_0f4ec_row11_col12\" class=\"data row11 col12\" >0.57</td>\n",
              "      <td id=\"T_0f4ec_row11_col13\" class=\"data row11 col13\" >0.56</td>\n",
              "      <td id=\"T_0f4ec_row11_col14\" class=\"data row11 col14\" >0.78</td>\n",
              "    </tr>\n",
              "    <tr>\n",
              "      <th id=\"T_0f4ec_level0_row12\" class=\"row_heading level0 row12\" >c8</th>\n",
              "      <td id=\"T_0f4ec_row12_col0\" class=\"data row12 col0\" >0.60</td>\n",
              "      <td id=\"T_0f4ec_row12_col1\" class=\"data row12 col1\" >0.44</td>\n",
              "      <td id=\"T_0f4ec_row12_col2\" class=\"data row12 col2\" >0.44</td>\n",
              "      <td id=\"T_0f4ec_row12_col3\" class=\"data row12 col3\" >0.42</td>\n",
              "      <td id=\"T_0f4ec_row12_col4\" class=\"data row12 col4\" >0.44</td>\n",
              "      <td id=\"T_0f4ec_row12_col5\" class=\"data row12 col5\" >0.38</td>\n",
              "      <td id=\"T_0f4ec_row12_col6\" class=\"data row12 col6\" >0.57</td>\n",
              "      <td id=\"T_0f4ec_row12_col7\" class=\"data row12 col7\" >0.42</td>\n",
              "      <td id=\"T_0f4ec_row12_col8\" class=\"data row12 col8\" >0.56</td>\n",
              "      <td id=\"T_0f4ec_row12_col9\" class=\"data row12 col9\" >0.55</td>\n",
              "      <td id=\"T_0f4ec_row12_col10\" class=\"data row12 col10\" >0.38</td>\n",
              "      <td id=\"T_0f4ec_row12_col11\" class=\"data row12 col11\" >0.57</td>\n",
              "      <td id=\"T_0f4ec_row12_col12\" class=\"data row12 col12\" >1.00</td>\n",
              "      <td id=\"T_0f4ec_row12_col13\" class=\"data row12 col13\" >0.28</td>\n",
              "      <td id=\"T_0f4ec_row12_col14\" class=\"data row12 col14\" >0.69</td>\n",
              "    </tr>\n",
              "    <tr>\n",
              "      <th id=\"T_0f4ec_level0_row13\" class=\"row_heading level0 row13\" >c9</th>\n",
              "      <td id=\"T_0f4ec_row13_col0\" class=\"data row13 col0\" >0.39</td>\n",
              "      <td id=\"T_0f4ec_row13_col1\" class=\"data row13 col1\" >0.32</td>\n",
              "      <td id=\"T_0f4ec_row13_col2\" class=\"data row13 col2\" >0.40</td>\n",
              "      <td id=\"T_0f4ec_row13_col3\" class=\"data row13 col3\" >0.41</td>\n",
              "      <td id=\"T_0f4ec_row13_col4\" class=\"data row13 col4\" >0.57</td>\n",
              "      <td id=\"T_0f4ec_row13_col5\" class=\"data row13 col5\" >0.32</td>\n",
              "      <td id=\"T_0f4ec_row13_col6\" class=\"data row13 col6\" >0.37</td>\n",
              "      <td id=\"T_0f4ec_row13_col7\" class=\"data row13 col7\" >0.28</td>\n",
              "      <td id=\"T_0f4ec_row13_col8\" class=\"data row13 col8\" >0.40</td>\n",
              "      <td id=\"T_0f4ec_row13_col9\" class=\"data row13 col9\" >0.29</td>\n",
              "      <td id=\"T_0f4ec_row13_col10\" class=\"data row13 col10\" >0.68</td>\n",
              "      <td id=\"T_0f4ec_row13_col11\" class=\"data row13 col11\" >0.56</td>\n",
              "      <td id=\"T_0f4ec_row13_col12\" class=\"data row13 col12\" >0.28</td>\n",
              "      <td id=\"T_0f4ec_row13_col13\" class=\"data row13 col13\" >1.00</td>\n",
              "      <td id=\"T_0f4ec_row13_col14\" class=\"data row13 col14\" >0.58</td>\n",
              "    </tr>\n",
              "    <tr>\n",
              "      <th id=\"T_0f4ec_level0_row14\" class=\"row_heading level0 row14\" >Total</th>\n",
              "      <td id=\"T_0f4ec_row14_col0\" class=\"data row14 col0\" >0.64</td>\n",
              "      <td id=\"T_0f4ec_row14_col1\" class=\"data row14 col1\" >0.55</td>\n",
              "      <td id=\"T_0f4ec_row14_col2\" class=\"data row14 col2\" >0.64</td>\n",
              "      <td id=\"T_0f4ec_row14_col3\" class=\"data row14 col3\" >0.54</td>\n",
              "      <td id=\"T_0f4ec_row14_col4\" class=\"data row14 col4\" >0.68</td>\n",
              "      <td id=\"T_0f4ec_row14_col5\" class=\"data row14 col5\" >0.69</td>\n",
              "      <td id=\"T_0f4ec_row14_col6\" class=\"data row14 col6\" >0.79</td>\n",
              "      <td id=\"T_0f4ec_row14_col7\" class=\"data row14 col7\" >0.74</td>\n",
              "      <td id=\"T_0f4ec_row14_col8\" class=\"data row14 col8\" >0.70</td>\n",
              "      <td id=\"T_0f4ec_row14_col9\" class=\"data row14 col9\" >0.73</td>\n",
              "      <td id=\"T_0f4ec_row14_col10\" class=\"data row14 col10\" >0.71</td>\n",
              "      <td id=\"T_0f4ec_row14_col11\" class=\"data row14 col11\" >0.78</td>\n",
              "      <td id=\"T_0f4ec_row14_col12\" class=\"data row14 col12\" >0.69</td>\n",
              "      <td id=\"T_0f4ec_row14_col13\" class=\"data row14 col13\" >0.58</td>\n",
              "      <td id=\"T_0f4ec_row14_col14\" class=\"data row14 col14\" >1.00</td>\n",
              "    </tr>\n",
              "  </tbody>\n",
              "</table>\n"
            ]
          },
          "metadata": {},
          "execution_count": 7
        }
      ]
    },
    {
      "cell_type": "code",
      "source": [
        "array = data.values\n",
        "X = array[:,0:14]\n",
        "Y = array[:,14]\n",
        "validation_size = 0.20\n",
        "seed = 42\n",
        "X_train, X_validation, Y_train, Y_validation = train_test_split(X, Y, test_size=validation_size, random_state=seed)"
      ],
      "metadata": {
        "id": "WwIvKEFeGaSD"
      },
      "execution_count": null,
      "outputs": []
    },
    {
      "cell_type": "code",
      "source": [
        "X_train.shape, X_validation.shape"
      ],
      "metadata": {
        "colab": {
          "base_uri": "https://localhost:8080/"
        },
        "id": "3WvfopUoHw5P",
        "outputId": "57fd7ce0-49e0-45fc-9f8d-32d6cdf1eb51"
      },
      "execution_count": null,
      "outputs": [
        {
          "output_type": "execute_result",
          "data": {
            "text/plain": [
              "((55, 14), (14, 14))"
            ]
          },
          "metadata": {},
          "execution_count": 9
        }
      ]
    },
    {
      "cell_type": "code",
      "source": [
        "num_folds = 10\n",
        "seed = 7\n",
        "scoring = 'accuracy'"
      ],
      "metadata": {
        "id": "Vl_0n_q2HyQD"
      },
      "execution_count": null,
      "outputs": []
    },
    {
      "cell_type": "markdown",
      "source": [
        "## Models"
      ],
      "metadata": {
        "id": "cnBmtqARH4CA"
      }
    },
    {
      "cell_type": "code",
      "source": [
        "models = []\n",
        "models.append(('LR', LogisticRegression()))\n",
        "models.append(('LDA', LinearDiscriminantAnalysis()))\n",
        "models.append(('KNN', KNeighborsClassifier()))\n",
        "models.append(('CART', DecisionTreeClassifier()))\n",
        "models.append(('NB', GaussianNB()))\n",
        "models.append(('SVM', SVC()))"
      ],
      "metadata": {
        "id": "bmz6UIoqH0GR"
      },
      "execution_count": null,
      "outputs": []
    },
    {
      "cell_type": "code",
      "source": [
        "results = []\n",
        "names = []\n",
        "for name, model in models:\n",
        "  kfold = KFold(n_splits=num_folds, random_state=None)\n",
        "  cv_results = cross_val_score(model, X_train, Y_train, cv=kfold, scoring=scoring)\n",
        "  results.append(cv_results)\n",
        "  names.append(name)\n",
        "  msg = \"%s: %f (%f)\" % (name, cv_results.mean(), cv_results.std())\n",
        "  print(msg)"
      ],
      "metadata": {
        "colab": {
          "base_uri": "https://localhost:8080/"
        },
        "id": "GBOfyNWmIIL7",
        "outputId": "991d2fc4-7d3d-4074-fd9a-b4d7c8d715e7"
      },
      "execution_count": null,
      "outputs": [
        {
          "output_type": "stream",
          "name": "stderr",
          "text": [
            "/usr/local/lib/python3.7/dist-packages/sklearn/linear_model/_logistic.py:818: ConvergenceWarning: lbfgs failed to converge (status=1):\n",
            "STOP: TOTAL NO. of ITERATIONS REACHED LIMIT.\n",
            "\n",
            "Increase the number of iterations (max_iter) or scale the data as shown in:\n",
            "    https://scikit-learn.org/stable/modules/preprocessing.html\n",
            "Please also refer to the documentation for alternative solver options:\n",
            "    https://scikit-learn.org/stable/modules/linear_model.html#logistic-regression\n",
            "  extra_warning_msg=_LOGISTIC_SOLVER_CONVERGENCE_MSG,\n",
            "/usr/local/lib/python3.7/dist-packages/sklearn/linear_model/_logistic.py:818: ConvergenceWarning: lbfgs failed to converge (status=1):\n",
            "STOP: TOTAL NO. of ITERATIONS REACHED LIMIT.\n",
            "\n",
            "Increase the number of iterations (max_iter) or scale the data as shown in:\n",
            "    https://scikit-learn.org/stable/modules/preprocessing.html\n",
            "Please also refer to the documentation for alternative solver options:\n",
            "    https://scikit-learn.org/stable/modules/linear_model.html#logistic-regression\n",
            "  extra_warning_msg=_LOGISTIC_SOLVER_CONVERGENCE_MSG,\n",
            "/usr/local/lib/python3.7/dist-packages/sklearn/linear_model/_logistic.py:818: ConvergenceWarning: lbfgs failed to converge (status=1):\n",
            "STOP: TOTAL NO. of ITERATIONS REACHED LIMIT.\n",
            "\n",
            "Increase the number of iterations (max_iter) or scale the data as shown in:\n",
            "    https://scikit-learn.org/stable/modules/preprocessing.html\n",
            "Please also refer to the documentation for alternative solver options:\n",
            "    https://scikit-learn.org/stable/modules/linear_model.html#logistic-regression\n",
            "  extra_warning_msg=_LOGISTIC_SOLVER_CONVERGENCE_MSG,\n",
            "/usr/local/lib/python3.7/dist-packages/sklearn/linear_model/_logistic.py:818: ConvergenceWarning: lbfgs failed to converge (status=1):\n",
            "STOP: TOTAL NO. of ITERATIONS REACHED LIMIT.\n",
            "\n",
            "Increase the number of iterations (max_iter) or scale the data as shown in:\n",
            "    https://scikit-learn.org/stable/modules/preprocessing.html\n",
            "Please also refer to the documentation for alternative solver options:\n",
            "    https://scikit-learn.org/stable/modules/linear_model.html#logistic-regression\n",
            "  extra_warning_msg=_LOGISTIC_SOLVER_CONVERGENCE_MSG,\n",
            "/usr/local/lib/python3.7/dist-packages/sklearn/linear_model/_logistic.py:818: ConvergenceWarning: lbfgs failed to converge (status=1):\n",
            "STOP: TOTAL NO. of ITERATIONS REACHED LIMIT.\n",
            "\n",
            "Increase the number of iterations (max_iter) or scale the data as shown in:\n",
            "    https://scikit-learn.org/stable/modules/preprocessing.html\n",
            "Please also refer to the documentation for alternative solver options:\n",
            "    https://scikit-learn.org/stable/modules/linear_model.html#logistic-regression\n",
            "  extra_warning_msg=_LOGISTIC_SOLVER_CONVERGENCE_MSG,\n",
            "/usr/local/lib/python3.7/dist-packages/sklearn/linear_model/_logistic.py:818: ConvergenceWarning: lbfgs failed to converge (status=1):\n",
            "STOP: TOTAL NO. of ITERATIONS REACHED LIMIT.\n",
            "\n",
            "Increase the number of iterations (max_iter) or scale the data as shown in:\n",
            "    https://scikit-learn.org/stable/modules/preprocessing.html\n",
            "Please also refer to the documentation for alternative solver options:\n",
            "    https://scikit-learn.org/stable/modules/linear_model.html#logistic-regression\n",
            "  extra_warning_msg=_LOGISTIC_SOLVER_CONVERGENCE_MSG,\n",
            "/usr/local/lib/python3.7/dist-packages/sklearn/linear_model/_logistic.py:818: ConvergenceWarning: lbfgs failed to converge (status=1):\n",
            "STOP: TOTAL NO. of ITERATIONS REACHED LIMIT.\n",
            "\n",
            "Increase the number of iterations (max_iter) or scale the data as shown in:\n",
            "    https://scikit-learn.org/stable/modules/preprocessing.html\n",
            "Please also refer to the documentation for alternative solver options:\n",
            "    https://scikit-learn.org/stable/modules/linear_model.html#logistic-regression\n",
            "  extra_warning_msg=_LOGISTIC_SOLVER_CONVERGENCE_MSG,\n",
            "/usr/local/lib/python3.7/dist-packages/sklearn/linear_model/_logistic.py:818: ConvergenceWarning: lbfgs failed to converge (status=1):\n",
            "STOP: TOTAL NO. of ITERATIONS REACHED LIMIT.\n",
            "\n",
            "Increase the number of iterations (max_iter) or scale the data as shown in:\n",
            "    https://scikit-learn.org/stable/modules/preprocessing.html\n",
            "Please also refer to the documentation for alternative solver options:\n",
            "    https://scikit-learn.org/stable/modules/linear_model.html#logistic-regression\n",
            "  extra_warning_msg=_LOGISTIC_SOLVER_CONVERGENCE_MSG,\n",
            "/usr/local/lib/python3.7/dist-packages/sklearn/linear_model/_logistic.py:818: ConvergenceWarning: lbfgs failed to converge (status=1):\n",
            "STOP: TOTAL NO. of ITERATIONS REACHED LIMIT.\n",
            "\n",
            "Increase the number of iterations (max_iter) or scale the data as shown in:\n",
            "    https://scikit-learn.org/stable/modules/preprocessing.html\n",
            "Please also refer to the documentation for alternative solver options:\n",
            "    https://scikit-learn.org/stable/modules/linear_model.html#logistic-regression\n",
            "  extra_warning_msg=_LOGISTIC_SOLVER_CONVERGENCE_MSG,\n",
            "/usr/local/lib/python3.7/dist-packages/sklearn/linear_model/_logistic.py:818: ConvergenceWarning: lbfgs failed to converge (status=1):\n",
            "STOP: TOTAL NO. of ITERATIONS REACHED LIMIT.\n",
            "\n",
            "Increase the number of iterations (max_iter) or scale the data as shown in:\n",
            "    https://scikit-learn.org/stable/modules/preprocessing.html\n",
            "Please also refer to the documentation for alternative solver options:\n",
            "    https://scikit-learn.org/stable/modules/linear_model.html#logistic-regression\n",
            "  extra_warning_msg=_LOGISTIC_SOLVER_CONVERGENCE_MSG,\n"
          ]
        },
        {
          "output_type": "stream",
          "name": "stdout",
          "text": [
            "LR: 0.600000 (0.149815)\n",
            "LDA: 0.766667 (0.153478)\n",
            "KNN: 0.653333 (0.196186)\n",
            "CART: 0.560000 (0.160416)\n",
            "NB: 0.650000 (0.189883)\n",
            "SVM: 0.620000 (0.161383)\n"
          ]
        }
      ]
    },
    {
      "cell_type": "code",
      "source": [
        "fig = plt.figure(figsize=(10, 10))\n",
        "fig.suptitle('Algorithm Comparison')\n",
        "ax = fig.add_subplot(111)\n",
        "pyplot.boxplot(results)\n",
        "ax.set_xticklabels(names)\n",
        "pyplot.show()"
      ],
      "metadata": {
        "colab": {
          "base_uri": "https://localhost:8080/",
          "height": 663
        },
        "id": "IXG-CaVoIMfH",
        "outputId": "db87634b-13f3-42ca-948c-46bb4bfc86ef"
      },
      "execution_count": null,
      "outputs": [
        {
          "output_type": "display_data",
          "data": {
            "text/plain": [
              "<Figure size 720x720 with 1 Axes>"
            ],
            "image/png": "[encoded data removed]"
          },
          "metadata": {
            "needs_background": "light"
          }
        }
      ]
    },
    {
      "cell_type": "code",
      "source": [
        "pipelines = []\n",
        "pipelines.append(('ScaledLR', Pipeline([('Scaler', StandardScaler()),('LR',LogisticRegression())])))\n",
        "pipelines.append(('ScaledLDA', Pipeline([('Scaler', StandardScaler()),('LDA', LinearDiscriminantAnalysis())])))\n",
        "pipelines.append(('ScaledKNN', Pipeline([('Scaler', StandardScaler()),('KNN', KNeighborsClassifier())])))\n",
        "pipelines.append(('ScaledCART', Pipeline([('Scaler', StandardScaler()),('CART', DecisionTreeClassifier())])))\n",
        "pipelines.append(('ScaledNB', Pipeline([('Scaler', StandardScaler()),('NB', GaussianNB())])))\n",
        "pipelines.append(('ScaledSVM', Pipeline([('Scaler', StandardScaler()),('SVM', SVC())])))\n",
        "results = []\n",
        "names = []\n",
        "for name, model in pipelines:\n",
        "  kfold = KFold(n_splits=num_folds, random_state=None)\n",
        "  cv_results = cross_val_score(model, X_train, Y_train, cv=kfold, scoring=scoring)\n",
        "  results.append(cv_results)\n",
        "  names.append(name)\n",
        "  msg = \"%s: %f (%f)\" % (name, cv_results.mean(), cv_results.std())\n",
        "  print(msg)"
      ],
      "metadata": {
        "colab": {
          "base_uri": "https://localhost:8080/"
        },
        "id": "BDrr0KxuKQnS",
        "outputId": "6d49bf43-9657-4b47-deda-0e7e742f48d8"
      },
      "execution_count": null,
      "outputs": [
        {
          "output_type": "stream",
          "name": "stdout",
          "text": [
            "ScaledLR: 0.636667 (0.128625)\n",
            "ScaledLDA: 0.766667 (0.153478)\n",
            "ScaledKNN: 0.670000 (0.140989)\n",
            "ScaledCART: 0.503333 (0.155242)\n",
            "ScaledNB: 0.650000 (0.189883)\n",
            "ScaledSVM: 0.713333 (0.186905)\n"
          ]
        }
      ]
    },
    {
      "cell_type": "code",
      "source": [
        "# LDA\n",
        "scaler = StandardScaler().fit(X_train)\n",
        "rescaledX = scaler.transform(X_train)\n",
        "shrinkage_values = [0.1,0.2,0.21,0.19,0.5,0.6,0.7,0.8,0.9,0.05,0.25,0.15,0.35,0.45,0.55,0.65,0.75, 0.85,0.95]\n",
        "solver_values = ['svd', 'lsqr', 'eigen']\n",
        "param_grid = dict(shrinkage=shrinkage_values, solver = solver_values)\n",
        "model = LinearDiscriminantAnalysis()\n",
        "kfold = KFold(n_splits=num_folds, random_state=None)\n",
        "grid = GridSearchCV(estimator=model, param_grid=param_grid, scoring=scoring, cv=kfold)\n",
        "grid_result = grid.fit(rescaledX, Y_train)\n",
        "print(\"Best: %f using %s\" % (grid_result.best_score_, grid_result.best_params_))\n",
        "means = grid_result.cv_results_['mean_test_score']\n",
        "stds = grid_result.cv_results_['std_test_score']\n",
        "params = grid_result.cv_results_['params']\n",
        "for mean, stdev, param in zip(means, stds, params):\n",
        "  print(\"%f (%f) with: %r\" % (mean, stdev, param))"
      ],
      "metadata": {
        "colab": {
          "base_uri": "https://localhost:8080/"
        },
        "id": "5bwzuQzpKTgj",
        "outputId": "fce9186d-575e-4fa4-a2fb-eec50d3fdeba"
      },
      "execution_count": null,
      "outputs": [
        {
          "output_type": "stream",
          "name": "stdout",
          "text": [
            "Best: 0.806667 using {'shrinkage': 0.1, 'solver': 'lsqr'}\n",
            "nan (nan) with: {'shrinkage': 0.1, 'solver': 'svd'}\n",
            "0.806667 (0.180616) with: {'shrinkage': 0.1, 'solver': 'lsqr'}\n",
            "0.806667 (0.180616) with: {'shrinkage': 0.1, 'solver': 'eigen'}\n",
            "nan (nan) with: {'shrinkage': 0.2, 'solver': 'svd'}\n",
            "0.806667 (0.180616) with: {'shrinkage': 0.2, 'solver': 'lsqr'}\n",
            "0.806667 (0.180616) with: {'shrinkage': 0.2, 'solver': 'eigen'}\n",
            "nan (nan) with: {'shrinkage': 0.21, 'solver': 'svd'}\n",
            "0.806667 (0.180616) with: {'shrinkage': 0.21, 'solver': 'lsqr'}\n",
            "0.806667 (0.180616) with: {'shrinkage': 0.21, 'solver': 'eigen'}\n",
            "nan (nan) with: {'shrinkage': 0.19, 'solver': 'svd'}\n",
            "0.806667 (0.180616) with: {'shrinkage': 0.19, 'solver': 'lsqr'}\n",
            "0.806667 (0.180616) with: {'shrinkage': 0.19, 'solver': 'eigen'}\n",
            "nan (nan) with: {'shrinkage': 0.5, 'solver': 'svd'}\n",
            "0.806667 (0.164520) with: {'shrinkage': 0.5, 'solver': 'lsqr'}\n",
            "0.806667 (0.164520) with: {'shrinkage': 0.5, 'solver': 'eigen'}\n",
            "nan (nan) with: {'shrinkage': 0.6, 'solver': 'svd'}\n",
            "0.773333 (0.155492) with: {'shrinkage': 0.6, 'solver': 'lsqr'}\n",
            "0.773333 (0.155492) with: {'shrinkage': 0.6, 'solver': 'eigen'}\n",
            "nan (nan) with: {'shrinkage': 0.7, 'solver': 'svd'}\n",
            "0.790000 (0.152060) with: {'shrinkage': 0.7, 'solver': 'lsqr'}\n",
            "0.790000 (0.152060) with: {'shrinkage': 0.7, 'solver': 'eigen'}\n",
            "nan (nan) with: {'shrinkage': 0.8, 'solver': 'svd'}\n",
            "0.790000 (0.152060) with: {'shrinkage': 0.8, 'solver': 'lsqr'}\n",
            "0.790000 (0.152060) with: {'shrinkage': 0.8, 'solver': 'eigen'}\n",
            "nan (nan) with: {'shrinkage': 0.9, 'solver': 'svd'}\n",
            "0.770000 (0.135360) with: {'shrinkage': 0.9, 'solver': 'lsqr'}\n",
            "0.770000 (0.135360) with: {'shrinkage': 0.9, 'solver': 'eigen'}\n",
            "nan (nan) with: {'shrinkage': 0.05, 'solver': 'svd'}\n",
            "0.786667 (0.168787) with: {'shrinkage': 0.05, 'solver': 'lsqr'}\n",
            "0.786667 (0.168787) with: {'shrinkage': 0.05, 'solver': 'eigen'}\n",
            "nan (nan) with: {'shrinkage': 0.25, 'solver': 'svd'}\n",
            "0.806667 (0.180616) with: {'shrinkage': 0.25, 'solver': 'lsqr'}\n",
            "0.806667 (0.180616) with: {'shrinkage': 0.25, 'solver': 'eigen'}\n",
            "nan (nan) with: {'shrinkage': 0.15, 'solver': 'svd'}\n",
            "0.806667 (0.180616) with: {'shrinkage': 0.15, 'solver': 'lsqr'}\n",
            "0.806667 (0.180616) with: {'shrinkage': 0.15, 'solver': 'eigen'}\n",
            "nan (nan) with: {'shrinkage': 0.35, 'solver': 'svd'}\n",
            "0.806667 (0.180616) with: {'shrinkage': 0.35, 'solver': 'lsqr'}\n",
            "0.806667 (0.180616) with: {'shrinkage': 0.35, 'solver': 'eigen'}\n",
            "nan (nan) with: {'shrinkage': 0.45, 'solver': 'svd'}\n",
            "0.806667 (0.164520) with: {'shrinkage': 0.45, 'solver': 'lsqr'}\n",
            "0.806667 (0.164520) with: {'shrinkage': 0.45, 'solver': 'eigen'}\n",
            "nan (nan) with: {'shrinkage': 0.55, 'solver': 'svd'}\n",
            "0.773333 (0.155492) with: {'shrinkage': 0.55, 'solver': 'lsqr'}\n",
            "0.773333 (0.155492) with: {'shrinkage': 0.55, 'solver': 'eigen'}\n",
            "nan (nan) with: {'shrinkage': 0.65, 'solver': 'svd'}\n",
            "0.790000 (0.152060) with: {'shrinkage': 0.65, 'solver': 'lsqr'}\n",
            "0.790000 (0.152060) with: {'shrinkage': 0.65, 'solver': 'eigen'}\n",
            "nan (nan) with: {'shrinkage': 0.75, 'solver': 'svd'}\n",
            "0.790000 (0.152060) with: {'shrinkage': 0.75, 'solver': 'lsqr'}\n",
            "0.790000 (0.152060) with: {'shrinkage': 0.75, 'solver': 'eigen'}\n",
            "nan (nan) with: {'shrinkage': 0.85, 'solver': 'svd'}\n",
            "0.770000 (0.135360) with: {'shrinkage': 0.85, 'solver': 'lsqr'}\n",
            "0.770000 (0.135360) with: {'shrinkage': 0.85, 'solver': 'eigen'}\n",
            "nan (nan) with: {'shrinkage': 0.95, 'solver': 'svd'}\n",
            "0.770000 (0.135360) with: {'shrinkage': 0.95, 'solver': 'lsqr'}\n",
            "0.770000 (0.135360) with: {'shrinkage': 0.95, 'solver': 'eigen'}\n"
          ]
        },
        {
          "output_type": "stream",
          "name": "stderr",
          "text": [
            "/usr/local/lib/python3.7/dist-packages/sklearn/model_selection/_validation.py:372: FitFailedWarning: \n",
            "190 fits failed out of a total of 570.\n",
            "The score on these train-test partitions for these parameters will be set to nan.\n",
            "If these failures are not expected, you can try to debug them by setting error_score='raise'.\n",
            "\n",
            "Below are more details about the failures:\n",
            "--------------------------------------------------------------------------------\n",
            "190 fits failed with the following error:\n",
            "Traceback (most recent call last):\n",
            "  File \"/usr/local/lib/python3.7/dist-packages/sklearn/model_selection/_validation.py\", line 680, in _fit_and_score\n",
            "    estimator.fit(X_train, y_train, **fit_params)\n",
            "  File \"/usr/local/lib/python3.7/dist-packages/sklearn/discriminant_analysis.py\", line 583, in fit\n",
            "    raise NotImplementedError(\"shrinkage not supported\")\n",
            "NotImplementedError: shrinkage not supported\n",
            "\n",
            "  warnings.warn(some_fits_failed_message, FitFailedWarning)\n",
            "/usr/local/lib/python3.7/dist-packages/sklearn/model_selection/_search.py:972: UserWarning: One or more of the test scores are non-finite: [       nan 0.80666667 0.80666667        nan 0.80666667 0.80666667\n",
            "        nan 0.80666667 0.80666667        nan 0.80666667 0.80666667\n",
            "        nan 0.80666667 0.80666667        nan 0.77333333 0.77333333\n",
            "        nan 0.79       0.79              nan 0.79       0.79\n",
            "        nan 0.77       0.77              nan 0.78666667 0.78666667\n",
            "        nan 0.80666667 0.80666667        nan 0.80666667 0.80666667\n",
            "        nan 0.80666667 0.80666667        nan 0.80666667 0.80666667\n",
            "        nan 0.77333333 0.77333333        nan 0.79       0.79\n",
            "        nan 0.79       0.79              nan 0.77       0.77\n",
            "        nan 0.77       0.77      ]\n",
            "  category=UserWarning,\n"
          ]
        }
      ]
    },
    {
      "cell_type": "code",
      "source": [
        "# SVM\n",
        "scaler = StandardScaler().fit(X_train)\n",
        "rescaledX = scaler.transform(X_train)\n",
        "param_grid = {'C': [0.1, 1, 10, 100, 1000],\n",
        "              'gamma': [1, 0.1, 0.01, 0.001, 0.0001],\n",
        "              'kernel': ['rbf']}\n",
        "model = SVC()\n",
        "kfold = KFold(n_splits=num_folds, random_state=None)\n",
        "grid = GridSearchCV(estimator=model, param_grid=param_grid, scoring=scoring, cv=kfold)\n",
        "grid_result = grid.fit(rescaledX, Y_train)\n",
        "print(\"Best: %f using %s\" % (grid_result.best_score_, grid_result.best_params_))\n",
        "means = grid_result.cv_results_['mean_test_score']\n",
        "stds = grid_result.cv_results_['std_test_score']\n",
        "params = grid_result.cv_results_['params']\n",
        "for mean, stdev, param in zip(means, stds, params):\n",
        "  print(\"%f (%f) with: %r\" % (mean, stdev, param))"
      ],
      "metadata": {
        "colab": {
          "base_uri": "https://localhost:8080/"
        },
        "id": "BG9gLhFAKoTM",
        "outputId": "aed5d9e4-3b8e-4e67-de96-e7be5753142a"
      },
      "execution_count": null,
      "outputs": [
        {
          "output_type": "stream",
          "name": "stdout",
          "text": [
            "Best: 0.840000 using {'C': 100, 'gamma': 0.001, 'kernel': 'rbf'}\n",
            "0.220000 (0.157903) with: {'C': 0.1, 'gamma': 1, 'kernel': 'rbf'}\n",
            "0.220000 (0.157903) with: {'C': 0.1, 'gamma': 0.1, 'kernel': 'rbf'}\n",
            "0.220000 (0.157903) with: {'C': 0.1, 'gamma': 0.01, 'kernel': 'rbf'}\n",
            "0.220000 (0.157903) with: {'C': 0.1, 'gamma': 0.001, 'kernel': 'rbf'}\n",
            "0.220000 (0.157903) with: {'C': 0.1, 'gamma': 0.0001, 'kernel': 'rbf'}\n",
            "0.336667 (0.175404) with: {'C': 1, 'gamma': 1, 'kernel': 'rbf'}\n",
            "0.713333 (0.164114) with: {'C': 1, 'gamma': 0.1, 'kernel': 'rbf'}\n",
            "0.516667 (0.135195) with: {'C': 1, 'gamma': 0.01, 'kernel': 'rbf'}\n",
            "0.220000 (0.157903) with: {'C': 1, 'gamma': 0.001, 'kernel': 'rbf'}\n",
            "0.220000 (0.157903) with: {'C': 1, 'gamma': 0.0001, 'kernel': 'rbf'}\n",
            "0.373333 (0.139682) with: {'C': 10, 'gamma': 1, 'kernel': 'rbf'}\n",
            "0.750000 (0.169476) with: {'C': 10, 'gamma': 0.1, 'kernel': 'rbf'}\n",
            "0.820000 (0.076303) with: {'C': 10, 'gamma': 0.01, 'kernel': 'rbf'}\n",
            "0.533333 (0.142205) with: {'C': 10, 'gamma': 0.001, 'kernel': 'rbf'}\n",
            "0.220000 (0.157903) with: {'C': 10, 'gamma': 0.0001, 'kernel': 'rbf'}\n",
            "0.373333 (0.139682) with: {'C': 100, 'gamma': 1, 'kernel': 'rbf'}\n",
            "0.750000 (0.169476) with: {'C': 100, 'gamma': 0.1, 'kernel': 'rbf'}\n",
            "0.826667 (0.129786) with: {'C': 100, 'gamma': 0.01, 'kernel': 'rbf'}\n",
            "0.840000 (0.092856) with: {'C': 100, 'gamma': 0.001, 'kernel': 'rbf'}\n",
            "0.533333 (0.142205) with: {'C': 100, 'gamma': 0.0001, 'kernel': 'rbf'}\n",
            "0.373333 (0.139682) with: {'C': 1000, 'gamma': 1, 'kernel': 'rbf'}\n",
            "0.750000 (0.169476) with: {'C': 1000, 'gamma': 0.1, 'kernel': 'rbf'}\n",
            "0.826667 (0.129786) with: {'C': 1000, 'gamma': 0.01, 'kernel': 'rbf'}\n",
            "0.810000 (0.157092) with: {'C': 1000, 'gamma': 0.001, 'kernel': 'rbf'}\n",
            "0.840000 (0.092856) with: {'C': 1000, 'gamma': 0.0001, 'kernel': 'rbf'}\n"
          ]
        }
      ]
    },
    {
      "cell_type": "markdown",
      "source": [
        "## Ensembles"
      ],
      "metadata": {
        "id": "ucx9KTBiK2cM"
      }
    },
    {
      "cell_type": "code",
      "source": [
        "ensembles = []\n",
        "ensembles.append(('AB', AdaBoostClassifier()))\n",
        "ensembles.append(('GBM', GradientBoostingClassifier()))\n",
        "ensembles.append(('RF', RandomForestClassifier()))\n",
        "ensembles.append(('ET', ExtraTreesClassifier()))\n",
        "results = []\n",
        "names = []\n",
        "for name, model in ensembles:\n",
        "  kfold = KFold(n_splits=num_folds, random_state=None)\n",
        "  cv_results = cross_val_score(model, X_train, Y_train, cv=kfold, scoring=scoring)\n",
        "  results.append(cv_results)\n",
        "  names.append(name)\n",
        "  msg = \"%s: %f (%f)\" % (name, cv_results.mean(), cv_results.std())\n",
        "  print(msg)"
      ],
      "metadata": {
        "colab": {
          "base_uri": "https://localhost:8080/"
        },
        "id": "hXYsAVRZKtYS",
        "outputId": "a946e0b8-867c-470a-fa6e-88aa65e8ccd0"
      },
      "execution_count": null,
      "outputs": [
        {
          "output_type": "stream",
          "name": "stdout",
          "text": [
            "AB: 0.446667 (0.192180)\n",
            "GBM: 0.560000 (0.268245)\n",
            "RF: 0.680000 (0.155063)\n",
            "ET: 0.713333 (0.104563)\n"
          ]
        }
      ]
    },
    {
      "cell_type": "code",
      "source": [
        "fig = pyplot.figure(figsize=(10, 10))\n",
        "fig.suptitle('Scaled Ensemble Algorithm Comparison')\n",
        "ax = fig.add_subplot(111)\n",
        "pyplot.boxplot(results)\n",
        "ax.set_xticklabels(names)\n",
        "pyplot.show()"
      ],
      "metadata": {
        "colab": {
          "base_uri": "https://localhost:8080/",
          "height": 663
        },
        "id": "bmFN_R7yK9MO",
        "outputId": "db5d22a3-5422-4e76-c946-e4966fdcd802"
      },
      "execution_count": null,
      "outputs": [
        {
          "output_type": "display_data",
          "data": {
            "text/plain": [
              "<Figure size 720x720 with 1 Axes>"
            ],
            "image/png": "[encoded data removed]"
          },
          "metadata": {
            "needs_background": "light"
          }
        }
      ]
    },
    {
      "cell_type": "code",
      "source": [
        "scaler = StandardScaler().fit(X_train)\n",
        "rescaledX = scaler.transform(X_train)\n",
        "param_grid = dict(n_estimators=np.array([50, 100, 150, 200, 250, 300, 350, 400, 500, 450, 360, 340]))\n",
        "model = ExtraTreesClassifier(random_state=seed)\n",
        "kfold = KFold(n_splits=num_folds, random_state=seed, shuffle=True)\n",
        "grid = GridSearchCV(estimator=model, param_grid=param_grid, scoring=scoring, cv=kfold)\n",
        "grid_result = grid.fit(rescaledX, Y_train)\n",
        "\n",
        "print(\"Best: %f using %s\" % (grid_result.best_score_, grid_result.best_params_))\n",
        "means = grid_result.cv_results_['mean_test_score']\n",
        "stds = grid_result.cv_results_['std_test_score']\n",
        "params = grid_result.cv_results_['params']\n",
        "for mean, stdev, param in zip(means, stds, params):\n",
        "  print(\"%f (%f) with: %r\" % (mean, stdev, param))"
      ],
      "metadata": {
        "colab": {
          "base_uri": "https://localhost:8080/"
        },
        "id": "bZuoCRCWLBqL",
        "outputId": "66473123-b24f-4d08-de7d-2b138d312876"
      },
      "execution_count": null,
      "outputs": [
        {
          "output_type": "stream",
          "name": "stdout",
          "text": [
            "Best: 0.690000 using {'n_estimators': 50}\n",
            "0.690000 (0.199472) with: {'n_estimators': 50}\n",
            "0.673333 (0.146667) with: {'n_estimators': 100}\n",
            "0.673333 (0.146667) with: {'n_estimators': 150}\n",
            "0.690000 (0.135031) with: {'n_estimators': 200}\n",
            "0.690000 (0.185023) with: {'n_estimators': 250}\n",
            "0.690000 (0.185023) with: {'n_estimators': 300}\n",
            "0.673333 (0.162481) with: {'n_estimators': 350}\n",
            "0.640000 (0.191949) with: {'n_estimators': 400}\n",
            "0.656667 (0.170652) with: {'n_estimators': 500}\n",
            "0.640000 (0.191949) with: {'n_estimators': 450}\n",
            "0.656667 (0.170652) with: {'n_estimators': 360}\n",
            "0.656667 (0.170652) with: {'n_estimators': 340}\n"
          ]
        }
      ]
    },
    {
      "cell_type": "code",
      "source": [
        "scaler = StandardScaler().fit(X_train)\n",
        "rescaledX = scaler.transform(X_train)\n",
        "param_grid = dict(n_estimators=np.array([35, 40, 45, 55, 60, 65, 50, 48, 49, 51, 52]))\n",
        "model = RandomForestClassifier(random_state=seed)\n",
        "kfold = KFold(n_splits=num_folds, random_state=None)\n",
        "grid = GridSearchCV(estimator=model, param_grid=param_grid, scoring=scoring, cv=kfold)\n",
        "grid_result = grid.fit(rescaledX, Y_train)\n",
        "\n",
        "print(\"Best: %f using %s\" % (grid_result.best_score_, grid_result.best_params_))\n",
        "means = grid_result.cv_results_['mean_test_score']\n",
        "stds = grid_result.cv_results_['std_test_score']\n",
        "params = grid_result.cv_results_['params']\n",
        "for mean, stdev, param in zip(means, stds, params):\n",
        "  print(\"%f (%f) with: %r\" % (mean, stdev, param))"
      ],
      "metadata": {
        "colab": {
          "base_uri": "https://localhost:8080/"
        },
        "id": "5PppxXTPLDvQ",
        "outputId": "59f8edc9-4b7a-4b97-ab23-051c958226a1"
      },
      "execution_count": null,
      "outputs": [
        {
          "output_type": "stream",
          "name": "stdout",
          "text": [
            "Best: 0.613333 using {'n_estimators': 49}\n",
            "0.563333 (0.120600) with: {'n_estimators': 35}\n",
            "0.596667 (0.142556) with: {'n_estimators': 40}\n",
            "0.596667 (0.142556) with: {'n_estimators': 45}\n",
            "0.580000 (0.122202) with: {'n_estimators': 55}\n",
            "0.596667 (0.121518) with: {'n_estimators': 60}\n",
            "0.596667 (0.121518) with: {'n_estimators': 65}\n",
            "0.563333 (0.120600) with: {'n_estimators': 50}\n",
            "0.596667 (0.142556) with: {'n_estimators': 48}\n",
            "0.613333 (0.140000) with: {'n_estimators': 49}\n",
            "0.563333 (0.120600) with: {'n_estimators': 51}\n",
            "0.563333 (0.120600) with: {'n_estimators': 52}\n"
          ]
        }
      ]
    },
    {
      "cell_type": "markdown",
      "source": [
        "# Step 3: Training - Testing"
      ],
      "metadata": {
        "id": "ctFcQML7LH_q"
      }
    },
    {
      "cell_type": "markdown",
      "source": [
        "## LDA"
      ],
      "metadata": {
        "id": "9_8pI510LI0U"
      }
    },
    {
      "cell_type": "code",
      "source": [
        "modelLDA = LinearDiscriminantAnalysis(shrinkage=0.1, solver='lsqr')\n",
        "modelLDA.fit(X_train, Y_train)\n",
        "predictions = modelLDA.predict(X_validation)"
      ],
      "metadata": {
        "id": "B6QNbfR1LFqx"
      },
      "execution_count": null,
      "outputs": []
    },
    {
      "cell_type": "code",
      "source": [
        "print(accuracy_score(Y_train, modelLDA.predict(X_train)))\n",
        "print(accuracy_score(Y_validation, predictions))\n",
        "print(confusion_matrix(Y_validation, predictions))\n",
        "print(classification_report(Y_validation, predictions))"
      ],
      "metadata": {
        "colab": {
          "base_uri": "https://localhost:8080/"
        },
        "id": "Yg3FTaUCLMdU",
        "outputId": "a5a689e2-1e17-4b1c-9080-ae18c2d9f067"
      },
      "execution_count": null,
      "outputs": [
        {
          "output_type": "stream",
          "name": "stdout",
          "text": [
            "0.9818181818181818\n",
            "0.9285714285714286\n",
            "[[1 0 0 0]\n",
            " [0 3 0 0]\n",
            " [0 0 6 0]\n",
            " [0 0 1 3]]\n",
            "              precision    recall  f1-score   support\n",
            "\n",
            "         0.0       1.00      1.00      1.00         1\n",
            "         1.0       1.00      1.00      1.00         3\n",
            "         2.0       0.86      1.00      0.92         6\n",
            "         3.0       1.00      0.75      0.86         4\n",
            "\n",
            "    accuracy                           0.93        14\n",
            "   macro avg       0.96      0.94      0.95        14\n",
            "weighted avg       0.94      0.93      0.93        14\n",
            "\n"
          ]
        }
      ]
    },
    {
      "cell_type": "markdown",
      "source": [
        "## SVM"
      ],
      "metadata": {
        "id": "deY5sy-6LNXg"
      }
    },
    {
      "cell_type": "code",
      "source": [
        "modelSVM= SVC(C = 100, gamma = 0.001, kernel = 'rbf')\n",
        "modelSVM.fit(X_train, Y_train)\n",
        "predictions = modelSVM.predict(X_validation)"
      ],
      "metadata": {
        "id": "dZzzzF8ALMaP"
      },
      "execution_count": null,
      "outputs": []
    },
    {
      "cell_type": "code",
      "source": [
        "print(accuracy_score(Y_train, modelSVM.predict(X_train)))\n",
        "print(accuracy_score(Y_validation, predictions))\n",
        "print(confusion_matrix(Y_validation, predictions))\n",
        "print(classification_report(Y_validation, predictions))"
      ],
      "metadata": {
        "colab": {
          "base_uri": "https://localhost:8080/"
        },
        "id": "EezCAFJNLMXm",
        "outputId": "d1828df0-45ba-4118-8ae8-e58700692691"
      },
      "execution_count": null,
      "outputs": [
        {
          "output_type": "stream",
          "name": "stdout",
          "text": [
            "0.9818181818181818\n",
            "0.7857142857142857\n",
            "[[1 0 0 0]\n",
            " [0 2 1 0]\n",
            " [0 2 4 0]\n",
            " [0 0 0 4]]\n",
            "              precision    recall  f1-score   support\n",
            "\n",
            "         0.0       1.00      1.00      1.00         1\n",
            "         1.0       0.50      0.67      0.57         3\n",
            "         2.0       0.80      0.67      0.73         6\n",
            "         3.0       1.00      1.00      1.00         4\n",
            "\n",
            "    accuracy                           0.79        14\n",
            "   macro avg       0.82      0.83      0.82        14\n",
            "weighted avg       0.81      0.79      0.79        14\n",
            "\n"
          ]
        }
      ]
    },
    {
      "cell_type": "markdown",
      "source": [
        "## ET"
      ],
      "metadata": {
        "id": "n4qItRDiLQzV"
      }
    },
    {
      "cell_type": "code",
      "source": [
        "modelET= ExtraTreesClassifier(n_estimators= 50)\n",
        "modelET.fit(X_train, Y_train)\n",
        "predictions = modelET.predict(X_validation)"
      ],
      "metadata": {
        "id": "nfm2wrMSLMUS"
      },
      "execution_count": null,
      "outputs": []
    },
    {
      "cell_type": "code",
      "source": [
        "print(accuracy_score(Y_train, modelET.predict(X_train)))\n",
        "print(accuracy_score(Y_validation, predictions))\n",
        "print(confusion_matrix(Y_validation, predictions))\n",
        "print(classification_report(Y_validation, predictions))"
      ],
      "metadata": {
        "colab": {
          "base_uri": "https://localhost:8080/"
        },
        "id": "8cCgVoMKLMRH",
        "outputId": "fd189535-e608-47f0-ae87-9dc5a27a9807"
      },
      "execution_count": null,
      "outputs": [
        {
          "output_type": "stream",
          "name": "stdout",
          "text": [
            "1.0\n",
            "0.6428571428571429\n",
            "[[1 0 0 0 0]\n",
            " [0 2 1 0 0]\n",
            " [0 1 4 1 0]\n",
            " [0 0 1 2 1]\n",
            " [0 0 0 0 0]]\n",
            "              precision    recall  f1-score   support\n",
            "\n",
            "         0.0       1.00      1.00      1.00         1\n",
            "         1.0       0.67      0.67      0.67         3\n",
            "         2.0       0.67      0.67      0.67         6\n",
            "         3.0       0.67      0.50      0.57         4\n",
            "         4.0       0.00      0.00      0.00         0\n",
            "\n",
            "    accuracy                           0.64        14\n",
            "   macro avg       0.60      0.57      0.58        14\n",
            "weighted avg       0.69      0.64      0.66        14\n",
            "\n"
          ]
        },
        {
          "output_type": "stream",
          "name": "stderr",
          "text": [
            "/usr/local/lib/python3.7/dist-packages/sklearn/metrics/_classification.py:1318: UndefinedMetricWarning: Recall and F-score are ill-defined and being set to 0.0 in labels with no true samples. Use `zero_division` parameter to control this behavior.\n",
            "  _warn_prf(average, modifier, msg_start, len(result))\n",
            "/usr/local/lib/python3.7/dist-packages/sklearn/metrics/_classification.py:1318: UndefinedMetricWarning: Recall and F-score are ill-defined and being set to 0.0 in labels with no true samples. Use `zero_division` parameter to control this behavior.\n",
            "  _warn_prf(average, modifier, msg_start, len(result))\n",
            "/usr/local/lib/python3.7/dist-packages/sklearn/metrics/_classification.py:1318: UndefinedMetricWarning: Recall and F-score are ill-defined and being set to 0.0 in labels with no true samples. Use `zero_division` parameter to control this behavior.\n",
            "  _warn_prf(average, modifier, msg_start, len(result))\n"
          ]
        }
      ]
    },
    {
      "cell_type": "markdown",
      "source": [
        "## RF"
      ],
      "metadata": {
        "id": "FeMYa7pZLSHX"
      }
    },
    {
      "cell_type": "code",
      "source": [
        "modelRF= RandomForestClassifier(n_estimators = 49)\n",
        "modelRF.fit(X_train, Y_train)\n",
        "predictions = modelRF.predict(X_validation)"
      ],
      "metadata": {
        "id": "HuKgFzBOLQZL"
      },
      "execution_count": null,
      "outputs": []
    },
    {
      "cell_type": "code",
      "source": [
        "print(accuracy_score(Y_train, modelRF.predict(X_train)))\n",
        "print(accuracy_score(Y_validation, predictions))\n",
        "print(confusion_matrix(Y_validation, predictions))\n",
        "print(classification_report(Y_validation, predictions))"
      ],
      "metadata": {
        "colab": {
          "base_uri": "https://localhost:8080/"
        },
        "id": "4NT9Mdi1LMIs",
        "outputId": "a2c5393e-58a1-45dd-f672-23ea9cc59410"
      },
      "execution_count": null,
      "outputs": [
        {
          "output_type": "stream",
          "name": "stdout",
          "text": [
            "1.0\n",
            "0.5\n",
            "[[1 0 0 0 0]\n",
            " [1 1 1 0 0]\n",
            " [0 0 4 2 0]\n",
            " [0 0 2 1 1]\n",
            " [0 0 0 0 0]]\n",
            "              precision    recall  f1-score   support\n",
            "\n",
            "         0.0       0.50      1.00      0.67         1\n",
            "         1.0       1.00      0.33      0.50         3\n",
            "         2.0       0.57      0.67      0.62         6\n",
            "         3.0       0.33      0.25      0.29         4\n",
            "         4.0       0.00      0.00      0.00         0\n",
            "\n",
            "    accuracy                           0.50        14\n",
            "   macro avg       0.48      0.45      0.41        14\n",
            "weighted avg       0.59      0.50      0.50        14\n",
            "\n"
          ]
        },
        {
          "output_type": "stream",
          "name": "stderr",
          "text": [
            "/usr/local/lib/python3.7/dist-packages/sklearn/metrics/_classification.py:1318: UndefinedMetricWarning: Recall and F-score are ill-defined and being set to 0.0 in labels with no true samples. Use `zero_division` parameter to control this behavior.\n",
            "  _warn_prf(average, modifier, msg_start, len(result))\n",
            "/usr/local/lib/python3.7/dist-packages/sklearn/metrics/_classification.py:1318: UndefinedMetricWarning: Recall and F-score are ill-defined and being set to 0.0 in labels with no true samples. Use `zero_division` parameter to control this behavior.\n",
            "  _warn_prf(average, modifier, msg_start, len(result))\n",
            "/usr/local/lib/python3.7/dist-packages/sklearn/metrics/_classification.py:1318: UndefinedMetricWarning: Recall and F-score are ill-defined and being set to 0.0 in labels with no true samples. Use `zero_division` parameter to control this behavior.\n",
            "  _warn_prf(average, modifier, msg_start, len(result))\n"
          ]
        }
      ]
    },
    {
      "cell_type": "markdown",
      "source": [
        "# Testing"
      ],
      "metadata": {
        "id": "-HCyEoU5DWjn"
      }
    },
    {
      "cell_type": "markdown",
      "source": [
        "## Prepare test dataset"
      ],
      "metadata": {
        "id": "OIPEQo14DaoX"
      }
    },
    {
      "cell_type": "code",
      "source": [
        "test = pd.read_excel('Love test.xlsx')\n",
        "test.head()"
      ],
      "metadata": {
        "colab": {
          "base_uri": "https://localhost:8080/",
          "height": 647
        },
        "id": "1I-tHQKKMdFD",
        "outputId": "ada21fa7-4fb8-4012-ce50-6b68b8b19c0c"
      },
      "execution_count": null,
      "outputs": [
        {
          "output_type": "execute_result",
          "data": {
            "text/plain": [
              "                1.0                  2.0              3.0  4.0            5.0  \\\n",
              "0  Đặng Thị Mai Hân           17/04/2004  Sinh viên năm 2   Nữ  Chưa xác định   \n",
              "1     Ngô Tuấn Khải  2003-09-12 00:00:00  Sinh viên năm 1  Nam          Không   \n",
              "2               NaN           27/08/2002  Sinh viên năm 2  Nam          Không   \n",
              "3               NaN  2002-07-05 00:00:00  Sinh viên năm 2   Nữ  Chưa xác định   \n",
              "4                Vũ           23/11/1998   Đã tốt nghiệp.  Nam          Không   \n",
              "\n",
              "                             6.0       7.0       8.0       9.0     1.0.1  ...  \\\n",
              "0  Vừa hướng nội vừa hướng ngoại  Một chút  Một chút  Một chút  Một chút  ...   \n",
              "1                      Hướng nội  Một chút  Một chút  Một chút     Không  ...   \n",
              "2             Chưa xác định được        Có        Có        Có  Một chút  ...   \n",
              "3  Vừa hướng nội vừa hướng ngoại     Không  Một chút        Có  Một chút  ...   \n",
              "4  Vừa hướng nội vừa hướng ngoại  Một chút  Một chút  Một chút     Không  ...   \n",
              "\n",
              "  2.0.3 3.0.3 4.0.3  5.0.3  6.0.3  7.0.3  8.0.3  9.0.3  1.0.4  2.0.4  \n",
              "0   1.0   1.0   1.0    1.0    2.0    2.0    0.0    3.0    1.0   12.0  \n",
              "1   1.0   1.0   1.0    1.0    2.0    1.0    1.0    2.0    0.0   10.0  \n",
              "2   2.0   2.0   2.0    3.0    2.0    2.0    2.0    2.0    3.0   20.0  \n",
              "3   1.0   2.0   1.0    1.0    1.0    1.0    1.0    1.0    1.0   10.0  \n",
              "4   2.0   2.0   1.0    2.0    1.0    1.0    2.0    1.0    1.0   13.0  \n",
              "\n",
              "[5 rows x 38 columns]"
            ],
            "text/html": [
              "\n",
              "  <div id=\"df-95d0cf0e-5154-44bf-ab46-110f372e7a5c\">\n",
              "    <div class=\"colab-df-container\">\n",
              "      <div>\n",
              "<style scoped>\n",
              "    .dataframe tbody tr th:only-of-type {\n",
              "        vertical-align: middle;\n",
              "    }\n",
              "\n",
              "    .dataframe tbody tr th {\n",
              "        vertical-align: top;\n",
              "    }\n",
              "\n",
              "    .dataframe thead th {\n",
              "        text-align: right;\n",
              "    }\n",
              "</style>\n",
              "<table border=\"1\" class=\"dataframe\">\n",
              "  <thead>\n",
              "    <tr style=\"text-align: right;\">\n",
              "      <th></th>\n",
              "      <th>1.0</th>\n",
              "      <th>2.0</th>\n",
              "      <th>3.0</th>\n",
              "      <th>4.0</th>\n",
              "      <th>5.0</th>\n",
              "      <th>6.0</th>\n",
              "      <th>7.0</th>\n",
              "      <th>8.0</th>\n",
              "      <th>9.0</th>\n",
              "      <th>1.0.1</th>\n",
              "      <th>...</th>\n",
              "      <th>2.0.3</th>\n",
              "      <th>3.0.3</th>\n",
              "      <th>4.0.3</th>\n",
              "      <th>5.0.3</th>\n",
              "      <th>6.0.3</th>\n",
              "      <th>7.0.3</th>\n",
              "      <th>8.0.3</th>\n",
              "      <th>9.0.3</th>\n",
              "      <th>1.0.4</th>\n",
              "      <th>2.0.4</th>\n",
              "    </tr>\n",
              "  </thead>\n",
              "  <tbody>\n",
              "    <tr>\n",
              "      <th>0</th>\n",
              "      <td>Đặng Thị Mai Hân</td>\n",
              "      <td>17/04/2004</td>\n",
              "      <td>Sinh viên năm 2</td>\n",
              "      <td>Nữ</td>\n",
              "      <td>Chưa xác định</td>\n",
              "      <td>Vừa hướng nội vừa hướng ngoại</td>\n",
              "      <td>Một chút</td>\n",
              "      <td>Một chút</td>\n",
              "      <td>Một chút</td>\n",
              "      <td>Một chút</td>\n",
              "      <td>...</td>\n",
              "      <td>1.0</td>\n",
              "      <td>1.0</td>\n",
              "      <td>1.0</td>\n",
              "      <td>1.0</td>\n",
              "      <td>2.0</td>\n",
              "      <td>2.0</td>\n",
              "      <td>0.0</td>\n",
              "      <td>3.0</td>\n",
              "      <td>1.0</td>\n",
              "      <td>12.0</td>\n",
              "    </tr>\n",
              "    <tr>\n",
              "      <th>1</th>\n",
              "      <td>Ngô Tuấn Khải</td>\n",
              "      <td>2003-09-12 00:00:00</td>\n",
              "      <td>Sinh viên năm 1</td>\n",
              "      <td>Nam</td>\n",
              "      <td>Không</td>\n",
              "      <td>Hướng nội</td>\n",
              "      <td>Một chút</td>\n",
              "      <td>Một chút</td>\n",
              "      <td>Một chút</td>\n",
              "      <td>Không</td>\n",
              "      <td>...</td>\n",
              "      <td>1.0</td>\n",
              "      <td>1.0</td>\n",
              "      <td>1.0</td>\n",
              "      <td>1.0</td>\n",
              "      <td>2.0</td>\n",
              "      <td>1.0</td>\n",
              "      <td>1.0</td>\n",
              "      <td>2.0</td>\n",
              "      <td>0.0</td>\n",
              "      <td>10.0</td>\n",
              "    </tr>\n",
              "    <tr>\n",
              "      <th>2</th>\n",
              "      <td>NaN</td>\n",
              "      <td>27/08/2002</td>\n",
              "      <td>Sinh viên năm 2</td>\n",
              "      <td>Nam</td>\n",
              "      <td>Không</td>\n",
              "      <td>Chưa xác định được</td>\n",
              "      <td>Có</td>\n",
              "      <td>Có</td>\n",
              "      <td>Có</td>\n",
              "      <td>Một chút</td>\n",
              "      <td>...</td>\n",
              "      <td>2.0</td>\n",
              "      <td>2.0</td>\n",
              "      <td>2.0</td>\n",
              "      <td>3.0</td>\n",
              "      <td>2.0</td>\n",
              "      <td>2.0</td>\n",
              "      <td>2.0</td>\n",
              "      <td>2.0</td>\n",
              "      <td>3.0</td>\n",
              "      <td>20.0</td>\n",
              "    </tr>\n",
              "    <tr>\n",
              "      <th>3</th>\n",
              "      <td>NaN</td>\n",
              "      <td>2002-07-05 00:00:00</td>\n",
              "      <td>Sinh viên năm 2</td>\n",
              "      <td>Nữ</td>\n",
              "      <td>Chưa xác định</td>\n",
              "      <td>Vừa hướng nội vừa hướng ngoại</td>\n",
              "      <td>Không</td>\n",
              "      <td>Một chút</td>\n",
              "      <td>Có</td>\n",
              "      <td>Một chút</td>\n",
              "      <td>...</td>\n",
              "      <td>1.0</td>\n",
              "      <td>2.0</td>\n",
              "      <td>1.0</td>\n",
              "      <td>1.0</td>\n",
              "      <td>1.0</td>\n",
              "      <td>1.0</td>\n",
              "      <td>1.0</td>\n",
              "      <td>1.0</td>\n",
              "      <td>1.0</td>\n",
              "      <td>10.0</td>\n",
              "    </tr>\n",
              "    <tr>\n",
              "      <th>4</th>\n",
              "      <td>Vũ</td>\n",
              "      <td>23/11/1998</td>\n",
              "      <td>Đã tốt nghiệp.</td>\n",
              "      <td>Nam</td>\n",
              "      <td>Không</td>\n",
              "      <td>Vừa hướng nội vừa hướng ngoại</td>\n",
              "      <td>Một chút</td>\n",
              "      <td>Một chút</td>\n",
              "      <td>Một chút</td>\n",
              "      <td>Không</td>\n",
              "      <td>...</td>\n",
              "      <td>2.0</td>\n",
              "      <td>2.0</td>\n",
              "      <td>1.0</td>\n",
              "      <td>2.0</td>\n",
              "      <td>1.0</td>\n",
              "      <td>1.0</td>\n",
              "      <td>2.0</td>\n",
              "      <td>1.0</td>\n",
              "      <td>1.0</td>\n",
              "      <td>13.0</td>\n",
              "    </tr>\n",
              "  </tbody>\n",
              "</table>\n",
              "<p>5 rows × 38 columns</p>\n",
              "</div>\n",
              "      <button class=\"colab-df-convert\" onclick=\"convertToInteractive('df-95d0cf0e-5154-44bf-ab46-110f372e7a5c')\"\n",
              "              title=\"Convert this dataframe to an interactive table.\"\n",
              "              style=\"display:none;\">\n",
              "        \n",
              "  <svg xmlns=\"http://www.w3.org/2000/svg\" height=\"24px\"viewBox=\"0 0 24 24\"\n",
              "       width=\"24px\">\n",
              "    <path d=\"M0 0h24v24H0V0z\" fill=\"none\"/>\n",
              "    <path d=\"M18.56 5.44l.94 2.06.94-2.06 2.06-.94-2.06-.94-.94-2.06-.94 2.06-2.06.94zm-11 1L8.5 8.5l.94-2.06 2.06-.94-2.06-.94L8.5 2.5l-.94 2.06-2.06.94zm10 10l.94 2.06.94-2.06 2.06-.94-2.06-.94-.94-2.06-.94 2.06-2.06.94z\"/><path d=\"M17.41 7.96l-1.37-1.37c-.4-.4-.92-.59-1.43-.59-.52 0-1.04.2-1.43.59L10.3 9.45l-7.72 7.72c-.78.78-.78 2.05 0 2.83L4 21.41c.39.39.9.59 1.41.59.51 0 1.02-.2 1.41-.59l7.78-7.78 2.81-2.81c.8-.78.8-2.07 0-2.86zM5.41 20L4 18.59l7.72-7.72 1.47 1.35L5.41 20z\"/>\n",
              "  </svg>\n",
              "      </button>\n",
              "      \n",
              "  <style>\n",
              "    .colab-df-container {\n",
              "      display:flex;\n",
              "      flex-wrap:wrap;\n",
              "      gap: 12px;\n",
              "    }\n",
              "\n",
              "    .colab-df-convert {\n",
              "      background-color: #E8F0FE;\n",
              "      border: none;\n",
              "      border-radius: 50%;\n",
              "      cursor: pointer;\n",
              "      display: none;\n",
              "      fill: #1967D2;\n",
              "      height: 32px;\n",
              "      padding: 0 0 0 0;\n",
              "      width: 32px;\n",
              "    }\n",
              "\n",
              "    .colab-df-convert:hover {\n",
              "      background-color: #E2EBFA;\n",
              "      box-shadow: 0px 1px 2px rgba(60, 64, 67, 0.3), 0px 1px 3px 1px rgba(60, 64, 67, 0.15);\n",
              "      fill: #174EA6;\n",
              "    }\n",
              "\n",
              "    [theme=dark] .colab-df-convert {\n",
              "      background-color: #3B4455;\n",
              "      fill: #D2E3FC;\n",
              "    }\n",
              "\n",
              "    [theme=dark] .colab-df-convert:hover {\n",
              "      background-color: #434B5C;\n",
              "      box-shadow: 0px 1px 3px 1px rgba(0, 0, 0, 0.15);\n",
              "      filter: drop-shadow(0px 1px 2px rgba(0, 0, 0, 0.3));\n",
              "      fill: #FFFFFF;\n",
              "    }\n",
              "  </style>\n",
              "\n",
              "      <script>\n",
              "        const buttonEl =\n",
              "          document.querySelector('#df-95d0cf0e-5154-44bf-ab46-110f372e7a5c button.colab-df-convert');\n",
              "        buttonEl.style.display =\n",
              "          google.colab.kernel.accessAllowed ? 'block' : 'none';\n",
              "\n",
              "        async function convertToInteractive(key) {\n",
              "          const element = document.querySelector('#df-95d0cf0e-5154-44bf-ab46-110f372e7a5c');\n",
              "          const dataTable =\n",
              "            await google.colab.kernel.invokeFunction('convertToInteractive',\n",
              "                                                     [key], {});\n",
              "          if (!dataTable) return;\n",
              "\n",
              "          const docLinkHtml = 'Like what you see? Visit the ' +\n",
              "            '<a target=\"_blank\" href=https://colab.research.google.com/notebooks/data_table.ipynb>data table notebook</a>'\n",
              "            + ' to learn more about interactive tables.';\n",
              "          element.innerHTML = '';\n",
              "          dataTable['output_type'] = 'display_data';\n",
              "          await google.colab.output.renderOutput(dataTable, element);\n",
              "          const docLink = document.createElement('div');\n",
              "          docLink.innerHTML = docLinkHtml;\n",
              "          element.appendChild(docLink);\n",
              "        }\n",
              "      </script>\n",
              "    </div>\n",
              "  </div>\n",
              "  "
            ]
          },
          "metadata": {},
          "execution_count": 12
        }
      ]
    },
    {
      "cell_type": "code",
      "source": [
        "test.columns = ['Name', 'DoB', 'Job', 'Sex', 'LGBT', 'a1', 'a2', 'a3', 'a4', 'a5', 'a6', 'a7', 'a8', \n",
        "                'b1', 'b2', 'b3', 'b4', 'b5', 'b6', 'b7', 'b8', 'b9', 'b10', 'b11', 'b12', 'b13', 'b14', 'b15',\n",
        "                'c1', 'c2', 'c3', 'c4', 'c5', 'c6', 'c7', 'c8', 'c9', 'Total']"
      ],
      "metadata": {
        "id": "xRn6L2byDmuX"
      },
      "execution_count": null,
      "outputs": []
    },
    {
      "cell_type": "code",
      "source": [
        "# Change values in total column to the rate of depression. Normal - Minimal - Mild - Medium - Severe.\n",
        "test.Total = test.Total.replace({1: 0, 2: 0, 3: 0, 4: 0,\n",
        "                                 5: 1, 6: 1, 7: 1, 8: 1, 9: 1,\n",
        "                                 10: 2, 11: 2, 12: 2, 13: 2, 14: 2,\n",
        "                                 15: 3, 16: 3, 17: 3, 18: 3, 19: 3,\n",
        "                                 20: 4, 21: 4, 22: 4, 23: 4, 24: 4, 25: 4, 26: 4, 27: 4})\n",
        "\n",
        "test.a4 = test.a4.replace({'Có': 1, 'Một chút': 0.5, 'Không': 0})\n",
        "\n",
        "# Question (B)\n",
        "test.b15 = test.b15.replace({'Chưa từng': 0, 'Một - hai lần': 1, 'Khoảng năm lần': 2, 'Khoảng 10 lần': 3, 'Rất nhiều': 4, 'Mỗi ngày': 5})\n",
        "\n",
        "test = test.drop(columns=[ 'Name', 'DoB','a7', 'a8','a1','a2','a3','a4','a5','a6','LGBT','Sex',\n",
        "                          'Job','b3','b4','b7','b8','b9','b10','b11','b13','b14','b15'])"
      ],
      "metadata": {
        "id": "RIOzxUcMDmps"
      },
      "execution_count": null,
      "outputs": []
    },
    {
      "cell_type": "code",
      "source": [
        "array = test.values\n",
        "x = array[:,0:14]\n",
        "y = array[:,14]"
      ],
      "metadata": {
        "id": "j-PirdHsD3wM"
      },
      "execution_count": null,
      "outputs": []
    },
    {
      "cell_type": "markdown",
      "source": [
        "## Test dataset"
      ],
      "metadata": {
        "id": "0HluoagNFFex"
      }
    },
    {
      "cell_type": "markdown",
      "source": [
        "### LDA"
      ],
      "metadata": {
        "id": "UIkDBWMkFImT"
      }
    },
    {
      "cell_type": "code",
      "source": [
        "modelLDA = LinearDiscriminantAnalysis(shrinkage=0.1, solver='lsqr')\n",
        "modelLDA.fit(X_train, Y_train)\n",
        "predictions = modelLDA.predict(x)"
      ],
      "metadata": {
        "id": "qBLoMGCFDmle"
      },
      "execution_count": null,
      "outputs": []
    },
    {
      "cell_type": "code",
      "source": [
        "print(accuracy_score(y, predictions))\n",
        "print(confusion_matrix(y, predictions))\n",
        "print(classification_report(y, predictions))"
      ],
      "metadata": {
        "id": "jLtQraFyFKUg",
        "colab": {
          "base_uri": "https://localhost:8080/"
        },
        "outputId": "bf4e9193-419e-48b4-e4b5-8eb2f38f812c"
      },
      "execution_count": null,
      "outputs": [
        {
          "output_type": "stream",
          "name": "stdout",
          "text": [
            "0.8695652173913043\n",
            "[[2 0 0 0 0]\n",
            " [0 6 0 0 0]\n",
            " [0 2 6 0 0]\n",
            " [0 0 0 1 0]\n",
            " [0 0 0 1 5]]\n",
            "              precision    recall  f1-score   support\n",
            "\n",
            "         0.0       1.00      1.00      1.00         2\n",
            "         1.0       0.75      1.00      0.86         6\n",
            "         2.0       1.00      0.75      0.86         8\n",
            "         3.0       0.50      1.00      0.67         1\n",
            "         4.0       1.00      0.83      0.91         6\n",
            "\n",
            "    accuracy                           0.87        23\n",
            "   macro avg       0.85      0.92      0.86        23\n",
            "weighted avg       0.91      0.87      0.87        23\n",
            "\n"
          ]
        }
      ]
    },
    {
      "cell_type": "code",
      "source": [
        "from sklearn.metrics import confusion_matrix, ConfusionMatrixDisplay, plot_confusion_matrix\n",
        "\n",
        "cm = confusion_matrix(y, predictions, labels=modelLDA.classes_)\n",
        "disp = ConfusionMatrixDisplay(confusion_matrix=cm,display_labels=modelLDA.classes_)\n",
        "t=disp.plot()\n",
        "plt.show()"
      ],
      "metadata": {
        "colab": {
          "base_uri": "https://localhost:8080/",
          "height": 283
        },
        "id": "zCVN1j5-Oby0",
        "outputId": "1316a338-9f76-4093-836f-860ddb5f6712"
      },
      "execution_count": null,
      "outputs": [
        {
          "output_type": "display_data",
          "data": {
            "text/plain": [
              "<Figure size 432x288 with 2 Axes>"
            ],
            "image/png": "[encoded data removed]"
          },
          "metadata": {
            "needs_background": "light"
          }
        }
      ]
    },
    {
      "cell_type": "markdown",
      "source": [
        "### SVM"
      ],
      "metadata": {
        "id": "NEz_v_5bFKrG"
      }
    },
    {
      "cell_type": "code",
      "source": [
        "modelSVM= SVC(C = 100, gamma = 0.001, kernel = 'rbf')\n",
        "modelSVM.fit(X_train, Y_train)\n",
        "predictions = modelSVM.predict(x)"
      ],
      "metadata": {
        "id": "JtP2uK2pFM4v"
      },
      "execution_count": null,
      "outputs": []
    },
    {
      "cell_type": "code",
      "source": [
        "print(accuracy_score(y, predictions))\n",
        "print(confusion_matrix(y, predictions))\n",
        "print(classification_report(y, predictions))"
      ],
      "metadata": {
        "id": "4K9EaVfRFM1-",
        "colab": {
          "base_uri": "https://localhost:8080/"
        },
        "outputId": "480bdf7a-0e58-4520-de08-73f561fa828d"
      },
      "execution_count": null,
      "outputs": [
        {
          "output_type": "stream",
          "name": "stdout",
          "text": [
            "0.8260869565217391\n",
            "[[2 0 0 0 0]\n",
            " [0 6 0 0 0]\n",
            " [0 1 7 0 0]\n",
            " [0 0 0 1 0]\n",
            " [0 0 0 3 3]]\n",
            "              precision    recall  f1-score   support\n",
            "\n",
            "         0.0       1.00      1.00      1.00         2\n",
            "         1.0       0.86      1.00      0.92         6\n",
            "         2.0       1.00      0.88      0.93         8\n",
            "         3.0       0.25      1.00      0.40         1\n",
            "         4.0       1.00      0.50      0.67         6\n",
            "\n",
            "    accuracy                           0.83        23\n",
            "   macro avg       0.82      0.88      0.78        23\n",
            "weighted avg       0.93      0.83      0.84        23\n",
            "\n"
          ]
        }
      ]
    },
    {
      "cell_type": "markdown",
      "source": [
        "### ET"
      ],
      "metadata": {
        "id": "nn5nxCbpFOBf"
      }
    },
    {
      "cell_type": "code",
      "source": [
        "modelET= ExtraTreesClassifier(n_estimators= 50)\n",
        "modelET.fit(X_train, Y_train)\n",
        "predictions = modelET.predict(x)"
      ],
      "metadata": {
        "id": "RnmGEvEaFMzS"
      },
      "execution_count": null,
      "outputs": []
    },
    {
      "cell_type": "code",
      "source": [
        "print(accuracy_score(y, predictions))\n",
        "print(confusion_matrix(y, predictions))\n",
        "print(classification_report(y, predictions))"
      ],
      "metadata": {
        "id": "oSnoSfmqFMwP"
      },
      "execution_count": null,
      "outputs": []
    },
    {
      "cell_type": "markdown",
      "source": [
        "### RF"
      ],
      "metadata": {
        "id": "DJxlGSqtFPL6"
      }
    },
    {
      "cell_type": "code",
      "source": [
        "modelRF= RandomForestClassifier(n_estimators = 49)\n",
        "modelRF.fit(x,y)\n",
        "predictions = modelRF.predict(x)"
      ],
      "metadata": {
        "id": "wp-cI3wVFMtD"
      },
      "execution_count": null,
      "outputs": []
    },
    {
      "cell_type": "code",
      "source": [
        "print(accuracy_score(y, predictions))\n",
        "print(confusion_matrix(y, predictions))\n",
        "print(classification_report(y, predictions))"
      ],
      "metadata": {
        "id": "Sm-krrBMFMM7"
      },
      "execution_count": null,
      "outputs": []
    },
    {
      "cell_type": "code",
      "source": [],
      "metadata": {
        "id": "x6f5q6qjGy5g"
      },
      "execution_count": null,
      "outputs": []
    }
  ]
}